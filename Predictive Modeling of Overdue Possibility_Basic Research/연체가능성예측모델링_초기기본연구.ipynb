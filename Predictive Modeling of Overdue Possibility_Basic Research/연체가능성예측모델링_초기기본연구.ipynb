{
 "cells": [
  {
   "cell_type": "markdown",
   "metadata": {},
   "source": [
    "# 연체가능성 예측"
   ]
  },
  {
   "cell_type": "code",
   "execution_count": 5,
   "metadata": {},
   "outputs": [
    {
     "name": "stdout",
     "output_type": "stream",
     "text": [
      "데이터 세트 Null 값 개수 168426\n"
     ]
    }
   ],
   "source": [
    "practice_df['신용등급'].fillna(practice_df['신용등급'].mean(), inplace=True)\n",
    "print('데이터 세트 Null 값 개수', practice_df.isnull().sum().sum())"
   ]
  },
  {
   "cell_type": "code",
   "execution_count": 7,
   "metadata": {},
   "outputs": [],
   "source": [
    "practice_df.drop(['상품세분류명'], axis='columns', inplace=True)"
   ]
  },
  {
   "cell_type": "code",
   "execution_count": 8,
   "metadata": {},
   "outputs": [
    {
     "name": "stdout",
     "output_type": "stream",
     "text": [
      "\n",
      " ### 학습 데이터 정보 ### \n",
      "\n",
      "<class 'pandas.core.frame.DataFrame'>\n",
      "RangeIndex: 16518 entries, 0 to 16517\n",
      "Columns: 105 entries, 지점코드 to 기한이익상실여부01\n",
      "dtypes: float64(11), int64(22), object(72)\n",
      "memory usage: 13.2+ MB\n",
      "None\n"
     ]
    }
   ],
   "source": [
    "# 로딩된 데이터 칼럼 타입 확인\n",
    "print('\\n ### 학습 데이터 정보 ### \\n')\n",
    "print(practice_df.info())"
   ]
  },
  {
   "cell_type": "code",
   "execution_count": 10,
   "metadata": {},
   "outputs": [
    {
     "data": {
      "text/plain": [
       "원금연체회차  이자연체회차  기한이익상실여부\n",
       "0       0       N           15164\n",
       "                Y              20\n",
       "        1       N             154\n",
       "                Y               6\n",
       "        2       N               6\n",
       "                Y              58\n",
       "        3       N               1\n",
       "                Y              74\n",
       "        4       Y              45\n",
       "        5       Y              60\n",
       "        6       Y              38\n",
       "        7       Y              40\n",
       "        8       Y              35\n",
       "        9       Y              38\n",
       "        10      Y              36\n",
       "        11      Y              49\n",
       "        12      Y              55\n",
       "        13      Y              26\n",
       "        14      Y              39\n",
       "        15      Y               5\n",
       "        16      Y               6\n",
       "        17      Y               3\n",
       "        18      Y               1\n",
       "        19      Y               3\n",
       "        20      Y               2\n",
       "        22      Y               2\n",
       "        27      Y               2\n",
       "1       0       Y               8\n",
       "        1       N              85\n",
       "                Y              12\n",
       "        2       Y               2\n",
       "        4       Y               1\n",
       "        5       Y               1\n",
       "        9       Y               1\n",
       "        10      Y               1\n",
       "2       0       Y               3\n",
       "        1       Y               1\n",
       "        2       Y              33\n",
       "        3       Y               3\n",
       "        5       Y               2\n",
       "        8       Y               1\n",
       "        9       Y               1\n",
       "3       0       Y               2\n",
       "        3       Y              26\n",
       "        4       Y               1\n",
       "        6       Y               1\n",
       "        8       Y               1\n",
       "        9       Y               1\n",
       "        10      Y               1\n",
       "        11      Y               2\n",
       "4       4       Y              27\n",
       "        5       Y               3\n",
       "        6       Y               5\n",
       "        8       Y               1\n",
       "        10      Y               1\n",
       "        11      Y               1\n",
       "        12      Y               1\n",
       "5       5       Y              23\n",
       "        6       Y               2\n",
       "        7       Y               1\n",
       "        10      Y               1\n",
       "        11      Y               2\n",
       "        12      Y               1\n",
       "6       0       Y               1\n",
       "        6       Y              29\n",
       "        7       Y               1\n",
       "        9       Y               2\n",
       "7       0       Y               2\n",
       "        1       Y               1\n",
       "        3       Y               1\n",
       "        7       Y              36\n",
       "        12      Y               3\n",
       "8       0       Y               1\n",
       "        1       Y               1\n",
       "        8       Y              27\n",
       "        10      Y               2\n",
       "        12      Y               2\n",
       "9       0       Y               1\n",
       "        1       Y               1\n",
       "        9       Y              25\n",
       "        11      Y               1\n",
       "        12      Y               2\n",
       "10      0       Y               1\n",
       "        8       Y               1\n",
       "        10      Y              18\n",
       "        12      Y               2\n",
       "11      1       Y               1\n",
       "        6       Y               1\n",
       "        11      Y              30\n",
       "12      7       Y               1\n",
       "        12      Y              37\n",
       "        13      Y               1\n",
       "        15      Y               1\n",
       "13      3       Y               1\n",
       "        8       Y               1\n",
       "        13      Y              22\n",
       "14      3       Y               1\n",
       "        14      Y               5\n",
       "        23      Y               1\n",
       "15      0       Y               2\n",
       "        15      Y               4\n",
       "16      10      Y               1\n",
       "        16      Y               5\n",
       "17      3       Y               1\n",
       "        17      Y               2\n",
       "19      19      Y               1\n",
       "20      20      Y               1\n",
       "21      21      Y               1\n",
       "25      25      Y               1\n",
       "33      4       Y               1\n",
       "36      1       Y               1\n",
       "39      2       Y               1\n",
       "43      19      Y               1\n",
       "46      45      Y               1\n",
       "64      25      Y               1\n",
       "79      6       Y               1\n",
       "82      27      Y               1\n",
       "Name: 기한이익상실여부, dtype: int64"
      ]
     },
     "execution_count": 10,
     "metadata": {},
     "output_type": "execute_result"
    }
   ],
   "source": [
    "practice_df.groupby(['원금연체회차','이자연체회차', '기한이익상실여부'])['기한이익상실여부'].count()"
   ]
  },
  {
   "cell_type": "code",
   "execution_count": 11,
   "metadata": {
    "scrolled": true
   },
   "outputs": [
    {
     "data": {
      "text/plain": [
       "이자연체회차  기한이익상실여부\n",
       "0       N           15164\n",
       "        Y              41\n",
       "1       N             239\n",
       "        Y              24\n",
       "2       N               6\n",
       "        Y              94\n",
       "3       N               1\n",
       "        Y             107\n",
       "4       Y              75\n",
       "5       Y              89\n",
       "6       Y              77\n",
       "7       Y              79\n",
       "8       Y              67\n",
       "9       Y              68\n",
       "10      Y              61\n",
       "11      Y              85\n",
       "12      Y             103\n",
       "13      Y              49\n",
       "14      Y              44\n",
       "15      Y              10\n",
       "16      Y              11\n",
       "17      Y               5\n",
       "18      Y               1\n",
       "19      Y               5\n",
       "20      Y               3\n",
       "21      Y               1\n",
       "22      Y               2\n",
       "23      Y               1\n",
       "25      Y               2\n",
       "27      Y               3\n",
       "45      Y               1\n",
       "Name: 기한이익상실여부, dtype: int64"
      ]
     },
     "execution_count": 11,
     "metadata": {},
     "output_type": "execute_result"
    }
   ],
   "source": [
    "practice_df.groupby(['이자연체회차', '기한이익상실여부'])['기한이익상실여부'].count()"
   ]
  },
  {
   "cell_type": "code",
   "execution_count": 12,
   "metadata": {},
   "outputs": [
    {
     "data": {
      "text/plain": [
       "성별구분  기한이익상실여부01\n",
       "남성    0             7812\n",
       "      1              584\n",
       "여성    0             7598\n",
       "      1              524\n",
       "Name: 기한이익상실여부01, dtype: int64"
      ]
     },
     "execution_count": 12,
     "metadata": {},
     "output_type": "execute_result"
    }
   ],
   "source": [
    "practice_df.groupby(['성별구분','기한이익상실여부01'])['기한이익상실여부01'].count()\n",
    "# 기한이익상실여부의 0이 N, 1이 Y"
   ]
  },
  {
   "cell_type": "code",
   "execution_count": 13,
   "metadata": {},
   "outputs": [
    {
     "data": {
      "text/plain": [
       "<matplotlib.axes._subplots.AxesSubplot at 0xbb316c8>"
      ]
     },
     "execution_count": 13,
     "metadata": {},
     "output_type": "execute_result"
    },
    {
     "data": {
      "image/png": "[encoded data removed]",
      "text/plain": [
       "<Figure size 432x288 with 1 Axes>"
      ]
     },
     "metadata": {
      "needs_background": "light"
     },
     "output_type": "display_data"
    }
   ],
   "source": [
    "sns.barplot(x='성별구분', y = '기한이익상실여부01', data=practice_df)"
   ]
  },
  {
   "cell_type": "code",
   "execution_count": 14,
   "metadata": {},
   "outputs": [
    {
     "data": {
      "image/png": "[encoded data removed]",
      "text/plain": [
       "<Figure size 432x288 with 2 Axes>"
      ]
     },
     "metadata": {
      "needs_background": "light"
     },
     "output_type": "display_data"
    }
   ],
   "source": [
    "# Seaborn그리기. X 축에 'Sex'칼럼, Y 축에 'Survived' 칼럼, 데이터로 DataFrame 객체명 입력\n",
    "practice_df_size = practice_df.pivot_table(\n",
    "    index='기한이익상실여부', columns='성별구분', aggfunc='size')\n",
    "practice_df_size\n",
    "\n",
    "sns.heatmap(practice_df_size, cmap=sns.light_palette(\n",
    "    \"gray\", as_cmap=True), annot=True, fmt=\"d\")\n",
    "plt.title(\"Heatmap\")\n",
    "plt.show()"
   ]
  },
  {
   "cell_type": "code",
   "execution_count": 15,
   "metadata": {},
   "outputs": [
    {
     "data": {
      "image/png": "[encoded data removed]",
      "text/plain": [
       "<Figure size 432x288 with 3 Axes>"
      ]
     },
     "metadata": {
      "needs_background": "light"
     },
     "output_type": "display_data"
    }
   ],
   "source": [
    "mosaic(practice_df.sort_values('성별구분'),['기한이익상실여부', '성별구분'],\n",
    "      title='dasf')\n",
    "plt.show()"
   ]
  },
  {
   "cell_type": "code",
   "execution_count": 16,
   "metadata": {},
   "outputs": [],
   "source": [
    "# 칼럼을 다른 칼럼으로 생성복사\n",
    "#practice_df['기한이익상실여부01']=practice_df['기한이익상실여부'].apply(lambda x: x)"
   ]
  },
  {
   "cell_type": "code",
   "execution_count": 17,
   "metadata": {
    "scrolled": true
   },
   "outputs": [
    {
     "data": {
      "text/plain": [
       "<matplotlib.axes._subplots.AxesSubplot at 0xd392e08>"
      ]
     },
     "execution_count": 17,
     "metadata": {},
     "output_type": "execute_result"
    },
    {
     "data": {
      "image/png": "[encoded data removed]",
      "text/plain": [
       "<Figure size 432x288 with 1 Axes>"
      ]
     },
     "metadata": {
      "needs_background": "light"
     },
     "output_type": "display_data"
    }
   ],
   "source": [
    "practice_df.groupby(['신용등급', '성별구분', '기한이익상실여부01'])['기한이익상실여부01'].count()\n",
    "sns.barplot(x='신용등급',y='기한이익상실여부01',hue='성별구분', data=practice_df)"
   ]
  },
  {
   "cell_type": "code",
   "execution_count": 18,
   "metadata": {},
   "outputs": [
    {
     "data": {
      "text/plain": [
       "<matplotlib.axes._subplots.AxesSubplot at 0xcd4b0c8>"
      ]
     },
     "execution_count": 18,
     "metadata": {},
     "output_type": "execute_result"
    },
    {
     "data": {
      "image/png": "[encoded data removed]",
      "text/plain": [
       "<Figure size 432x288 with 1 Axes>"
      ]
     },
     "metadata": {
      "needs_background": "light"
     },
     "output_type": "display_data"
    }
   ],
   "source": [
    "practice_df.groupby(['이자연체회차', '원금연체회차', '기한이익상실여부01'])['기한이익상실여부01'].count()\n",
    "sns.barplot(x='이자연체회차',y='원금연체회차',hue='기한이익상실여부', data=practice_df, palette='Set3')"
   ]
  },
  {
   "cell_type": "code",
   "execution_count": 19,
   "metadata": {},
   "outputs": [
    {
     "data": {
      "image/png": "[encoded data removed]",
      "text/plain": [
       "<Figure size 432x288 with 1 Axes>"
      ]
     },
     "metadata": {
      "needs_background": "light"
     },
     "output_type": "display_data"
    }
   ],
   "source": [
    "practice_df.groupby(['이자연체회차', '원금연체회차', '기한이익상실여부01'])['기한이익상실여부01'].count()\n",
    "sns.boxplot(x='이자연체회차',y='원금연체회차',hue='기한이익상실여부', data=practice_df)\n",
    "plt.show()"
   ]
  },
  {
   "cell_type": "code",
   "execution_count": 20,
   "metadata": {},
   "outputs": [
    {
     "data": {
      "text/plain": [
       "<seaborn.axisgrid.FacetGrid at 0xd4e9948>"
      ]
     },
     "execution_count": 20,
     "metadata": {},
     "output_type": "execute_result"
    },
    {
     "data": {
      "image/png": "[encoded data removed]",
      "text/plain": [
       "<Figure size 448x360 with 1 Axes>"
      ]
     },
     "metadata": {
      "needs_background": "light"
     },
     "output_type": "display_data"
    }
   ],
   "source": [
    "practice_df.groupby(['이자연체회차', '원금연체회차', '기한이익상실여부01'])['기한이익상실여부01'].count()\n",
    "sns.lmplot(x='이자연체회차',y='원금연체회차',hue='기한이익상실여부', data=practice_df, palette='Set2')"
   ]
  },
  {
   "cell_type": "code",
   "execution_count": 21,
   "metadata": {
    "scrolled": true
   },
   "outputs": [
    {
     "name": "stderr",
     "output_type": "stream",
     "text": [
      "C:\\ProgramData\\Anaconda3\\lib\\site-packages\\seaborn\\axisgrid.py:230: UserWarning: The `size` paramter has been renamed to `height`; please update your code.\n",
      "  warnings.warn(msg, UserWarning)\n",
      "C:\\ProgramData\\Anaconda3\\lib\\site-packages\\seaborn\\axisgrid.py:715: UserWarning: Using the boxplot function without specifying `order` is likely to produce an incorrect plot.\n",
      "  warnings.warn(warning)\n",
      "C:\\ProgramData\\Anaconda3\\lib\\site-packages\\seaborn\\axisgrid.py:720: UserWarning: Using the boxplot function without specifying `hue_order` is likely to produce an incorrect plot.\n",
      "  warnings.warn(warning)\n"
     ]
    },
    {
     "data": {
      "image/png": "[encoded data removed]",
      "text/plain": [
       "<Figure size 592x360 with 2 Axes>"
      ]
     },
     "metadata": {
      "needs_background": "light"
     },
     "output_type": "display_data"
    }
   ],
   "source": [
    "g=sns.FacetGrid(practice_df, col=\"성별구분\", size=5, aspect=.7)\n",
    "(g.map(sns.boxplot, \"이자연체회차\", \"원금연체회차\", \"기한이익상실여부\").despine(left=True).add_legend(title=\"기한이익상실여부\"))\n",
    "plt.show()"
   ]
  },
  {
   "cell_type": "code",
   "execution_count": 22,
   "metadata": {
    "scrolled": true
   },
   "outputs": [
    {
     "name": "stderr",
     "output_type": "stream",
     "text": [
      "C:\\ProgramData\\Anaconda3\\lib\\site-packages\\seaborn\\axisgrid.py:230: UserWarning: The `size` paramter has been renamed to `height`; please update your code.\n",
      "  warnings.warn(msg, UserWarning)\n",
      "C:\\ProgramData\\Anaconda3\\lib\\site-packages\\seaborn\\axisgrid.py:715: UserWarning: Using the boxplot function without specifying `order` is likely to produce an incorrect plot.\n",
      "  warnings.warn(warning)\n",
      "C:\\ProgramData\\Anaconda3\\lib\\site-packages\\seaborn\\axisgrid.py:720: UserWarning: Using the boxplot function without specifying `hue_order` is likely to produce an incorrect plot.\n",
      "  warnings.warn(warning)\n"
     ]
    },
    {
     "data": {
      "image/png": "[encoded data removed]",
      "text/plain": [
       "<Figure size 572x360 with 2 Axes>"
      ]
     },
     "metadata": {
      "needs_background": "light"
     },
     "output_type": "display_data"
    }
   ],
   "source": [
    "g=sns.FacetGrid(practice_df, col=\"기한이익상실여부\", size=5, aspect=.7)\n",
    "(g.map(sns.boxplot, \"신용등급\", \"원금연체회차\", \"이자연체회차\").despine(left=True).add_legend(title=\"이자연체회차\"))\n",
    "plt.show()"
   ]
  },
  {
   "cell_type": "code",
   "execution_count": 23,
   "metadata": {
    "scrolled": true
   },
   "outputs": [
    {
     "data": {
      "text/plain": [
       "<seaborn.axisgrid.FacetGrid at 0xd4c9c48>"
      ]
     },
     "execution_count": 23,
     "metadata": {},
     "output_type": "execute_result"
    },
    {
     "data": {
      "image/png": "[encoded data removed]",
      "text/plain": [
       "<Figure size 448x360 with 1 Axes>"
      ]
     },
     "metadata": {
      "needs_background": "light"
     },
     "output_type": "display_data"
    }
   ],
   "source": [
    "sns.lmplot(x='신용등급',y='이자연체회차',hue='기한이익상실여부', data=practice_df, palette='Set2')"
   ]
  },
  {
   "cell_type": "code",
   "execution_count": 24,
   "metadata": {},
   "outputs": [
    {
     "data": {
      "text/plain": [
       "상품명        기한이익상실여부01\n",
       "e-예적금담보대출  0                15\n",
       "가계종합통장대출   0                46\n",
       "           1                 2\n",
       "소비자금융      0                13\n",
       "           1                 8\n",
       "소액신용대출1    0             12061\n",
       "           1              1020\n",
       "소액신용대출2    0              2578\n",
       "           1                 4\n",
       "예적금담보대출    0                18\n",
       "일반자금대출     0               679\n",
       "           1                73\n",
       "햇살론        1                 1\n",
       "Name: 기한이익상실여부01, dtype: int64"
      ]
     },
     "execution_count": 24,
     "metadata": {},
     "output_type": "execute_result"
    }
   ],
   "source": [
    "practice_df.groupby(['상품명','기한이익상실여부01'])['기한이익상실여부01'].count()\n",
    "# 기한이익상실여부의 0이 N, 1이 Y"
   ]
  },
  {
   "cell_type": "code",
   "execution_count": 25,
   "metadata": {
    "scrolled": true
   },
   "outputs": [
    {
     "name": "stderr",
     "output_type": "stream",
     "text": [
      "C:\\ProgramData\\Anaconda3\\lib\\site-packages\\seaborn\\axisgrid.py:230: UserWarning: The `size` paramter has been renamed to `height`; please update your code.\n",
      "  warnings.warn(msg, UserWarning)\n",
      "C:\\ProgramData\\Anaconda3\\lib\\site-packages\\seaborn\\axisgrid.py:715: UserWarning: Using the barplot function without specifying `order` is likely to produce an incorrect plot.\n",
      "  warnings.warn(warning)\n",
      "C:\\ProgramData\\Anaconda3\\lib\\site-packages\\seaborn\\axisgrid.py:720: UserWarning: Using the barplot function without specifying `hue_order` is likely to produce an incorrect plot.\n",
      "  warnings.warn(warning)\n"
     ]
    },
    {
     "data": {
      "image/png": "[encoded data removed]",
      "text/plain": [
       "<Figure size 1096x720 with 2 Axes>"
      ]
     },
     "metadata": {
      "needs_background": "light"
     },
     "output_type": "display_data"
    }
   ],
   "source": [
    "h = sns.FacetGrid(practice_df, col='담보명', size=10, aspect=.7)\n",
    "(h.map(sns.barplot, '신용등급', '상품명', '기한이익상실여부').despine(left=True).add_legend(title=\"기한이익상실여부\"))\n",
    "plt.show()"
   ]
  },
  {
   "cell_type": "code",
   "execution_count": 27,
   "metadata": {},
   "outputs": [
    {
     "data": {
      "text/plain": [
       "<matplotlib.axes._subplots.AxesSubplot at 0xf102088>"
      ]
     },
     "execution_count": 27,
     "metadata": {},
     "output_type": "execute_result"
    },
    {
     "data": {
      "image/png": "[encoded data removed]",
      "text/plain": [
       "<Figure size 432x288 with 1 Axes>"
      ]
     },
     "metadata": {
      "needs_background": "light"
     },
     "output_type": "display_data"
    }
   ],
   "source": [
    "sns.barplot(x='기한이익상실여부01',y='상품명', hue='담보명', data=practice_df, palette='Set1')"
   ]
  },
  {
   "cell_type": "markdown",
   "metadata": {},
   "source": [
    "practice = practice_df.pivot(\"신용등급\", \"상품명\", \"이자연체회차\")\n",
    "practice.head(5)"
   ]
  },
  {
   "cell_type": "markdown",
   "metadata": {
    "scrolled": true
   },
   "source": [
    "pivot1=practice_df.groupby(['상품명','신용등급','기한이익상실여부01'])['기한이익상실여부01'].count()\n",
    "pivot1\n",
    "\n",
    "plt.figure(figsize=(20,20))\n",
    "sns.heatmap(pivot1)\n",
    "plt.show()"
   ]
  },
  {
   "cell_type": "markdown",
   "metadata": {},
   "source": [
    "sns.pairplot(iris, vars=['신용등급','상품명','기한이익상실여부01'])"
   ]
  },
  {
   "cell_type": "markdown",
   "metadata": {
    "scrolled": false
   },
   "source": [
    "from sklearn import preprocessing # 전처리\n",
    "def encode_features(dataDF): # 여러 칼럼을 해당 함수를 새로 생성해 한 번에 변환함.\n",
    "    features = ['상품명', '성별구분','다음원금납입일자']\n",
    "    for feature in features:\n",
    "        le = preprocessing.LabelEncoder()\n",
    "        le = le.fit(dataDF[feature])\n",
    "        dataDF[feature] = le.transform(dataDF[feature])\n",
    "        \n",
    "    return dataDF\n",
    "\n",
    "practice_df = encode_features(practice_df)\n",
    "practice_df.tail(10)"
   ]
  },
  {
   "cell_type": "code",
   "execution_count": 30,
   "metadata": {
    "scrolled": true
   },
   "outputs": [
    {
     "data": {
      "text/plain": [
       "성별구분  다음원금납입일자\n",
       "남성    20121223    1\n",
       "      20151231    1\n",
       "      20160522    1\n",
       "      20160721    1\n",
       "      20161018    1\n",
       "                 ..\n",
       "여성    20240624    4\n",
       "      20240625    4\n",
       "      20240626    4\n",
       "      20240627    3\n",
       "      20240628    7\n",
       "Name: 성별구분, Length: 2738, dtype: int64"
      ]
     },
     "execution_count": 30,
     "metadata": {},
     "output_type": "execute_result"
    }
   ],
   "source": [
    "practice_df.groupby(['성별구분','다음원금납입일자',])['성별구분'].count()"
   ]
  },
  {
   "cell_type": "markdown",
   "metadata": {},
   "source": [
    "# 데이터 전처리 수행 함수 제작 후 원본데이터 가공"
   ]
  },
  {
   "cell_type": "markdown",
   "metadata": {},
   "source": [
    "# 원본 데이터를 재로딩하고, 피처 데이터 세트와 레이블 데이터 세트 추출.\n",
    "practice_df3 = pd.read_csv('./practice.csv')\n",
    "y_practice_df3 = practice_df3['기한이익상실여부']   # 레이블 데이터 세트\n",
    "X_practice_df3 = practice_df3.drop('기한이익상실여부', axis=1)"
   ]
  },
  {
   "cell_type": "markdown",
   "metadata": {},
   "source": [
    "practice_df3.dtypes"
   ]
  },
  {
   "cell_type": "markdown",
   "metadata": {},
   "source": [
    "\n",
    "from sklearn import preprocessing # 전처리\n",
    "def encode_features(dataDF): # 여러 칼럼을 해당 함수를 새로 생성해 한 번에 변환함.\n",
    "    features = ['과목명','상품명', '성별구분','생일/사업자','담보명','상환방법','자금용도구분코드','보정이자구분','기한이익상실여부']\n",
    "    for feature in features:\n",
    "        le = preprocessing.LabelEncoder()\n",
    "        le = le.fit(dataDF[feature])\n",
    "        dataDF[feature] = le.transform(dataDF[feature])\n",
    "        \n",
    "    return dataDF\n",
    "\n",
    "X_practice_df3 = encode_features(practice_df3)\n",
    "X_practice_df3.head()\n"
   ]
  },
  {
   "cell_type": "markdown",
   "metadata": {},
   "source": [
    "X_practice_df3.head()"
   ]
  },
  {
   "cell_type": "markdown",
   "metadata": {},
   "source": [
    "# 아래부터 시작아래부터 시작아래부터 시작\n",
    "# 아래부터 시작아래부터 시작아래부터 시작\n",
    "# 아래부터 시작아래부터 시작아래부터 시작\n",
    "# 아래부터 시작아래부터 시작아래부터 시작\n",
    "# 아래부터 시작아래부터 시작아래부터 시작\n",
    "# 아래부터 시작아래부터 시작아래부터 시작\n",
    "# 아래부터 시작아래부터 시작아래부터 시작"
   ]
  },
  {
   "cell_type": "code",
   "execution_count": 85,
   "metadata": {},
   "outputs": [],
   "source": [
    "#########################################################################################################\n",
    "from sklearn import preprocessing\n",
    "\n",
    "# 머신러닝 알고리즘에 불필요한 속성 제거\n",
    "def drop_features(df):\n",
    "    df.drop(['담보명',  '연체료'], axis=1, inplace=True)\n",
    "    return df\n",
    "\n",
    "\n",
    "def format_features(df): # 여러 칼럼을 해당 함수를 새로 생성해 한 번에 변환함.\n",
    "    features = ['과목명', '상품명', '성별구분','상환방법', '상품분류', '실행금액', '대출잔액','정상이자']\n",
    "    for feature in features:\n",
    "        le = preprocessing.LabelEncoder()\n",
    "        le = le.fit(df[feature])\n",
    "        df[feature] = le.transform(df[feature])\n",
    "    return df\n",
    "\n",
    "\n",
    "# 앞에서 설정한 데이터전처리 함수 호출\n",
    "def transform_features(df):\n",
    "    df = drop_features(df)\n",
    "    df = format_features(df)\n",
    "    return df\n",
    "\n",
    "#########################################################################################################"
   ]
  },
  {
   "cell_type": "code",
   "execution_count": 86,
   "metadata": {},
   "outputs": [],
   "source": [
    "# 원본 데이터를 재로딩하고, 피처 데이터 세트와 레이블 데이터 세트 추출.\n",
    "practice_df = pd.read_csv('./practice.csv')\n",
    "y_practice_df = practice_df['기한이익상실여부01']   # 레이블 데이터 세트\n",
    "X_practice_df = practice_df.drop('기한이익상실여부01', axis=1)\n",
    "\n",
    "X_practice_df = transform_features(X_practice_df) # 피처 데이터 세트. 위의 전처리 함수 사용으로 필요한 데이터만 추출"
   ]
  },
  {
   "cell_type": "code",
   "execution_count": 87,
   "metadata": {
    "scrolled": false
   },
   "outputs": [
    {
     "data": {
      "text/plain": [
       "과목명         int32\n",
       "상품명         int32\n",
       "성별구분        int32\n",
       "나이          int64\n",
       "계약기간월       int64\n",
       "정상이율      float64\n",
       "상환방법        int32\n",
       "이자진행회차      int64\n",
       "이자연체회차      int64\n",
       "원금연체회차      int64\n",
       "상품분류        int32\n",
       "실행금액        int32\n",
       "대출잔액        int32\n",
       "연체이율      float64\n",
       "정상이자        int32\n",
       "신용등급        int64\n",
       "dtype: object"
      ]
     },
     "execution_count": 87,
     "metadata": {},
     "output_type": "execute_result"
    }
   ],
   "source": [
    "X_practice_df.dtypes"
   ]
  },
  {
   "cell_type": "code",
   "execution_count": 88,
   "metadata": {},
   "outputs": [
    {
     "data": {
      "text/html": [
       "<div>\n",
       "<style scoped>\n",
       "    .dataframe tbody tr th:only-of-type {\n",
       "        vertical-align: middle;\n",
       "    }\n",
       "\n",
       "    .dataframe tbody tr th {\n",
       "        vertical-align: top;\n",
       "    }\n",
       "\n",
       "    .dataframe thead th {\n",
       "        text-align: right;\n",
       "    }\n",
       "</style>\n",
       "<table border=\"1\" class=\"dataframe\">\n",
       "  <thead>\n",
       "    <tr style=\"text-align: right;\">\n",
       "      <th></th>\n",
       "      <th>과목명</th>\n",
       "      <th>상품명</th>\n",
       "      <th>성별구분</th>\n",
       "      <th>나이</th>\n",
       "      <th>계약기간월</th>\n",
       "      <th>정상이율</th>\n",
       "      <th>상환방법</th>\n",
       "      <th>이자진행회차</th>\n",
       "      <th>이자연체회차</th>\n",
       "      <th>원금연체회차</th>\n",
       "      <th>상품분류</th>\n",
       "      <th>실행금액</th>\n",
       "      <th>대출잔액</th>\n",
       "      <th>연체이율</th>\n",
       "      <th>정상이자</th>\n",
       "      <th>신용등급</th>\n",
       "    </tr>\n",
       "  </thead>\n",
       "  <tbody>\n",
       "    <tr>\n",
       "      <td>0</td>\n",
       "      <td>0</td>\n",
       "      <td>5</td>\n",
       "      <td>1</td>\n",
       "      <td>66</td>\n",
       "      <td>7</td>\n",
       "      <td>4.65</td>\n",
       "      <td>2</td>\n",
       "      <td>2</td>\n",
       "      <td>0</td>\n",
       "      <td>0</td>\n",
       "      <td>7</td>\n",
       "      <td>407</td>\n",
       "      <td>5513</td>\n",
       "      <td>4.65</td>\n",
       "      <td>1864</td>\n",
       "      <td>5</td>\n",
       "    </tr>\n",
       "    <tr>\n",
       "      <td>1</td>\n",
       "      <td>1</td>\n",
       "      <td>6</td>\n",
       "      <td>0</td>\n",
       "      <td>46</td>\n",
       "      <td>12</td>\n",
       "      <td>12.00</td>\n",
       "      <td>2</td>\n",
       "      <td>12</td>\n",
       "      <td>0</td>\n",
       "      <td>0</td>\n",
       "      <td>6</td>\n",
       "      <td>448</td>\n",
       "      <td>6161</td>\n",
       "      <td>15.00</td>\n",
       "      <td>4680</td>\n",
       "      <td>5</td>\n",
       "    </tr>\n",
       "    <tr>\n",
       "      <td>2</td>\n",
       "      <td>1</td>\n",
       "      <td>6</td>\n",
       "      <td>0</td>\n",
       "      <td>46</td>\n",
       "      <td>12</td>\n",
       "      <td>8.60</td>\n",
       "      <td>2</td>\n",
       "      <td>12</td>\n",
       "      <td>0</td>\n",
       "      <td>0</td>\n",
       "      <td>6</td>\n",
       "      <td>485</td>\n",
       "      <td>7357</td>\n",
       "      <td>11.60</td>\n",
       "      <td>4757</td>\n",
       "      <td>5</td>\n",
       "    </tr>\n",
       "    <tr>\n",
       "      <td>3</td>\n",
       "      <td>1</td>\n",
       "      <td>6</td>\n",
       "      <td>1</td>\n",
       "      <td>42</td>\n",
       "      <td>24</td>\n",
       "      <td>8.60</td>\n",
       "      <td>2</td>\n",
       "      <td>28</td>\n",
       "      <td>5</td>\n",
       "      <td>4</td>\n",
       "      <td>6</td>\n",
       "      <td>222</td>\n",
       "      <td>2484</td>\n",
       "      <td>11.60</td>\n",
       "      <td>2423</td>\n",
       "      <td>7</td>\n",
       "    </tr>\n",
       "    <tr>\n",
       "      <td>4</td>\n",
       "      <td>1</td>\n",
       "      <td>6</td>\n",
       "      <td>1</td>\n",
       "      <td>42</td>\n",
       "      <td>24</td>\n",
       "      <td>11.00</td>\n",
       "      <td>2</td>\n",
       "      <td>28</td>\n",
       "      <td>5</td>\n",
       "      <td>4</td>\n",
       "      <td>6</td>\n",
       "      <td>458</td>\n",
       "      <td>6651</td>\n",
       "      <td>14.00</td>\n",
       "      <td>34</td>\n",
       "      <td>7</td>\n",
       "    </tr>\n",
       "  </tbody>\n",
       "</table>\n",
       "</div>"
      ],
      "text/plain": [
       "   과목명  상품명  성별구분  나이  계약기간월   정상이율  상환방법  이자진행회차  이자연체회차  원금연체회차  상품분류  실행금액  \\\n",
       "0    0    5     1  66      7   4.65     2       2       0       0     7   407   \n",
       "1    1    6     0  46     12  12.00     2      12       0       0     6   448   \n",
       "2    1    6     0  46     12   8.60     2      12       0       0     6   485   \n",
       "3    1    6     1  42     24   8.60     2      28       5       4     6   222   \n",
       "4    1    6     1  42     24  11.00     2      28       5       4     6   458   \n",
       "\n",
       "   대출잔액   연체이율  정상이자  신용등급  \n",
       "0  5513   4.65  1864     5  \n",
       "1  6161  15.00  4680     5  \n",
       "2  7357  11.60  4757     5  \n",
       "3  2484  11.60  2423     7  \n",
       "4  6651  14.00    34     7  "
      ]
     },
     "execution_count": 88,
     "metadata": {},
     "output_type": "execute_result"
    }
   ],
   "source": [
    "X_practice_df.head()"
   ]
  },
  {
   "cell_type": "code",
   "execution_count": 89,
   "metadata": {},
   "outputs": [],
   "source": [
    "###################### 여기까지 전처리 종료 #####################\n",
    "###################### 여기까지 전처리 종료 #####################\n",
    "###################### 여기까지 전처리 종료 #####################\n",
    "###################### 여기까지 전처리 종료 #####################\n",
    "###################### 여기까지 전처리 종료 #####################\n",
    "###################### 여기까지 전처리 종료 #####################\n",
    "###################### 여기까지 전처리 종료 #####################"
   ]
  },
  {
   "cell_type": "markdown",
   "metadata": {},
   "source": [
    "## train_test_split() API를 이용해 별도의 테스트 데이터 세트 추출 20%로."
   ]
  },
  {
   "cell_type": "code",
   "execution_count": 90,
   "metadata": {},
   "outputs": [],
   "source": [
    "from sklearn.model_selection import train_test_split\n",
    "# X_train, X_test, y_train, y_test = train_test_split(X_practice_df, y_practice_df, test_size=0.2, random_state=13, stratify=y_practice_df) # test 데이터가 20%\n",
    "X_train, X_test, y_train, y_test = train_test_split(X_practice_df, y_practice_df, test_size=0.2, random_state=13)"
   ]
  },
  {
   "cell_type": "code",
   "execution_count": 91,
   "metadata": {},
   "outputs": [
    {
     "name": "stdout",
     "output_type": "stream",
     "text": [
      "DecisionTreeClassifier 정확도: 0.9967\n",
      "RandomForestClassifier 정확도: 0.9973\n"
     ]
    },
    {
     "name": "stderr",
     "output_type": "stream",
     "text": [
      "C:\\ProgramData\\Anaconda3\\lib\\site-packages\\sklearn\\ensemble\\forest.py:245: FutureWarning: The default value of n_estimators will change from 10 in version 0.20 to 100 in 0.22.\n",
      "  \"10 in version 0.20 to 100 in 0.22.\", FutureWarning)\n",
      "C:\\ProgramData\\Anaconda3\\lib\\site-packages\\sklearn\\linear_model\\logistic.py:432: FutureWarning: Default solver will be changed to 'lbfgs' in 0.22. Specify a solver to silence this warning.\n",
      "  FutureWarning)\n"
     ]
    },
    {
     "name": "stdout",
     "output_type": "stream",
     "text": [
      "LogisticRegression 정확도: 0.9936\n"
     ]
    }
   ],
   "source": [
    "from sklearn.tree import DecisionTreeClassifier\n",
    "from sklearn.ensemble import RandomForestClassifier\n",
    "from sklearn.linear_model import LogisticRegression\n",
    "from sklearn.metrics import accuracy_score\n",
    "\n",
    "\n",
    "# 결정트리, 랜덤 포레스트, 로지스틱 회귀를 위한 사이킷런 Classifier 클래스 생성\n",
    "dt_clf = DecisionTreeClassifier(random_state=13)\n",
    "rf_clf = RandomForestClassifier(random_state=13)\n",
    "lr_clf = LogisticRegression()\n",
    "\n",
    "\n",
    "# 결정트리 학습/예측/평가\n",
    "dt_clf.fit(X_train, y_train)\n",
    "dt_pred = dt_clf.predict(X_test)\n",
    "print('DecisionTreeClassifier 정확도: {0:.4f}'.format(accuracy_score(y_test, dt_pred)))\n",
    "\n",
    "\n",
    "# 랜덤 포레스트 학습/예측/평가\n",
    "rf_clf.fit(X_train, y_train)\n",
    "rf_pred = rf_clf.predict(X_test)\n",
    "print('RandomForestClassifier 정확도: {0:.4f}'.format(accuracy_score(y_test, rf_pred)))\n",
    "\n",
    "\n",
    "# 로지스틱 회귀 학습/예측/평가\n",
    "lr_clf.fit(X_train, y_train)\n",
    "lr_pred = lr_clf.predict(X_test)\n",
    "print('LogisticRegression 정확도: {0:.4f}'.format(accuracy_score(y_test, lr_pred)))"
   ]
  },
  {
   "cell_type": "markdown",
   "metadata": {},
   "source": [
    "# 위의 것들 중 로지스틱 회귀만 기준으로 오차행렬, 정확도, 정밀도, 재현율, F1 스코어, ROC AUC 스코어 구함\n",
    "\n",
    "## 기한이익상실여부01의 0/1 개수 우선 계산.."
   ]
  },
  {
   "cell_type": "code",
   "execution_count": 93,
   "metadata": {},
   "outputs": [],
   "source": [
    "# 앞서 구현한 get_clf_eval() 함수에 ROC AUC 값을 구하는 로직을 추가해 임곗값 변화시키며 평가지표 구함.\n",
    "\n",
    "\n",
    "def get_clf_eval(y_test, pred):\n",
    "    confusion = confusion_matrix(y_test, lr_pred)   # 오차행렬\n",
    "    accuracy = accuracy_score(y_test,lr_pred)  # 정확도\n",
    "    precision = precision_score(y_test,lr_pred) # 정밀도\n",
    "    recall = recall_score(y_test,lr_pred) # 재현율\n",
    "    f1 = f1_score(y_test, lr_pred)    # F1 스코어 추가\n",
    "    roc_score = roc_auc_score(y_test, lr_pred)  # ROC AUC 값 추가\n",
    "    print('오차 행렬')\n",
    "    print(confusion)\n",
    "    # 모든 Score 출력\n",
    "    print('정확도: {0:.4f}, 정밀도: {1:.4f}, 재현율: {2:.4f}, F1: {3:.4f}, ROC AUC: {4:.4f}'.format(accuracy, precision, recall, f1, roc_score))\n",
    "    \n",
    "    \n",
    "# 로지스틱 회귀 학습/예측/평가\n",
    "# lr_clf.fit(X_train, y_train)\n",
    "# lr_pred = lr_clf.predict(X_test)\n",
    "# print('LogisticRegression 정확도: {0:.4f}'.format(accuracy_score(y_test, lr_pred)))\n",
    "    \n",
    "#thresholds = [0.4, 0.45, 0.5, 0.55, 0.60]\n",
    "#pred_proba = lr_clf.predict_proba(X_test)  # 피쳐들의 예측값\n",
    "#get_eval_by_threshold(y_test, pred_proba[:, 1].reshape(-1, 1), thresholds)"
   ]
  },
  {
   "cell_type": "code",
   "execution_count": 94,
   "metadata": {},
   "outputs": [
    {
     "name": "stdout",
     "output_type": "stream",
     "text": [
      "오차 행렬\n",
      "[[3066    2]\n",
      " [  19  217]]\n",
      "정확도: 0.9936, 정밀도: 0.9909, 재현율: 0.9195, F1: 0.9538, ROC AUC: 0.9594\n"
     ]
    }
   ],
   "source": [
    "# 위의 것들 중 로지스틱 회귀만 기준으로 오차행렬, 정확도, 정밀도, 재현율, F1 스코어, ROC AUC 스코어 구함\n",
    "get_clf_eval(y_test, lr_pred)"
   ]
  },
  {
   "cell_type": "markdown",
   "metadata": {},
   "source": [
    "# 지표 값 조정에 앞서서 데이터 값을 점검 (피쳐 값 분포도로 살펴본다)"
   ]
  },
  {
   "cell_type": "code",
   "execution_count": 95,
   "metadata": {},
   "outputs": [
    {
     "data": {
      "text/html": [
       "<div>\n",
       "<style scoped>\n",
       "    .dataframe tbody tr th:only-of-type {\n",
       "        vertical-align: middle;\n",
       "    }\n",
       "\n",
       "    .dataframe tbody tr th {\n",
       "        vertical-align: top;\n",
       "    }\n",
       "\n",
       "    .dataframe thead th {\n",
       "        text-align: right;\n",
       "    }\n",
       "</style>\n",
       "<table border=\"1\" class=\"dataframe\">\n",
       "  <thead>\n",
       "    <tr style=\"text-align: right;\">\n",
       "      <th></th>\n",
       "      <th>과목명</th>\n",
       "      <th>상품명</th>\n",
       "      <th>성별구분</th>\n",
       "      <th>나이</th>\n",
       "      <th>계약기간월</th>\n",
       "      <th>정상이율</th>\n",
       "      <th>상환방법</th>\n",
       "      <th>이자진행회차</th>\n",
       "      <th>이자연체회차</th>\n",
       "      <th>원금연체회차</th>\n",
       "      <th>상품분류</th>\n",
       "      <th>실행금액</th>\n",
       "      <th>대출잔액</th>\n",
       "      <th>연체이율</th>\n",
       "      <th>정상이자</th>\n",
       "      <th>신용등급</th>\n",
       "    </tr>\n",
       "  </thead>\n",
       "  <tbody>\n",
       "    <tr>\n",
       "      <td>count</td>\n",
       "      <td>16518.000000</td>\n",
       "      <td>16518.000000</td>\n",
       "      <td>16518.000000</td>\n",
       "      <td>16518.000000</td>\n",
       "      <td>16518.000000</td>\n",
       "      <td>16518.000000</td>\n",
       "      <td>16518.000000</td>\n",
       "      <td>16518.000000</td>\n",
       "      <td>16518.000000</td>\n",
       "      <td>16518.000000</td>\n",
       "      <td>16518.000000</td>\n",
       "      <td>16518.000000</td>\n",
       "      <td>16518.000000</td>\n",
       "      <td>16518.000000</td>\n",
       "      <td>16518.000000</td>\n",
       "      <td>16518.000000</td>\n",
       "    </tr>\n",
       "    <tr>\n",
       "      <td>mean</td>\n",
       "      <td>1.000908</td>\n",
       "      <td>3.285507</td>\n",
       "      <td>0.491706</td>\n",
       "      <td>26.855854</td>\n",
       "      <td>53.472212</td>\n",
       "      <td>23.826376</td>\n",
       "      <td>1.702688</td>\n",
       "      <td>26.702627</td>\n",
       "      <td>0.519252</td>\n",
       "      <td>0.233019</td>\n",
       "      <td>3.307725</td>\n",
       "      <td>321.290834</td>\n",
       "      <td>4038.731868</td>\n",
       "      <td>25.350986</td>\n",
       "      <td>3951.003451</td>\n",
       "      <td>5.080034</td>\n",
       "    </tr>\n",
       "    <tr>\n",
       "      <td>std</td>\n",
       "      <td>0.070023</td>\n",
       "      <td>0.714816</td>\n",
       "      <td>0.499946</td>\n",
       "      <td>6.543430</td>\n",
       "      <td>13.931541</td>\n",
       "      <td>4.404357</td>\n",
       "      <td>0.457221</td>\n",
       "      <td>15.220013</td>\n",
       "      <td>2.233662</td>\n",
       "      <td>1.852595</td>\n",
       "      <td>0.761378</td>\n",
       "      <td>159.118052</td>\n",
       "      <td>2276.784621</td>\n",
       "      <td>3.861908</td>\n",
       "      <td>2737.786786</td>\n",
       "      <td>0.947051</td>\n",
       "    </tr>\n",
       "    <tr>\n",
       "      <td>min</td>\n",
       "      <td>0.000000</td>\n",
       "      <td>0.000000</td>\n",
       "      <td>0.000000</td>\n",
       "      <td>19.000000</td>\n",
       "      <td>0.000000</td>\n",
       "      <td>2.000000</td>\n",
       "      <td>0.000000</td>\n",
       "      <td>0.000000</td>\n",
       "      <td>0.000000</td>\n",
       "      <td>0.000000</td>\n",
       "      <td>0.000000</td>\n",
       "      <td>0.000000</td>\n",
       "      <td>0.000000</td>\n",
       "      <td>4.300000</td>\n",
       "      <td>0.000000</td>\n",
       "      <td>1.000000</td>\n",
       "    </tr>\n",
       "    <tr>\n",
       "      <td>25%</td>\n",
       "      <td>1.000000</td>\n",
       "      <td>3.000000</td>\n",
       "      <td>0.000000</td>\n",
       "      <td>23.000000</td>\n",
       "      <td>60.000000</td>\n",
       "      <td>19.900000</td>\n",
       "      <td>1.000000</td>\n",
       "      <td>18.000000</td>\n",
       "      <td>0.000000</td>\n",
       "      <td>0.000000</td>\n",
       "      <td>3.000000</td>\n",
       "      <td>195.250000</td>\n",
       "      <td>1883.250000</td>\n",
       "      <td>22.900000</td>\n",
       "      <td>1457.250000</td>\n",
       "      <td>5.000000</td>\n",
       "    </tr>\n",
       "    <tr>\n",
       "      <td>50%</td>\n",
       "      <td>1.000000</td>\n",
       "      <td>3.000000</td>\n",
       "      <td>0.000000</td>\n",
       "      <td>25.000000</td>\n",
       "      <td>60.000000</td>\n",
       "      <td>24.000000</td>\n",
       "      <td>2.000000</td>\n",
       "      <td>26.000000</td>\n",
       "      <td>0.000000</td>\n",
       "      <td>0.000000</td>\n",
       "      <td>3.000000</td>\n",
       "      <td>430.000000</td>\n",
       "      <td>4348.000000</td>\n",
       "      <td>27.000000</td>\n",
       "      <td>3901.500000</td>\n",
       "      <td>5.000000</td>\n",
       "    </tr>\n",
       "    <tr>\n",
       "      <td>75%</td>\n",
       "      <td>1.000000</td>\n",
       "      <td>3.000000</td>\n",
       "      <td>1.000000</td>\n",
       "      <td>28.000000</td>\n",
       "      <td>60.000000</td>\n",
       "      <td>27.600000</td>\n",
       "      <td>2.000000</td>\n",
       "      <td>38.000000</td>\n",
       "      <td>0.000000</td>\n",
       "      <td>0.000000</td>\n",
       "      <td>3.000000</td>\n",
       "      <td>430.000000</td>\n",
       "      <td>5699.750000</td>\n",
       "      <td>27.900000</td>\n",
       "      <td>6444.750000</td>\n",
       "      <td>6.000000</td>\n",
       "    </tr>\n",
       "    <tr>\n",
       "      <td>max</td>\n",
       "      <td>2.000000</td>\n",
       "      <td>7.000000</td>\n",
       "      <td>1.000000</td>\n",
       "      <td>89.000000</td>\n",
       "      <td>120.000000</td>\n",
       "      <td>29.000000</td>\n",
       "      <td>2.000000</td>\n",
       "      <td>115.000000</td>\n",
       "      <td>45.000000</td>\n",
       "      <td>82.000000</td>\n",
       "      <td>11.000000</td>\n",
       "      <td>511.000000</td>\n",
       "      <td>7822.000000</td>\n",
       "      <td>32.000000</td>\n",
       "      <td>8488.000000</td>\n",
       "      <td>10.000000</td>\n",
       "    </tr>\n",
       "  </tbody>\n",
       "</table>\n",
       "</div>"
      ],
      "text/plain": [
       "                과목명           상품명          성별구분            나이         계약기간월  \\\n",
       "count  16518.000000  16518.000000  16518.000000  16518.000000  16518.000000   \n",
       "mean       1.000908      3.285507      0.491706     26.855854     53.472212   \n",
       "std        0.070023      0.714816      0.499946      6.543430     13.931541   \n",
       "min        0.000000      0.000000      0.000000     19.000000      0.000000   \n",
       "25%        1.000000      3.000000      0.000000     23.000000     60.000000   \n",
       "50%        1.000000      3.000000      0.000000     25.000000     60.000000   \n",
       "75%        1.000000      3.000000      1.000000     28.000000     60.000000   \n",
       "max        2.000000      7.000000      1.000000     89.000000    120.000000   \n",
       "\n",
       "               정상이율          상환방법        이자진행회차        이자연체회차        원금연체회차  \\\n",
       "count  16518.000000  16518.000000  16518.000000  16518.000000  16518.000000   \n",
       "mean      23.826376      1.702688     26.702627      0.519252      0.233019   \n",
       "std        4.404357      0.457221     15.220013      2.233662      1.852595   \n",
       "min        2.000000      0.000000      0.000000      0.000000      0.000000   \n",
       "25%       19.900000      1.000000     18.000000      0.000000      0.000000   \n",
       "50%       24.000000      2.000000     26.000000      0.000000      0.000000   \n",
       "75%       27.600000      2.000000     38.000000      0.000000      0.000000   \n",
       "max       29.000000      2.000000    115.000000     45.000000     82.000000   \n",
       "\n",
       "               상품분류          실행금액          대출잔액          연체이율          정상이자  \\\n",
       "count  16518.000000  16518.000000  16518.000000  16518.000000  16518.000000   \n",
       "mean       3.307725    321.290834   4038.731868     25.350986   3951.003451   \n",
       "std        0.761378    159.118052   2276.784621      3.861908   2737.786786   \n",
       "min        0.000000      0.000000      0.000000      4.300000      0.000000   \n",
       "25%        3.000000    195.250000   1883.250000     22.900000   1457.250000   \n",
       "50%        3.000000    430.000000   4348.000000     27.000000   3901.500000   \n",
       "75%        3.000000    430.000000   5699.750000     27.900000   6444.750000   \n",
       "max       11.000000    511.000000   7822.000000     32.000000   8488.000000   \n",
       "\n",
       "               신용등급  \n",
       "count  16518.000000  \n",
       "mean       5.080034  \n",
       "std        0.947051  \n",
       "min        1.000000  \n",
       "25%        5.000000  \n",
       "50%        5.000000  \n",
       "75%        6.000000  \n",
       "max       10.000000  "
      ]
     },
     "execution_count": 95,
     "metadata": {},
     "output_type": "execute_result"
    }
   ],
   "source": [
    "X_practice_df.describe()"
   ]
  },
  {
   "cell_type": "markdown",
   "metadata": {},
   "source": [
    "# 정밀도와 재현율을 시각화, ROC AUC도 시각화"
   ]
  },
  {
   "cell_type": "markdown",
   "metadata": {},
   "source": [
    "pred_proba = lr_clf.predict_proba(X_test) # 개별 데이터별로 예측 확률을 반환하는 메서드인 predict_proba()로 예측 확률 확인과, \n",
    "                                          # Binarizer로 임곗값 조정\n",
    "pred = lr_clf.predict(X_test)\n",
    "print('pred_proba()결과 Shape : {0}'.format(pred_proba.shape))\n",
    "print('pred_proba array에서 앞 3개만 샘플로 추출 \\n:', pred_proba[:3])\n",
    "\n",
    "# 예측 확률 array와 예측 결괏값 array를 병합(concatenate)해 예측 확률과 결괏값을 한눈에 확인\n",
    "pred_proba_result = np.concatenate([pred_proba, pred.reshape(-1, 1)], axis=1)\n",
    "print('두 개의 class 중에서 더 큰 확률을 클래스 값으로 예측 \\n', pred_proba_result[:3])"
   ]
  },
  {
   "cell_type": "markdown",
   "metadata": {},
   "source": [
    "from sklearn.preprocessing import Binarizer\n",
    "\n",
    "# 테스트를 수행할 모든 임곗값을 리스트 객체로 저장.\n",
    "thresholds = [0,10, 0,15, 0.3, 0.35, 0.40, 0.45, 0.50, 0.55, 0.60, 0.9]\n",
    "\n",
    "def get_eval_by_threshold(y_test, pred_proba_c1, thresholds):   # pred_proba_c1 새로이 추가\n",
    "    # thresholds list객체 내의 값을 차례로 iteration(반복)하면서 Evauation 수행.\n",
    "    for custom_threshold in thresholds:\n",
    "        binarizer = Binarizer(threshold=custom_threshold).fit(pred_proba_c1)  # fit으로 x_test 값에 해당하는 pred_proba_c1 사용\n",
    "        custom_predict = binarizer.transform(pred_proba_c1)\n",
    "        print('임곗값:', custom_threshold)\n",
    "        get_clf_eval(y_test, custom_predict)\n",
    "        \n",
    "get_eval_by_threshold(y_test, pred_proba[:, 1].reshape(-1, 1), thresholds)   # 값 반환."
   ]
  },
  {
   "cell_type": "code",
   "execution_count": 105,
   "metadata": {},
   "outputs": [],
   "source": [
    "# 정밀도와 재현율 시각화\n",
    "\n",
    "import matplotlib.pyplot as plt\n",
    "import matplotlib.ticker as ticker\n",
    "%matplotlib inline\n",
    "\n",
    "def precision_recall_curve_plot(y_test, pred_proba_c1):\n",
    "    # threshold ndarray와 이 threshold에 따른 정밀도, 재현율 ndarray 추출.\n",
    "    precisions, recalls, thresholds = precision_recall_curve( y_test, pred_proba_c1 )\n",
    "    \n",
    "    # X축을 threshold 값으로, Y축은 정밀도, 재현율 값으로 각각 Plot 수행.\n",
    "    plt.figure(figsize=(8, 6))\n",
    "    threshold_boundary = thresholds.shape[0]\n",
    "    plt.plot(thresholds, precisions[0:threshold_boundary], linestyle='--', label='precision') # 정밀도는 점선으로 표시\n",
    "    plt.plot(thresholds, recalls[0:threshold_boundary], label='recall')\n",
    "    \n",
    "    \n",
    "    # threshold 값 X 축의 Scale을 0.1 단위로 변경\n",
    "    start, end = plt.xlim()\n",
    "    plt.xticks(np.round(np.arange(start, end, 0.1), 2))\n",
    "    \n",
    "    \n",
    "    # x축, y축 label과 legend, 그리고 grid 설정\n",
    "    plt.xlabel('Threshold value'); plt.ylabel('Precision and Recall value')\n",
    "    plt.legend(); plt.grid()\n",
    "    plt.show()\n",
    "    \n",
    "#precision_recall_curve_plot( y_test, lr_clf.predict_proba(X_test)[:,1])  # [:,1] 는 index 범위 지정"
   ]
  },
  {
   "cell_type": "code",
   "execution_count": 109,
   "metadata": {},
   "outputs": [
    {
     "name": "stderr",
     "output_type": "stream",
     "text": [
      "C:\\ProgramData\\Anaconda3\\lib\\site-packages\\matplotlib\\backends\\backend_agg.py:211: RuntimeWarning: Glyph 8722 missing from current font.\n",
      "  font.set_text(s, 0.0, flags=flags)\n",
      "C:\\ProgramData\\Anaconda3\\lib\\site-packages\\matplotlib\\backends\\backend_agg.py:180: RuntimeWarning: Glyph 8722 missing from current font.\n",
      "  font.set_text(s, 0, flags=flags)\n"
     ]
    },
    {
     "data": {
      "image/png": "[encoded data removed]",
      "text/plain": [
       "<Figure size 576x432 with 1 Axes>"
      ]
     },
     "metadata": {
      "needs_background": "light"
     },
     "output_type": "display_data"
    }
   ],
   "source": [
    "pred_proba_c1 = lr_clf.predict_proba(X_test)[:, -1]\n",
    "# print(pred_proba_c1)\n",
    "\n",
    "precision_recall_curve_plot(y_test, pred_proba_c1)"
   ]
  },
  {
   "cell_type": "code",
   "execution_count": 110,
   "metadata": {},
   "outputs": [],
   "source": [
    "# 피처 Data셋, 레이블 Data셋 다시 추출\n",
    "# 피처 데이터 세트 X, 레이블 데이터 세트 y를 추출.\n",
    "X = practice_df.iloc[:, :-1] # 맨 뒤 칼럼 제외 전부 추출 (피처데이터세트)\n",
    "y = practice_df.iloc[:, -1] # 맨 끝이 사용 칼럼으로 레이블 값임. 칼럼 위치 -1을 이용해  사용칼럼의 값만 추출 (피처데이터세트)"
   ]
  },
  {
   "cell_type": "code",
   "execution_count": 119,
   "metadata": {},
   "outputs": [
    {
     "name": "stdout",
     "output_type": "stream",
     "text": [
      "0        0\n",
      "1        0\n",
      "2        0\n",
      "3        1\n",
      "4        1\n",
      "        ..\n",
      "16513    0\n",
      "16514    0\n",
      "16515    0\n",
      "16516    0\n",
      "16517    0\n",
      "Name: 기한이익상실여부01, Length: 16518, dtype: int64\n"
     ]
    }
   ],
   "source": [
    "print(y)"
   ]
  },
  {
   "cell_type": "code",
   "execution_count": 120,
   "metadata": {},
   "outputs": [],
   "source": [
    "#########################################################################################################\n",
    "from sklearn import preprocessing\n",
    "\n",
    "# 머신러닝 알고리즘에 불필요한 속성 제거\n",
    "def drop_features(df):\n",
    "    df.drop(['담보명', '연체료'], axis=1, inplace=True)\n",
    "    return df\n",
    "\n",
    "\n",
    "def format_features(df): # 여러 칼럼을 해당 함수를 새로 생성해 한 번에 변환함.\n",
    "    features = ['과목명', '상품명', '성별구분','상환방법', '상품분류', '실행금액', '대출잔액','정상이자']\n",
    "    for feature in features:\n",
    "        le = preprocessing.LabelEncoder()\n",
    "        le = le.fit(df[feature])\n",
    "        df[feature] = le.transform(df[feature])\n",
    "    return df\n",
    "\n",
    "\n",
    "# 앞에서 설정한 데이터전처리 함수 호출\n",
    "def transform_features(df):\n",
    "    df = drop_features(df)\n",
    "    df = format_features(df)\n",
    "    return df"
   ]
  },
  {
   "cell_type": "code",
   "execution_count": 122,
   "metadata": {},
   "outputs": [
    {
     "name": "stdout",
     "output_type": "stream",
     "text": [
      "       과목명  상품명  성별구분  나이  계약기간월   정상이율  상환방법  이자진행회차  이자연체회차  원금연체회차  상품분류  \\\n",
      "0        0    5     1  66      7   4.65     2       2       0       0     7   \n",
      "1        1    6     0  46     12  12.00     2      12       0       0     6   \n",
      "2        1    6     0  46     12   8.60     2      12       0       0     6   \n",
      "3        1    6     1  42     24   8.60     2      28       5       4     6   \n",
      "4        1    6     1  42     24  11.00     2      28       5       4     6   \n",
      "...    ...  ...   ...  ..    ...    ...   ...     ...     ...     ...   ...   \n",
      "16513    1    4     0  22     60  19.40     2       1       0       0     4   \n",
      "16514    1    4     0  22     12  19.40     2       1       0       0     4   \n",
      "16515    1    4     1  24     60  18.90     2       1       0       0     4   \n",
      "16516    1    4     0  26     60  19.80     2       1       0       0     4   \n",
      "16517    1    4     1  22     60  19.80     2       1       0       0     4   \n",
      "\n",
      "       실행금액  대출잔액   연체이율  정상이자  신용등급  \n",
      "0       407  5513   4.65  1864     5  \n",
      "1       448  6161  15.00  4680     5  \n",
      "2       485  7357  11.60  4757     5  \n",
      "3       222  2484  11.60  2423     7  \n",
      "4       458  6651  14.00    34     7  \n",
      "...     ...   ...    ...   ...   ...  \n",
      "16513    51   921  22.40  1540     5  \n",
      "16514   255  2564  22.40  4592     5  \n",
      "16515   255  2564  21.90  4587     4  \n",
      "16516    98  1100  22.80  2963     6  \n",
      "16517   430  5572  22.80  7620     6  \n",
      "\n",
      "[16518 rows x 16 columns]\n",
      "<class 'pandas.core.frame.DataFrame'>\n",
      "RangeIndex: 16518 entries, 0 to 16517\n",
      "Data columns (total 16 columns):\n",
      "과목명       16518 non-null int32\n",
      "상품명       16518 non-null int32\n",
      "성별구분      16518 non-null int32\n",
      "나이        16518 non-null int64\n",
      "계약기간월     16518 non-null int64\n",
      "정상이율      16518 non-null float64\n",
      "상환방법      16518 non-null int32\n",
      "이자진행회차    16518 non-null int64\n",
      "이자연체회차    16518 non-null int64\n",
      "원금연체회차    16518 non-null int64\n",
      "상품분류      16518 non-null int32\n",
      "실행금액      16518 non-null int32\n",
      "대출잔액      16518 non-null int32\n",
      "연체이율      16518 non-null float64\n",
      "정상이자      16518 non-null int32\n",
      "신용등급      16518 non-null int64\n",
      "dtypes: float64(2), int32(8), int64(6)\n",
      "memory usage: 1.5 MB\n",
      "None\n"
     ]
    }
   ],
   "source": [
    "print(practice_df_again)\n",
    "print(practice_df_again.info())"
   ]
  },
  {
   "cell_type": "code",
   "execution_count": 123,
   "metadata": {},
   "outputs": [
    {
     "name": "stdout",
     "output_type": "stream",
     "text": [
      "오차 행렬\n",
      "[[2879  203]\n",
      " [ 206   16]]\n",
      "정확도: 0.8762, 정밀도: 0.0731, 재현율: 0.0721, F1: 0.0726, ROC AUC: 0.5031\n"
     ]
    },
    {
     "name": "stderr",
     "output_type": "stream",
     "text": [
      "C:\\ProgramData\\Anaconda3\\lib\\site-packages\\sklearn\\linear_model\\logistic.py:432: FutureWarning: Default solver will be changed to 'lbfgs' in 0.22. Specify a solver to silence this warning.\n",
      "  FutureWarning)\n"
     ]
    }
   ],
   "source": [
    "# stratify=y 있음\n",
    "\n",
    "X_train, X_test, y_train, y_test = train_test_split(practice_df_again, y, test_size = 0.2, random_state = 156, stratify=y)\n",
    "\n",
    "# 로지스틱 회귀로 학습, 예측 및 평가 수행\n",
    "lr_clf = LogisticRegression()\n",
    "lr_clf.fit(X_train, y_train)\n",
    "pred = lr_clf.predict(X_test)\n",
    "get_clf_eval(y_test, pred)"
   ]
  },
  {
   "cell_type": "code",
   "execution_count": 124,
   "metadata": {},
   "outputs": [
    {
     "name": "stdout",
     "output_type": "stream",
     "text": [
      "오차 행렬\n",
      "[[2867  203]\n",
      " [ 218   16]]\n",
      "정확도: 0.8726, 정밀도: 0.0731, 재현율: 0.0684, F1: 0.0706, ROC AUC: 0.5011\n"
     ]
    },
    {
     "name": "stderr",
     "output_type": "stream",
     "text": [
      "C:\\ProgramData\\Anaconda3\\lib\\site-packages\\sklearn\\linear_model\\logistic.py:432: FutureWarning: Default solver will be changed to 'lbfgs' in 0.22. Specify a solver to silence this warning.\n",
      "  FutureWarning)\n"
     ]
    }
   ],
   "source": [
    "# stratify=y 없음\n",
    "\n",
    "X_train, X_test, y_train, y_test = train_test_split(practice_df_again, y, test_size = 0.2, random_state = 156)\n",
    "\n",
    "# 로지스틱 회귀로 학습, 예측 및 평가 수행\n",
    "lr_clf = LogisticRegression()\n",
    "lr_clf.fit(X_train, y_train)\n",
    "pred = lr_clf.predict(X_test)\n",
    "get_clf_eval(y_test, pred)"
   ]
  },
  {
   "cell_type": "code",
   "execution_count": 125,
   "metadata": {},
   "outputs": [],
   "source": [
    "# 정밀도와 재현율 시각화2\n",
    "\n",
    "import matplotlib.pyplot as plt\n",
    "import matplotlib.ticker as ticker\n",
    "%matplotlib inline\n",
    "\n",
    "def precision_recall_curve_plot(y_test, pred_proba_c1):\n",
    "    # threshold ndarray와 이 threshold에 따른 정밀도, 재현율 ndarray 추출.\n",
    "    precisions, recalls, thresholds = precision_recall_curve( y_test, pred_proba_c1 )\n",
    "    \n",
    "    # X축을 threshold 값으로, Y축은 정밀도, 재현율 값으로 각각 Plot 수행.\n",
    "    plt.figure(figsize=(8, 6))\n",
    "    threshold_boundary = thresholds.shape[0]\n",
    "    plt.plot(thresholds, precisions[0:threshold_boundary], linestyle='--', label='precision') # 정밀도는 점선으로 표시\n",
    "    plt.plot(thresholds, recalls[0:threshold_boundary], label='recall')\n",
    "    \n",
    "    \n",
    "    # threshold 값 X 축의 Scale을 0.1 단위로 변경\n",
    "    start, end = plt.xlim()\n",
    "    plt.xticks(np.round(np.arange(start, end, 0.1), 2))\n",
    "    \n",
    "    \n",
    "    # x축, y축 label과 legend, 그리고 grid 설정\n",
    "    plt.xlabel('Threshold value'); plt.ylabel('Precision and Recall value')\n",
    "    plt.legend(); plt.grid()\n",
    "    plt.show()\n",
    "    \n",
    "#precision_recall_curve_plot( y_test, lr_clf.predict_proba(X_test)[:,1])  # [:,1] 는 index 범위 지정"
   ]
  },
  {
   "cell_type": "code",
   "execution_count": 126,
   "metadata": {},
   "outputs": [
    {
     "name": "stderr",
     "output_type": "stream",
     "text": [
      "C:\\ProgramData\\Anaconda3\\lib\\site-packages\\matplotlib\\backends\\backend_agg.py:211: RuntimeWarning: Glyph 8722 missing from current font.\n",
      "  font.set_text(s, 0.0, flags=flags)\n",
      "C:\\ProgramData\\Anaconda3\\lib\\site-packages\\matplotlib\\backends\\backend_agg.py:180: RuntimeWarning: Glyph 8722 missing from current font.\n",
      "  font.set_text(s, 0, flags=flags)\n"
     ]
    },
    {
     "data": {
      "image/png": "[encoded data removed]",
      "text/plain": [
       "<Figure size 576x432 with 1 Axes>"
      ]
     },
     "metadata": {
      "needs_background": "light"
     },
     "output_type": "display_data"
    }
   ],
   "source": [
    "pred_proba_c1 = lr_clf.predict_proba(X_test)[:, -1]\n",
    "# print(pred_proba_c1)\n",
    "\n",
    "precision_recall_curve_plot(y_test, pred_proba_c1)"
   ]
  },
  {
   "cell_type": "code",
   "execution_count": 127,
   "metadata": {},
   "outputs": [
    {
     "data": {
      "image/png": "[encoded data removed]",
      "text/plain": [
       "<Figure size 432x288 with 1 Axes>"
      ]
     },
     "metadata": {
      "needs_background": "light"
     },
     "output_type": "display_data"
    }
   ],
   "source": [
    "# FPR, TPR 임곗값 시각화\n",
    "def roc_curve_plot(y_test, pred_proba_c1):\n",
    "    # 임곗값에 따른 FPR, TPR 값을 반환받음\n",
    "    fprs, tprs, thresholds = roc_curve(y_test, pred_proba_c1)\n",
    "    # ROC 곡선을 그래프 곡선으로 그림.\n",
    "    plt.plot(fprs, tprs, label='ROC')\n",
    "    # 가운데 대각선 직선을 그림.\n",
    "    plt.plot([0,1],[0,1], 'k--', label='Random')\n",
    "    \n",
    "    \n",
    "    # FPR X 축의 Scale을 0.1 단위로 변경, X, Y축 명 설정 등\n",
    "    start, end = plt.xlim()\n",
    "    plt.xticks(np.round(np.arange(start, end, 0.1), 2))\n",
    "    plt.xlim(0, 1); plt.ylim(0, 1)\n",
    "    plt.xlabel('FPR( 1 - Sensitivity )'); plt.ylabel('TPR( Recall )')\n",
    "    plt.legend()\n",
    "    \n",
    "roc_curve_plot(y_test, pred_proba[:, 1])"
   ]
  },
  {
   "cell_type": "code",
   "execution_count": 129,
   "metadata": {},
   "outputs": [
    {
     "data": {
      "text/html": [
       "<div>\n",
       "<style scoped>\n",
       "    .dataframe tbody tr th:only-of-type {\n",
       "        vertical-align: middle;\n",
       "    }\n",
       "\n",
       "    .dataframe tbody tr th {\n",
       "        vertical-align: top;\n",
       "    }\n",
       "\n",
       "    .dataframe thead th {\n",
       "        text-align: right;\n",
       "    }\n",
       "</style>\n",
       "<table border=\"1\" class=\"dataframe\">\n",
       "  <thead>\n",
       "    <tr style=\"text-align: right;\">\n",
       "      <th></th>\n",
       "      <th>과목명</th>\n",
       "      <th>상품명</th>\n",
       "      <th>성별구분</th>\n",
       "      <th>나이</th>\n",
       "      <th>계약기간월</th>\n",
       "      <th>정상이율</th>\n",
       "      <th>상환방법</th>\n",
       "      <th>이자진행회차</th>\n",
       "      <th>이자연체회차</th>\n",
       "      <th>원금연체회차</th>\n",
       "      <th>상품분류</th>\n",
       "      <th>실행금액</th>\n",
       "      <th>대출잔액</th>\n",
       "      <th>연체이율</th>\n",
       "      <th>정상이자</th>\n",
       "      <th>신용등급</th>\n",
       "    </tr>\n",
       "  </thead>\n",
       "  <tbody>\n",
       "    <tr>\n",
       "      <td>count</td>\n",
       "      <td>16518.000000</td>\n",
       "      <td>16518.000000</td>\n",
       "      <td>16518.000000</td>\n",
       "      <td>16518.000000</td>\n",
       "      <td>16518.000000</td>\n",
       "      <td>16518.000000</td>\n",
       "      <td>16518.000000</td>\n",
       "      <td>16518.000000</td>\n",
       "      <td>16518.000000</td>\n",
       "      <td>16518.000000</td>\n",
       "      <td>16518.000000</td>\n",
       "      <td>16518.000000</td>\n",
       "      <td>16518.000000</td>\n",
       "      <td>16518.000000</td>\n",
       "      <td>16518.000000</td>\n",
       "      <td>16518.000000</td>\n",
       "    </tr>\n",
       "    <tr>\n",
       "      <td>mean</td>\n",
       "      <td>1.000908</td>\n",
       "      <td>3.285507</td>\n",
       "      <td>0.491706</td>\n",
       "      <td>26.855854</td>\n",
       "      <td>53.472212</td>\n",
       "      <td>23.826376</td>\n",
       "      <td>1.702688</td>\n",
       "      <td>26.702627</td>\n",
       "      <td>0.519252</td>\n",
       "      <td>0.233019</td>\n",
       "      <td>3.307725</td>\n",
       "      <td>321.290834</td>\n",
       "      <td>4038.731868</td>\n",
       "      <td>25.350986</td>\n",
       "      <td>3951.003451</td>\n",
       "      <td>5.080034</td>\n",
       "    </tr>\n",
       "    <tr>\n",
       "      <td>std</td>\n",
       "      <td>0.070023</td>\n",
       "      <td>0.714816</td>\n",
       "      <td>0.499946</td>\n",
       "      <td>6.543430</td>\n",
       "      <td>13.931541</td>\n",
       "      <td>4.404357</td>\n",
       "      <td>0.457221</td>\n",
       "      <td>15.220013</td>\n",
       "      <td>2.233662</td>\n",
       "      <td>1.852595</td>\n",
       "      <td>0.761378</td>\n",
       "      <td>159.118052</td>\n",
       "      <td>2276.784621</td>\n",
       "      <td>3.861908</td>\n",
       "      <td>2737.786786</td>\n",
       "      <td>0.947051</td>\n",
       "    </tr>\n",
       "    <tr>\n",
       "      <td>min</td>\n",
       "      <td>0.000000</td>\n",
       "      <td>0.000000</td>\n",
       "      <td>0.000000</td>\n",
       "      <td>19.000000</td>\n",
       "      <td>0.000000</td>\n",
       "      <td>2.000000</td>\n",
       "      <td>0.000000</td>\n",
       "      <td>0.000000</td>\n",
       "      <td>0.000000</td>\n",
       "      <td>0.000000</td>\n",
       "      <td>0.000000</td>\n",
       "      <td>0.000000</td>\n",
       "      <td>0.000000</td>\n",
       "      <td>4.300000</td>\n",
       "      <td>0.000000</td>\n",
       "      <td>1.000000</td>\n",
       "    </tr>\n",
       "    <tr>\n",
       "      <td>25%</td>\n",
       "      <td>1.000000</td>\n",
       "      <td>3.000000</td>\n",
       "      <td>0.000000</td>\n",
       "      <td>23.000000</td>\n",
       "      <td>60.000000</td>\n",
       "      <td>19.900000</td>\n",
       "      <td>1.000000</td>\n",
       "      <td>18.000000</td>\n",
       "      <td>0.000000</td>\n",
       "      <td>0.000000</td>\n",
       "      <td>3.000000</td>\n",
       "      <td>195.250000</td>\n",
       "      <td>1883.250000</td>\n",
       "      <td>22.900000</td>\n",
       "      <td>1457.250000</td>\n",
       "      <td>5.000000</td>\n",
       "    </tr>\n",
       "    <tr>\n",
       "      <td>50%</td>\n",
       "      <td>1.000000</td>\n",
       "      <td>3.000000</td>\n",
       "      <td>0.000000</td>\n",
       "      <td>25.000000</td>\n",
       "      <td>60.000000</td>\n",
       "      <td>24.000000</td>\n",
       "      <td>2.000000</td>\n",
       "      <td>26.000000</td>\n",
       "      <td>0.000000</td>\n",
       "      <td>0.000000</td>\n",
       "      <td>3.000000</td>\n",
       "      <td>430.000000</td>\n",
       "      <td>4348.000000</td>\n",
       "      <td>27.000000</td>\n",
       "      <td>3901.500000</td>\n",
       "      <td>5.000000</td>\n",
       "    </tr>\n",
       "    <tr>\n",
       "      <td>75%</td>\n",
       "      <td>1.000000</td>\n",
       "      <td>3.000000</td>\n",
       "      <td>1.000000</td>\n",
       "      <td>28.000000</td>\n",
       "      <td>60.000000</td>\n",
       "      <td>27.600000</td>\n",
       "      <td>2.000000</td>\n",
       "      <td>38.000000</td>\n",
       "      <td>0.000000</td>\n",
       "      <td>0.000000</td>\n",
       "      <td>3.000000</td>\n",
       "      <td>430.000000</td>\n",
       "      <td>5699.750000</td>\n",
       "      <td>27.900000</td>\n",
       "      <td>6444.750000</td>\n",
       "      <td>6.000000</td>\n",
       "    </tr>\n",
       "    <tr>\n",
       "      <td>max</td>\n",
       "      <td>2.000000</td>\n",
       "      <td>7.000000</td>\n",
       "      <td>1.000000</td>\n",
       "      <td>89.000000</td>\n",
       "      <td>120.000000</td>\n",
       "      <td>29.000000</td>\n",
       "      <td>2.000000</td>\n",
       "      <td>115.000000</td>\n",
       "      <td>45.000000</td>\n",
       "      <td>82.000000</td>\n",
       "      <td>11.000000</td>\n",
       "      <td>511.000000</td>\n",
       "      <td>7822.000000</td>\n",
       "      <td>32.000000</td>\n",
       "      <td>8488.000000</td>\n",
       "      <td>10.000000</td>\n",
       "    </tr>\n",
       "  </tbody>\n",
       "</table>\n",
       "</div>"
      ],
      "text/plain": [
       "                과목명           상품명          성별구분            나이         계약기간월  \\\n",
       "count  16518.000000  16518.000000  16518.000000  16518.000000  16518.000000   \n",
       "mean       1.000908      3.285507      0.491706     26.855854     53.472212   \n",
       "std        0.070023      0.714816      0.499946      6.543430     13.931541   \n",
       "min        0.000000      0.000000      0.000000     19.000000      0.000000   \n",
       "25%        1.000000      3.000000      0.000000     23.000000     60.000000   \n",
       "50%        1.000000      3.000000      0.000000     25.000000     60.000000   \n",
       "75%        1.000000      3.000000      1.000000     28.000000     60.000000   \n",
       "max        2.000000      7.000000      1.000000     89.000000    120.000000   \n",
       "\n",
       "               정상이율          상환방법        이자진행회차        이자연체회차        원금연체회차  \\\n",
       "count  16518.000000  16518.000000  16518.000000  16518.000000  16518.000000   \n",
       "mean      23.826376      1.702688     26.702627      0.519252      0.233019   \n",
       "std        4.404357      0.457221     15.220013      2.233662      1.852595   \n",
       "min        2.000000      0.000000      0.000000      0.000000      0.000000   \n",
       "25%       19.900000      1.000000     18.000000      0.000000      0.000000   \n",
       "50%       24.000000      2.000000     26.000000      0.000000      0.000000   \n",
       "75%       27.600000      2.000000     38.000000      0.000000      0.000000   \n",
       "max       29.000000      2.000000    115.000000     45.000000     82.000000   \n",
       "\n",
       "               상품분류          실행금액          대출잔액          연체이율          정상이자  \\\n",
       "count  16518.000000  16518.000000  16518.000000  16518.000000  16518.000000   \n",
       "mean       3.307725    321.290834   4038.731868     25.350986   3951.003451   \n",
       "std        0.761378    159.118052   2276.784621      3.861908   2737.786786   \n",
       "min        0.000000      0.000000      0.000000      4.300000      0.000000   \n",
       "25%        3.000000    195.250000   1883.250000     22.900000   1457.250000   \n",
       "50%        3.000000    430.000000   4348.000000     27.000000   3901.500000   \n",
       "75%        3.000000    430.000000   5699.750000     27.900000   6444.750000   \n",
       "max       11.000000    511.000000   7822.000000     32.000000   8488.000000   \n",
       "\n",
       "               신용등급  \n",
       "count  16518.000000  \n",
       "mean       5.080034  \n",
       "std        0.947051  \n",
       "min        1.000000  \n",
       "25%        5.000000  \n",
       "50%        5.000000  \n",
       "75%        6.000000  \n",
       "max       10.000000  "
      ]
     },
     "execution_count": 129,
     "metadata": {},
     "output_type": "execute_result"
    }
   ],
   "source": [
    "practice_df_again.describe()"
   ]
  },
  {
   "cell_type": "markdown",
   "metadata": {},
   "source": [
    "# 위 값을 보면 min 값이 0으로 돼 있는 피처가 상당히 많음. \n",
    "    -> 예를들어, 계약기간월 min 값이 0인 것은 말이 되지 않는다. \n",
    "    \n",
    "### 히스토그램으로 확인해보자"
   ]
  },
  {
   "cell_type": "code",
   "execution_count": 143,
   "metadata": {},
   "outputs": [
    {
     "data": {
      "text/plain": [
       "(array([1.5751e+04, 3.1200e+02, 3.6600e+02, 7.0000e+01, 1.2000e+01,\n",
       "        3.0000e+00, 3.0000e+00, 0.0000e+00, 0.0000e+00, 1.0000e+00]),\n",
       " array([ 0. ,  4.5,  9. , 13.5, 18. , 22.5, 27. , 31.5, 36. , 40.5, 45. ]),\n",
       " <a list of 10 Patch objects>)"
      ]
     },
     "execution_count": 143,
     "metadata": {},
     "output_type": "execute_result"
    },
    {
     "data": {
      "image/png": "[encoded data removed]",
      "text/plain": [
       "<Figure size 432x288 with 1 Axes>"
      ]
     },
     "metadata": {
      "needs_background": "light"
     },
     "output_type": "display_data"
    }
   ],
   "source": [
    "plt.hist(practice_df_again['이자연체회차'], bins=10)\n",
    "\n",
    "# 0이 조금 존재한다. 이렇게 0값이 존재하는 것들이 몇 몇 건 된다."
   ]
  },
  {
   "cell_type": "markdown",
   "metadata": {},
   "source": [
    "# min() = 0 인 피처에 대해 0값의 건수 / 전체 데이터 건수 대비 몇 퍼센트 비율로 존재하는 지 확인"
   ]
  },
  {
   "cell_type": "code",
   "execution_count": 142,
   "metadata": {},
   "outputs": [
    {
     "name": "stdout",
     "output_type": "stream",
     "text": [
      "과목명 0 건수는 33개, 퍼센트는 0.20 %\n",
      "상품명 0 건수는 15개, 퍼센트는 0.09 %\n",
      "성별구분 0 건수는 8396개, 퍼센트는 50.83 %\n",
      "나이 0 건수는 0개, 퍼센트는 0.00 %\n",
      "계약기간월 0 건수는 4개, 퍼센트는 0.02 %\n",
      "정상이율 0 건수는 0개, 퍼센트는 0.00 %\n",
      "상환방법 0 건수는 1개, 퍼센트는 0.01 %\n",
      "이자진행회차 0 건수는 48개, 퍼센트는 0.29 %\n",
      "이자연체회차 0 건수는 15205개, 퍼센트는 92.05 %\n",
      "원금연체회차 0 건수는 15968개, 퍼센트는 96.67 %\n",
      "상품분류 0 건수는 13개, 퍼센트는 0.08 %\n",
      "실행금액 0 건수는 211개, 퍼센트는 1.28 %\n",
      "대출잔액 0 건수는 37개, 퍼센트는 0.22 %\n",
      "연체이율 0 건수는 0개, 퍼센트는 0.00 %\n",
      "정상이자 0 건수는 1624개, 퍼센트는 9.83 %\n",
      "신용등급 0 건수는 0개, 퍼센트는 0.00 %\n"
     ]
    }
   ],
   "source": [
    "zero_features = ['과목명', '상품명', '성별구분' , '나이', '계약기간월', '정상이율', '상환방법', '이자진행회차', '이자연체회차', '원금연체회차', '상품분류', '실행금액', '대출잔액', '연체이율' ,'정상이자', '신용등급'] # 0 값을 검사할 피처 명 리스트\n",
    "total_count = practice_df_again['과목명'].count() # 전체 데이터 건수\n",
    "\n",
    "# 아래는, 피처별로 반복하면서 데이터 값이 0인 데이터 건수를 추출하고, 퍼센트를 계산한다.\n",
    "for feature in zero_features:\n",
    "    zero_count = practice_df_again[practice_df_again[feature] == 0][feature].count()\n",
    "    print('{0} 0 건수는 {1}개, 퍼센트는 {2:.2f} %'.format(feature, zero_count, 100*zero_count/total_count))"
   ]
  },
  {
   "cell_type": "code",
   "execution_count": 144,
   "metadata": {},
   "outputs": [],
   "source": [
    "# zero_features 리스트 내부에 저장된 개별 피처들에 대해서 0값을 평균 값으로 대체\n",
    "mean_zero_features = practice_df_again[zero_features].mean()\n",
    "practice_df_again[zero_features] = practice_df_again[zero_features].replace(0, mean_zero_features)\n",
    "\n",
    "# 기본 DB 자체를 바꿔버린다. "
   ]
  },
  {
   "cell_type": "code",
   "execution_count": 145,
   "metadata": {},
   "outputs": [
    {
     "data": {
      "text/html": [
       "<div>\n",
       "<style scoped>\n",
       "    .dataframe tbody tr th:only-of-type {\n",
       "        vertical-align: middle;\n",
       "    }\n",
       "\n",
       "    .dataframe tbody tr th {\n",
       "        vertical-align: top;\n",
       "    }\n",
       "\n",
       "    .dataframe thead th {\n",
       "        text-align: right;\n",
       "    }\n",
       "</style>\n",
       "<table border=\"1\" class=\"dataframe\">\n",
       "  <thead>\n",
       "    <tr style=\"text-align: right;\">\n",
       "      <th></th>\n",
       "      <th>과목명</th>\n",
       "      <th>상품명</th>\n",
       "      <th>성별구분</th>\n",
       "      <th>나이</th>\n",
       "      <th>계약기간월</th>\n",
       "      <th>정상이율</th>\n",
       "      <th>상환방법</th>\n",
       "      <th>이자진행회차</th>\n",
       "      <th>이자연체회차</th>\n",
       "      <th>원금연체회차</th>\n",
       "      <th>상품분류</th>\n",
       "      <th>실행금액</th>\n",
       "      <th>대출잔액</th>\n",
       "      <th>연체이율</th>\n",
       "      <th>정상이자</th>\n",
       "      <th>신용등급</th>\n",
       "    </tr>\n",
       "  </thead>\n",
       "  <tbody>\n",
       "    <tr>\n",
       "      <td>count</td>\n",
       "      <td>16518.000000</td>\n",
       "      <td>16518.000000</td>\n",
       "      <td>16518.000000</td>\n",
       "      <td>16518.000000</td>\n",
       "      <td>16518.000000</td>\n",
       "      <td>16518.000000</td>\n",
       "      <td>16518.000000</td>\n",
       "      <td>16518.000000</td>\n",
       "      <td>16518.000000</td>\n",
       "      <td>16518.000000</td>\n",
       "      <td>16518.000000</td>\n",
       "      <td>16518.000000</td>\n",
       "      <td>16518.000000</td>\n",
       "      <td>16518.000000</td>\n",
       "      <td>16518.000000</td>\n",
       "      <td>16518.000000</td>\n",
       "    </tr>\n",
       "    <tr>\n",
       "      <td>mean</td>\n",
       "      <td>1.002908</td>\n",
       "      <td>3.288490</td>\n",
       "      <td>0.741637</td>\n",
       "      <td>26.855854</td>\n",
       "      <td>53.485161</td>\n",
       "      <td>23.826376</td>\n",
       "      <td>1.702791</td>\n",
       "      <td>26.780223</td>\n",
       "      <td>0.997229</td>\n",
       "      <td>0.458278</td>\n",
       "      <td>3.310328</td>\n",
       "      <td>325.394985</td>\n",
       "      <td>4047.778549</td>\n",
       "      <td>25.350986</td>\n",
       "      <td>4339.454208</td>\n",
       "      <td>5.080034</td>\n",
       "    </tr>\n",
       "    <tr>\n",
       "      <td>std</td>\n",
       "      <td>0.053830</td>\n",
       "      <td>0.707919</td>\n",
       "      <td>0.254120</td>\n",
       "      <td>6.543430</td>\n",
       "      <td>13.906661</td>\n",
       "      <td>4.404357</td>\n",
       "      <td>0.457029</td>\n",
       "      <td>15.151589</td>\n",
       "      <td>2.124280</td>\n",
       "      <td>1.824519</td>\n",
       "      <td>0.755697</td>\n",
       "      <td>154.864468</td>\n",
       "      <td>2268.728065</td>\n",
       "      <td>3.861908</td>\n",
       "      <td>2410.334034</td>\n",
       "      <td>0.947051</td>\n",
       "    </tr>\n",
       "    <tr>\n",
       "      <td>min</td>\n",
       "      <td>1.000000</td>\n",
       "      <td>1.000000</td>\n",
       "      <td>0.491706</td>\n",
       "      <td>19.000000</td>\n",
       "      <td>1.000000</td>\n",
       "      <td>2.000000</td>\n",
       "      <td>1.000000</td>\n",
       "      <td>1.000000</td>\n",
       "      <td>0.519252</td>\n",
       "      <td>0.233019</td>\n",
       "      <td>1.000000</td>\n",
       "      <td>1.000000</td>\n",
       "      <td>1.000000</td>\n",
       "      <td>4.300000</td>\n",
       "      <td>1.000000</td>\n",
       "      <td>1.000000</td>\n",
       "    </tr>\n",
       "    <tr>\n",
       "      <td>25%</td>\n",
       "      <td>1.000000</td>\n",
       "      <td>3.000000</td>\n",
       "      <td>0.491706</td>\n",
       "      <td>23.000000</td>\n",
       "      <td>60.000000</td>\n",
       "      <td>19.900000</td>\n",
       "      <td>1.000000</td>\n",
       "      <td>18.000000</td>\n",
       "      <td>0.519252</td>\n",
       "      <td>0.233019</td>\n",
       "      <td>3.000000</td>\n",
       "      <td>255.000000</td>\n",
       "      <td>1920.000000</td>\n",
       "      <td>22.900000</td>\n",
       "      <td>2327.000000</td>\n",
       "      <td>5.000000</td>\n",
       "    </tr>\n",
       "    <tr>\n",
       "      <td>50%</td>\n",
       "      <td>1.000000</td>\n",
       "      <td>3.000000</td>\n",
       "      <td>0.491706</td>\n",
       "      <td>25.000000</td>\n",
       "      <td>60.000000</td>\n",
       "      <td>24.000000</td>\n",
       "      <td>2.000000</td>\n",
       "      <td>26.000000</td>\n",
       "      <td>0.519252</td>\n",
       "      <td>0.233019</td>\n",
       "      <td>3.000000</td>\n",
       "      <td>430.000000</td>\n",
       "      <td>4348.000000</td>\n",
       "      <td>27.000000</td>\n",
       "      <td>3951.003451</td>\n",
       "      <td>5.000000</td>\n",
       "    </tr>\n",
       "    <tr>\n",
       "      <td>75%</td>\n",
       "      <td>1.000000</td>\n",
       "      <td>3.000000</td>\n",
       "      <td>1.000000</td>\n",
       "      <td>28.000000</td>\n",
       "      <td>60.000000</td>\n",
       "      <td>27.600000</td>\n",
       "      <td>2.000000</td>\n",
       "      <td>38.000000</td>\n",
       "      <td>0.519252</td>\n",
       "      <td>0.233019</td>\n",
       "      <td>3.000000</td>\n",
       "      <td>430.000000</td>\n",
       "      <td>5699.750000</td>\n",
       "      <td>27.900000</td>\n",
       "      <td>6444.750000</td>\n",
       "      <td>6.000000</td>\n",
       "    </tr>\n",
       "    <tr>\n",
       "      <td>max</td>\n",
       "      <td>2.000000</td>\n",
       "      <td>7.000000</td>\n",
       "      <td>1.000000</td>\n",
       "      <td>89.000000</td>\n",
       "      <td>120.000000</td>\n",
       "      <td>29.000000</td>\n",
       "      <td>2.000000</td>\n",
       "      <td>115.000000</td>\n",
       "      <td>45.000000</td>\n",
       "      <td>82.000000</td>\n",
       "      <td>11.000000</td>\n",
       "      <td>511.000000</td>\n",
       "      <td>7822.000000</td>\n",
       "      <td>32.000000</td>\n",
       "      <td>8488.000000</td>\n",
       "      <td>10.000000</td>\n",
       "    </tr>\n",
       "  </tbody>\n",
       "</table>\n",
       "</div>"
      ],
      "text/plain": [
       "                과목명           상품명          성별구분            나이         계약기간월  \\\n",
       "count  16518.000000  16518.000000  16518.000000  16518.000000  16518.000000   \n",
       "mean       1.002908      3.288490      0.741637     26.855854     53.485161   \n",
       "std        0.053830      0.707919      0.254120      6.543430     13.906661   \n",
       "min        1.000000      1.000000      0.491706     19.000000      1.000000   \n",
       "25%        1.000000      3.000000      0.491706     23.000000     60.000000   \n",
       "50%        1.000000      3.000000      0.491706     25.000000     60.000000   \n",
       "75%        1.000000      3.000000      1.000000     28.000000     60.000000   \n",
       "max        2.000000      7.000000      1.000000     89.000000    120.000000   \n",
       "\n",
       "               정상이율          상환방법        이자진행회차        이자연체회차        원금연체회차  \\\n",
       "count  16518.000000  16518.000000  16518.000000  16518.000000  16518.000000   \n",
       "mean      23.826376      1.702791     26.780223      0.997229      0.458278   \n",
       "std        4.404357      0.457029     15.151589      2.124280      1.824519   \n",
       "min        2.000000      1.000000      1.000000      0.519252      0.233019   \n",
       "25%       19.900000      1.000000     18.000000      0.519252      0.233019   \n",
       "50%       24.000000      2.000000     26.000000      0.519252      0.233019   \n",
       "75%       27.600000      2.000000     38.000000      0.519252      0.233019   \n",
       "max       29.000000      2.000000    115.000000     45.000000     82.000000   \n",
       "\n",
       "               상품분류          실행금액          대출잔액          연체이율          정상이자  \\\n",
       "count  16518.000000  16518.000000  16518.000000  16518.000000  16518.000000   \n",
       "mean       3.310328    325.394985   4047.778549     25.350986   4339.454208   \n",
       "std        0.755697    154.864468   2268.728065      3.861908   2410.334034   \n",
       "min        1.000000      1.000000      1.000000      4.300000      1.000000   \n",
       "25%        3.000000    255.000000   1920.000000     22.900000   2327.000000   \n",
       "50%        3.000000    430.000000   4348.000000     27.000000   3951.003451   \n",
       "75%        3.000000    430.000000   5699.750000     27.900000   6444.750000   \n",
       "max       11.000000    511.000000   7822.000000     32.000000   8488.000000   \n",
       "\n",
       "               신용등급  \n",
       "count  16518.000000  \n",
       "mean       5.080034  \n",
       "std        0.947051  \n",
       "min        1.000000  \n",
       "25%        5.000000  \n",
       "50%        5.000000  \n",
       "75%        6.000000  \n",
       "max       10.000000  "
      ]
     },
     "execution_count": 145,
     "metadata": {},
     "output_type": "execute_result"
    }
   ],
   "source": [
    "practice_df_again.describe()"
   ]
  },
  {
   "cell_type": "code",
   "execution_count": 152,
   "metadata": {
    "scrolled": true
   },
   "outputs": [
    {
     "name": "stdout",
     "output_type": "stream",
     "text": [
      "오차 행렬\n",
      "[[2879  203]\n",
      " [ 206   16]]\n",
      "정확도: 0.8762, 정밀도: 0.0731, 재현율: 0.0721, F1: 0.0726, ROC AUC: 0.5031\n"
     ]
    },
    {
     "name": "stderr",
     "output_type": "stream",
     "text": [
      "C:\\ProgramData\\Anaconda3\\lib\\site-packages\\sklearn\\linear_model\\logistic.py:432: FutureWarning: Default solver will be changed to 'lbfgs' in 0.22. Specify a solver to silence this warning.\n",
      "  FutureWarning)\n"
     ]
    }
   ],
   "source": [
    "# 피처 데이터 세트 X, 레이블 데이터 세트 y를 추출.\n",
    "\n",
    "##### 바뀐 DB를 기반으로 다시 값들 추출\n",
    "\n",
    "X = practice_df_again[:]\n",
    "y = practice_df.iloc[:, -1] # 맨 끝이 Outcome 칼럼으로 레이블 값임. 칼럼 위치 -1을 이용해  Outcome 값만 추출 (피처데이터세트)\n",
    "\n",
    "scaler = StandardScaler()   # StandardScaler 클래스를 이용해 피처 데이터 세트에 일괄적으로 스케일링 적용\n",
    "X_scaled = scaler.fit_transform(X) # StandardScaler(X): 평균이 0과 표준편차가 1이 되도록 변환.\n",
    "\n",
    "#print(X_scaled)\n",
    "\n",
    "X_train, X_test, y_train, y_test = train_test_split(X_scaled, y, test_size = 0.2, random_state = 156, stratify=y)\n",
    "\n",
    "# 로지스틱 회귀로 학습, 예측 및 평가 수행\n",
    "lr_clf = LogisticRegression()\n",
    "lr_clf.fit(X_train, y_train)\n",
    "pred = lr_clf.predict(X_test)\n",
    "get_clf_eval(y_test, pred)"
   ]
  },
  {
   "cell_type": "code",
   "execution_count": 161,
   "metadata": {},
   "outputs": [
    {
     "name": "stdout",
     "output_type": "stream",
     "text": [
      "0        0\n",
      "1        0\n",
      "2        0\n",
      "3        1\n",
      "4        1\n",
      "        ..\n",
      "16513    0\n",
      "16514    0\n",
      "16515    0\n",
      "16516    0\n",
      "16517    0\n",
      "Name: 기한이익상실여부01, Length: 16518, dtype: int64\n"
     ]
    }
   ],
   "source": [
    "print(y)"
   ]
  },
  {
   "cell_type": "code",
   "execution_count": 154,
   "metadata": {},
   "outputs": [
    {
     "name": "stdout",
     "output_type": "stream",
     "text": [
      "임곗값: 0.1\n",
      "정확도: 0.9967, 정밀도: 0.9648, 재현율: 0.9865, F1: 0.9755, ROC AUC: 0.9919\n",
      "임곗값: 0.3\n",
      "정확도: 0.9982, 정밀도: 0.9865, 재현율: 0.9865, F1: 0.9865, ROC AUC: 0.9928\n",
      "임곗값: 0.33\n",
      "정확도: 0.9982, 정밀도: 0.9865, 재현율: 0.9865, F1: 0.9865, ROC AUC: 0.9928\n",
      "임곗값: 0.36\n",
      "정확도: 0.9982, 정밀도: 0.9865, 재현율: 0.9865, F1: 0.9865, ROC AUC: 0.9928\n",
      "임곗값: 0.39\n",
      "정확도: 0.9982, 정밀도: 0.9865, 재현율: 0.9865, F1: 0.9865, ROC AUC: 0.9928\n",
      "임곗값: 0.42\n",
      "정확도: 0.9982, 정밀도: 0.9865, 재현율: 0.9865, F1: 0.9865, ROC AUC: 0.9928\n",
      "임곗값: 0.45\n",
      "정확도: 0.9979, 정밀도: 0.9864, 재현율: 0.9820, F1: 0.9842, ROC AUC: 0.9905\n",
      "임곗값: 0.48\n",
      "정확도: 0.9979, 정밀도: 0.9864, 재현율: 0.9820, F1: 0.9842, ROC AUC: 0.9905\n",
      "임곗값: 0.5\n",
      "정확도: 0.9979, 정밀도: 0.9864, 재현율: 0.9820, F1: 0.9842, ROC AUC: 0.9905\n",
      "임곗값: 0.8\n",
      "정확도: 0.9961, 정밀도: 0.9860, 재현율: 0.9550, F1: 0.9703, ROC AUC: 0.9770\n",
      "임곗값: 0.9\n",
      "정확도: 0.9958, 정밀도: 0.9860, 재현율: 0.9505, F1: 0.9679, ROC AUC: 0.9747\n"
     ]
    }
   ],
   "source": [
    "from sklearn.preprocessing import Binarizer\n",
    "\n",
    "thresholds = [0.10, 0.3, 0.33, 0.36, 0.39, 0.42, 0.45, 0.48, 0.5, 0.80, 0.90]\n",
    "pred_proba = lr_clf.predict_proba(X_test)\n",
    "\n",
    "def get_clf_eval2(y_test, pred):\n",
    "    accuracy = accuracy_score(y_test,pred)  # 정확도\n",
    "    precision = precision_score(y_test,pred) # 정밀도\n",
    "    recall = recall_score(y_test,pred) # 재현율\n",
    "    f1 = f1_score(y_test, pred)    # F1 스코어 추가\n",
    "    roc_score = roc_auc_score(y_test, pred)  # ROC AUC 값 추가\n",
    "    # 모든 Score 출력\n",
    "    print('정확도: {0:.4f}, 정밀도: {1:.4f}, 재현율: {2:.4f}, F1: {3:.4f}, ROC AUC: {4:.4f}'.format(accuracy, precision, recall, f1, roc_score))\n",
    "    \n",
    "\n",
    "def get_eval_by_threshold(y_test, pred_proba_c1, thresholds):   # pred_proba_c1 새로이 추가\n",
    "    # thresholds list객체 내의 값을 차례로 iteration(반복)하면서 Evauation 수행.\n",
    "    for custom_threshold in thresholds:\n",
    "        binarizer = Binarizer(threshold=custom_threshold).fit(pred_proba_c1)  # fit으로 x_test 값에 해당하는 pred_proba_c1 사용\n",
    "        custom_predict1 = binarizer.transform(pred_proba_c1)\n",
    "        print('임곗값:', custom_threshold)\n",
    "        get_clf_eval2(y_test, custom_predict1)\n",
    "\n",
    "get_eval_by_threshold(y_test, pred_proba[:, 1].reshape(-1, 1), thresholds)"
   ]
  },
  {
   "cell_type": "code",
   "execution_count": 155,
   "metadata": {},
   "outputs": [
    {
     "name": "stdout",
     "output_type": "stream",
     "text": [
      "정확도: 0.9982, 정밀도: 0.9865, 재현율: 0.9865, F1: 0.9865, ROC AUC: 0.9928\n",
      "[[0.00110992]\n",
      " [0.00878181]\n",
      " [0.00198985]\n",
      " ...\n",
      " [0.00108227]\n",
      " [0.00099837]\n",
      " [0.00433275]]\n"
     ]
    }
   ],
   "source": [
    "binarizer = Binarizer(threshold=0.30) # 임곗값을 0.48로 설정한 Binarizer 생성\n",
    "\n",
    "# 위에서 추출한 pred_proba = lr_clf.predict_proba(X_test) 결과에서 이진 분류 중 두번째에 해당하는 array에서 1에 해당하는 칼럼값을 변환\n",
    "\n",
    "pred_th_030 = binarizer.fit_transform(pred_proba[:, 1].reshape(-1, 1))\n",
    "\n",
    "get_clf_eval(y_test, pred_th_030)\n",
    "\n",
    "print( pred_proba[:,1].reshape(-1,1) )  # reshape는 일렬로 세우는 것\n",
    "\n"
   ]
  },
  {
   "cell_type": "code",
   "execution_count": 156,
   "metadata": {},
   "outputs": [
    {
     "data": {
      "image/png": "[encoded data removed]",
      "text/plain": [
       "<Figure size 432x288 with 1 Axes>"
      ]
     },
     "metadata": {
      "needs_background": "light"
     },
     "output_type": "display_data"
    }
   ],
   "source": [
    "# FPR, TPR 임곗값 시각화\n",
    "def roc_curve_plot(y_test, pred_proba_c1):\n",
    "    # 임곗값에 따른 FPR, TPR 값을 반환받음\n",
    "    fprs, tprs, thresholds = roc_curve(y_test, pred_proba_c1)\n",
    "    # ROC 곡선을 그래프 곡선으로 그림.\n",
    "    plt.plot(fprs, tprs, label='ROC')\n",
    "    # 가운데 대각선 직선을 그림.\n",
    "    plt.plot([0,1],[0,1], 'k--', label='Random')\n",
    "    \n",
    "    \n",
    "    # FPR X 축의 Scale을 0.1 단위로 변경, X, Y축 명 설정 등\n",
    "    start, end = plt.xlim()\n",
    "    plt.xticks(np.round(np.arange(start, end, 0.1), 2))\n",
    "    plt.xlim(0, 1); plt.ylim(0, 1)\n",
    "    plt.xlabel('FPR( 1 - Sensitivity )'); plt.ylabel('TPR( Recall )')\n",
    "    plt.legend()\n",
    "    \n",
    "roc_curve_plot(y_test, pred_proba[:, 1])"
   ]
  },
  {
   "cell_type": "code",
   "execution_count": 160,
   "metadata": {},
   "outputs": [
    {
     "name": "stdout",
     "output_type": "stream",
     "text": [
      "정확도: 0.9979, 정밀도: 0.9864, 재현율: 0.9820, F1: 0.9842, ROC AUC: 0.9905\n",
      "정확도: 0.8762, 정밀도: 0.0731, 재현율: 0.0721, F1: 0.0726, ROC AUC: 0.5031\n"
     ]
    }
   ],
   "source": [
    "get_clf_eval2(y_test, pred)\n",
    "get_clf_eval2(y_test, lr_pred)"
   ]
  },
  {
   "cell_type": "code",
   "execution_count": null,
   "metadata": {},
   "outputs": [],
   "source": []
  },
  {
   "cell_type": "code",
   "execution_count": null,
   "metadata": {},
   "outputs": [],
   "source": []
  },
  {
   "cell_type": "code",
   "execution_count": null,
   "metadata": {},
   "outputs": [],
   "source": []
  },
  {
   "cell_type": "code",
   "execution_count": null,
   "metadata": {},
   "outputs": [],
   "source": []
  },
  {
   "cell_type": "markdown",
   "metadata": {},
   "source": [
    "# 교차검증 -> 결정트리모델 평가. K-Fold, cross_val_score, GridSearchCV 사용 하이퍼파라미터 튜닝 후 결정트리에 테스트"
   ]
  },
  {
   "cell_type": "code",
   "execution_count": 61,
   "metadata": {},
   "outputs": [
    {
     "name": "stdout",
     "output_type": "stream",
     "text": [
      "교차 검증 0 정확도: 0.9970\n",
      "교차 검증 1 정확도: 0.9970\n",
      "교차 검증 2 정확도: 0.9988\n",
      "교차 검증 3 정확도: 0.9906\n",
      "교차 검증 4 정확도: 0.9946\n",
      "평균 정확도: 0.9956\n"
     ]
    }
   ],
   "source": [
    "############################################# 정말 어려운 구현 #############################################\n",
    "\n",
    "\n",
    "from sklearn.model_selection import KFold\n",
    "\n",
    "def exec_kfold(clf, folds=5):\n",
    "    # 폴드 세트를 5개인 KFold 객체 생성\n",
    "    kfold = KFold(n_splits = folds)\n",
    "    scores = [] # 폴드 수만큼 예측결과 저장을 위한 리스트 객체 생성\n",
    "    \n",
    "    \n",
    "    # K-Fold 교차 검증 수행\n",
    "    for iter_count, (train_index, test_index) in enumerate(kfold.split(X_practice_df)):\n",
    "        # X_practice_df 데이터에서 교차 검증별로 학습과 검증 데이터를 가리키는 index 생성\n",
    "        X_train, X_test = X_practice_df.values[train_index], X_practice_df.values[test_index]\n",
    "        y_train, y_test = y_practice_df.values[train_index], y_practice_df.values[test_index]\n",
    "        \n",
    "        # Classifier 학습/예측/정확도 계산\n",
    "        clf.fit(X_train, y_train)\n",
    "        predictions = clf.predict(X_test)\n",
    "        accuracy = accuracy_score(y_test, predictions)\n",
    "        scores.append(accuracy)\n",
    "        print(\"교차 검증 {0} 정확도: {1:.4f}\".format(iter_count, accuracy))\n",
    "        \n",
    "        \n",
    "    # 5개 fold에서의 평균 정확도 계산.\n",
    "    mean_score = np.mean(scores)\n",
    "    print(\"평균 정확도: {0:.4f}\".format(mean_score))\n",
    "\n",
    "# exec_kfold 호출\n",
    "exec_kfold(dt_clf, folds=5)\n",
    "\n",
    "############################################# 정말 어려운 구현 #############################################"
   ]
  },
  {
   "cell_type": "code",
   "execution_count": 62,
   "metadata": {},
   "outputs": [
    {
     "name": "stdout",
     "output_type": "stream",
     "text": [
      "교차 검증 0 정확도: 0.9970\n",
      "교차 검증 1 정확도: 0.9970\n",
      "교차 검증 2 정확도: 0.9867\n",
      "교차 검증 3 정확도: 0.9955\n",
      "교차 검증 4 정확도: 0.9903\n",
      "평균 정확도: 0.9933\n"
     ]
    }
   ],
   "source": [
    "# 교차 검증을 위한 cross_val_score() API 수행\n",
    "\n",
    "from sklearn.model_selection import cross_val_score\n",
    "\n",
    "scores = cross_val_score(dt_clf, X_practice_df, y_practice_df, cv=5)\n",
    "for iter_count, accuracy in enumerate(scores):\n",
    "    print(\"교차 검증 {0} 정확도: {1:.4f}\".format(iter_count, accuracy))\n",
    "    \n",
    "print(\"평균 정확도: {0:.4f}\".format(np.mean(scores)))\n",
    "\n",
    "# 정확도가 다른 이유는. cross_val_score()는 StratifiedKFold를 이용해 폴드 세트를 분할하기 때문."
   ]
  },
  {
   "cell_type": "code",
   "execution_count": 63,
   "metadata": {
    "scrolled": true
   },
   "outputs": [
    {
     "name": "stdout",
     "output_type": "stream",
     "text": [
      "GridSearchCV 최적 하이퍼 파라미터 : {'max_depth': 5, 'min_samples_leaf': 1, 'min_samples_split': 2}\n",
      "GridSearchCV 최고 정확도: 0.9974\n",
      "테스트 세트에서의 DecisionTreeClassifier 정확도 : 0.9982\n"
     ]
    }
   ],
   "source": [
    "# GridSearchCV로 결정트리분류의 최적 하이퍼 파라미터 찾고 예측 성능 측정.\n",
    "\n",
    "# 단계1. CV에 5개 폴드세트 지정\n",
    "# 단계2. max_depth, min_samples_split, min_samples_leaf 하이퍼 파라미터를 변경하면서 성능 측정\n",
    "# 단계3. 최적 하이퍼 파라미터와 그때의 예측을 출력\n",
    "# 단계4. 최적 하이퍼 파라미터로 학습된 Estimator를 이용해 위의 train_test_split()으로 분리된 테스트 데이터 세트에 예측 수행.\n",
    "\n",
    "from sklearn.model_selection import GridSearchCV\n",
    "\n",
    "parameters = {'max_depth':[2, 3, 5, 10],\n",
    "             'min_samples_split':[2, 3, 5], 'min_samples_leaf':[1, 5, 8]}\n",
    "\n",
    "grid_dclf = GridSearchCV(dt_clf, param_grid=parameters, scoring='accuracy', cv=5)\n",
    "grid_dclf.fit(X_train, y_train)\n",
    "\n",
    "print('GridSearchCV 최적 하이퍼 파라미터 :', grid_dclf.best_params_)\n",
    "print('GridSearchCV 최고 정확도: {0:.4f}'.format(grid_dclf.best_score_))\n",
    "best_dclf = grid_dclf.best_estimator_\n",
    "\n",
    "\n",
    "# GridSearchCV의 최적 하이퍼 파라미터로 학습된 Estimator로 예측 및 평가 수행.\n",
    "dpredictions = best_dclf.predict(X_test)\n",
    "accuracy = accuracy_score(y_test, dpredictions)\n",
    "print('테스트 세트에서의 DecisionTreeClassifier 정확도 : {0:.4f}'.format(accuracy))\n",
    "\n",
    "\n",
    "# 하이퍼 파라미터 변경 전보다 약 8% 이상 증가했는데, 일반적으로 하이퍼 파라미터 튜닝하더라도 이 정도 수준으로 증가하기는 매우 어렵다.\n",
    "# -> 테스트용 데이터 세트가 작기 때문에 수치상으로 예측 성능이 많이 증가한 것처럼 보일 뿐이다."
   ]
  },
  {
   "cell_type": "markdown",
   "metadata": {},
   "source": [
    "# 아래는 결정트리 시각화 구현하다 만 것"
   ]
  },
  {
   "cell_type": "markdown",
   "metadata": {},
   "source": [
    "dTreeLimit = DecisionTreeClassifier(max_depth=3, random_state=0)\n",
    "\n",
    "dTreeLimit.fit(X_train, y_train)\n",
    "\n",
    "print(\"Train Set Score2 : {:2f}\".format(dTreeLimit.score(X_train, y_train)))\n",
    "print(\"Test Set Score2 : {:2f}\".format(dTreeLimit.score(X_test, y_test)))"
   ]
  },
  {
   "cell_type": "markdown",
   "metadata": {},
   "source": [
    "import graphviz\n",
    "from sklearn.tree import export_graphviz\n",
    "\n",
    "export_graphviz(dTreeLimit, out_file='tree.dot',\n",
    "                class_names=practice_df3_names,\n",
    "                feature_names=practice_df3_names,\n",
    "                impurity=False, # gini 미출력\n",
    "                filled=True) # filled: node의 색깔을 다르게\n",
    "\n",
    "\n",
    "\n",
    "with open('tree.dot') as file_reader:\n",
    "    dot_graph = file_reader.read()\n",
    "\n",
    "\n",
    "dot = graphviz.Source(dot_graph) # dot_graph의 source 저장\n",
    "dot.render(filename='tree.png') # png로 저장\n",
    "\n"
   ]
  },
  {
   "cell_type": "markdown",
   "metadata": {},
   "source": [
    "from sklearn.model_selection import train_test_split\n",
    "X_train, X_test, y_train, y_test = train_test_split(X_practice_df3, y_practice_df3, test_size=0.2, random_state=13) # test 데이터가 20%"
   ]
  },
  {
   "cell_type": "markdown",
   "metadata": {},
   "source": [
    "from sklearn.tree import export_graphviz\n",
    "\n",
    "export_graphviz(dt_clf, out_file=\"tree.dot\", class_names= practice_df3.target_names,feature_names = practice_df3.feature_names, impurity=True, filled=True)"
   ]
  },
  {
   "cell_type": "markdown",
   "metadata": {},
   "source": [
    "#### from sklearn.tree import export_graphviz\n",
    "\n",
    "export_graphviz(\n",
    "        dt_clf,\n",
    "        out_file=image_path('adklsfja.dot'),\n",
    "        feature_names=['과목명','상품명', '성별구분','생일/사업자','담보명','상환방법','자금용도구분코드','보정이자구분','기한이익상실여부'],\n",
    "        class_names=y_practice_df3_names,\n",
    "        rounded = True,\n",
    "        filled = True)\n",
    "\n"
   ]
  },
  {
   "cell_type": "code",
   "execution_count": null,
   "metadata": {},
   "outputs": [],
   "source": []
  }
 ],
 "metadata": {
  "kernelspec": {
   "display_name": "Python 3",
   "language": "python",
   "name": "python3"
  },
  "language_info": {
   "codemirror_mode": {
    "name": "ipython",
    "version": 3
   },
   "file_extension": ".py",
   "mimetype": "text/x-python",
   "name": "python",
   "nbconvert_exporter": "python",
   "pygments_lexer": "ipython3",
   "version": "3.7.3"
  }
 },
 "nbformat": 4,
 "nbformat_minor": 2
}
