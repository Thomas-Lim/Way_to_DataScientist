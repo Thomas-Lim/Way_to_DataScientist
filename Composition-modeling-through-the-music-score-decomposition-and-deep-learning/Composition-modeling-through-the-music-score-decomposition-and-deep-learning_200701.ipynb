{
  "nbformat": 4,
  "nbformat_minor": 0,
  "metadata": {
    "colab": {
      "name": "악보분해와 딥러닝을 통한 작곡 모델링_200701.ipynb",
      "provenance": [],
      "collapsed_sections": []
    },
    "kernelspec": {
      "name": "python3",
      "display_name": "Python 3"
    }
  },
  "cells": [
    {
      "cell_type": "code",
      "metadata": {
        "id": "moW8AjpQ11UN",
        "colab_type": "code",
        "colab": {
          "base_uri": "https://localhost:8080/",
          "height": 35
        },
        "outputId": "847b6554-e017-4c56-ba60-0596f0bbfbcf"
      },
      "source": [
        "# 목표 : 첫 4개 음표를 입력하면 나머지를 연주할 수 있는 모델을 만드는 것이 목표\n",
        "\n",
        "\n",
        "# 0. 사용할 패키지 불러오기\n",
        "import keras\n",
        "from keras.models import Sequential\n",
        "from keras.layers import Dense\n",
        "from keras.utils import np_utils\n",
        "import numpy as np\n",
        "\n",
        "# 랜덤시드 고정시키기\n",
        "np.random.seed(5)\n",
        "\n",
        "# 데이터셋 생성 함수        \n",
        "def seq2dataset(seq, window_size):    # 아래에서 지정할 윈도우 크기만큼 자르는 함수\n",
        "    dataset = []\n",
        "    for i in range(len(seq)-window_size):    # 만약 seq 30 - 4 : 26 범위이면, 0~25\n",
        "        subset = seq[i:(i+window_size+1)]    # seq i:~ i+window_size+1 만큼 해서 dataset에 넣어준다.\n",
        "        dataset.append([code2idx[item] for item in subset])\n",
        "    return np.array(dataset)"
      ],
      "execution_count": 1,
      "outputs": [
        {
          "output_type": "stream",
          "text": [
            "Using TensorFlow backend.\n"
          ],
          "name": "stderr"
        }
      ]
    },
    {
      "cell_type": "markdown",
      "metadata": {
        "id": "Wcq_l-kkfCcZ",
        "colab_type": "text"
      },
      "source": [
        "#g4\te8f8 g4\te8f8 g8b8a8b8 c8e8e8f8 e4 c8e8 e4     e8f8 g8a8g8f8  g8c8b8c8  \n",
        "\t\t\t\n",
        "\t\t\t\n",
        "#a4\tc8b8 a4\tg8f8 g8f8e8f8g8a8b8c8a8\tc4b8c8    b8c8\tb8a8b8c8e8e8f8g8  \n",
        "\n",
        "\n",
        "#g4e8f8g4 \te8f8g8b8 a8b8c8e8 e4 f8e8\t  c4 e8e8   e8f8 g8a8g8f8g8c8b8c8\n",
        "\t\t\t\n",
        "\t\t\t\n",
        "#a4\tc8b8a4\tg8f8g8f8 e8f8g8a8 b4 c8a8 c4 a8c8\tb8c8e8c8b8c8a8b8\n",
        "\n",
        "\n",
        "# https://m.blog.naver.com/PostView.nhn?blogId=ahyoon08&logNo=221008211738&proxyReferer=https:%2F%2Fwww.google.com%2F&view=img_10\n"
      ]
    },
    {
      "cell_type": "markdown",
      "metadata": {
        "id": "GmwnghgRrWUr",
        "colab_type": "text"
      },
      "source": [
        "\n",
        "음계가 문장보다 더 코드화 하기 쉬움.\n",
        "시계열 자료임.\n",
        "\n",
        "c(도), d(레), e(미), f(파), g(솔), a(라), b(시)\n",
        "4(4분음표), 8(8분음표)\n",
        "\n",
        "6개의 음표로는 위와 같이 2개의 샘플이 나옴. \n",
        "각 샘플은 4개의 입력 데이터와 1개의 라벨값으로 구성되어 있음. \n",
        "즉 1~4번째 열은 속성(feature)이고, 5번째 열은 y임.\n",
        "이렇게 4개씩 구간을 보는 것을 '윈도우 크기 4'"
      ]
    },
    {
      "cell_type": "markdown",
      "metadata": {
        "id": "ZvEIamd2rWnI",
        "colab_type": "text"
      },
      "source": [
        "문자와 숫자로 된 음표(코드)로는 모델 입출력으로 사용할 수 없다.\n",
        "아래 사전에서,\n",
        "-> 첫번째 사전 : 숫자\n",
        "-> 두번째 사전 : 코드"
      ]
    },
    {
      "cell_type": "markdown",
      "metadata": {
        "id": "VddDA1zjrU-I",
        "colab_type": "text"
      },
      "source": [
        ""
      ]
    },
    {
      "cell_type": "code",
      "metadata": {
        "id": "1u1qfx9x12lg",
        "colab_type": "code",
        "colab": {}
      },
      "source": [
        "# 1. 데이터 준비하기. 나온 것들 하나씩 Unique 하게 나열.\n",
        "# 코드 사전 정의\n",
        "# 코드를 숫자로\n",
        "code2idx = {'a4':0, 'a8':1, 'b4':2, 'b8':3, 'c4':4, 'c8':5, \n",
        "            'e4':6, 'e8':7, 'f8':8, 'g4':9, 'g8':10}\n",
        "\n",
        "\n",
        "\n",
        "\n",
        "# 숫자를 코드로\n",
        "idx2code = {0:'a4', 1:'a8', 2:'b4', 3:'b8', 4:'c4', 5:'c8', \n",
        "            6:'e4', 7:'e8', 8:'f8', 9:'g4', 10:'g8'}\n",
        "\n",
        "# 시퀀스 데이터 정의\n",
        "\n",
        "seq = ['g4','e8','f8','g4','e8','f8','g8','b8','a8','b8','c8','e8','e8','f8','e4','c8','e8','e4','e8','f8','g8','a8','g8','f8','g8','c8','b8','c8',\n",
        "'a4','c8','b8','a4','g8','f8','g8','f8','e8','f8','g8','a8','b8','c8','a8','c4','b8','c8','b8','c8','b8','a8','b8','c8','e8','e8','f8','g8',\n",
        "'g4','e8','f8','g4','e8','f8','g8','b8','a8','b8','c8','e8','e4','f8','e8','c4','e8','e8','e8','f8','g8','a8','g8','f8','g8','c8','b8','c8',\n",
        "'a4','c8','b8','a4','g8','f8','g8','f8','e8','f8','g8','a8','b4','c8','a8','c4','a8','c8','b8','c8','e8','c8','b8','c8','a8','b8']    # 악보 전체 입력."
      ],
      "execution_count": 2,
      "outputs": []
    },
    {
      "cell_type": "code",
      "metadata": {
        "id": "tx5EsPdG15JQ",
        "colab_type": "code",
        "colab": {
          "base_uri": "https://localhost:8080/",
          "height": 1000
        },
        "outputId": "5651f59e-5ab7-4716-e079-b807376db9ca"
      },
      "source": [
        "# 2. 데이터셋 생성하기     seq2dataset() 함수를 하여 dataset를 생성. 데이터셋은 앞서 정의한 사전에 따라 숫자로 변환되어 생성.\n",
        "dataset = seq2dataset(seq, window_size = 4) # 윈도우 사이즈 4 + 타겟 1 이므로 5임.\n",
        "\n",
        "print(dataset.shape)\n",
        "print(dataset)\n"
      ],
      "execution_count": 3,
      "outputs": [
        {
          "output_type": "stream",
          "text": [
            "(106, 5)\n",
            "[[ 9  7  8  9  7]\n",
            " [ 7  8  9  7  8]\n",
            " [ 8  9  7  8 10]\n",
            " [ 9  7  8 10  3]\n",
            " [ 7  8 10  3  1]\n",
            " [ 8 10  3  1  3]\n",
            " [10  3  1  3  5]\n",
            " [ 3  1  3  5  7]\n",
            " [ 1  3  5  7  7]\n",
            " [ 3  5  7  7  8]\n",
            " [ 5  7  7  8  6]\n",
            " [ 7  7  8  6  5]\n",
            " [ 7  8  6  5  7]\n",
            " [ 8  6  5  7  6]\n",
            " [ 6  5  7  6  7]\n",
            " [ 5  7  6  7  8]\n",
            " [ 7  6  7  8 10]\n",
            " [ 6  7  8 10  1]\n",
            " [ 7  8 10  1 10]\n",
            " [ 8 10  1 10  8]\n",
            " [10  1 10  8 10]\n",
            " [ 1 10  8 10  5]\n",
            " [10  8 10  5  3]\n",
            " [ 8 10  5  3  5]\n",
            " [10  5  3  5  0]\n",
            " [ 5  3  5  0  5]\n",
            " [ 3  5  0  5  3]\n",
            " [ 5  0  5  3  0]\n",
            " [ 0  5  3  0 10]\n",
            " [ 5  3  0 10  8]\n",
            " [ 3  0 10  8 10]\n",
            " [ 0 10  8 10  8]\n",
            " [10  8 10  8  7]\n",
            " [ 8 10  8  7  8]\n",
            " [10  8  7  8 10]\n",
            " [ 8  7  8 10  1]\n",
            " [ 7  8 10  1  3]\n",
            " [ 8 10  1  3  5]\n",
            " [10  1  3  5  1]\n",
            " [ 1  3  5  1  4]\n",
            " [ 3  5  1  4  3]\n",
            " [ 5  1  4  3  5]\n",
            " [ 1  4  3  5  3]\n",
            " [ 4  3  5  3  5]\n",
            " [ 3  5  3  5  3]\n",
            " [ 5  3  5  3  1]\n",
            " [ 3  5  3  1  3]\n",
            " [ 5  3  1  3  5]\n",
            " [ 3  1  3  5  7]\n",
            " [ 1  3  5  7  7]\n",
            " [ 3  5  7  7  8]\n",
            " [ 5  7  7  8 10]\n",
            " [ 7  7  8 10  9]\n",
            " [ 7  8 10  9  7]\n",
            " [ 8 10  9  7  8]\n",
            " [10  9  7  8  9]\n",
            " [ 9  7  8  9  7]\n",
            " [ 7  8  9  7  8]\n",
            " [ 8  9  7  8 10]\n",
            " [ 9  7  8 10  3]\n",
            " [ 7  8 10  3  1]\n",
            " [ 8 10  3  1  3]\n",
            " [10  3  1  3  5]\n",
            " [ 3  1  3  5  7]\n",
            " [ 1  3  5  7  6]\n",
            " [ 3  5  7  6  8]\n",
            " [ 5  7  6  8  7]\n",
            " [ 7  6  8  7  4]\n",
            " [ 6  8  7  4  7]\n",
            " [ 8  7  4  7  7]\n",
            " [ 7  4  7  7  7]\n",
            " [ 4  7  7  7  8]\n",
            " [ 7  7  7  8 10]\n",
            " [ 7  7  8 10  1]\n",
            " [ 7  8 10  1 10]\n",
            " [ 8 10  1 10  8]\n",
            " [10  1 10  8 10]\n",
            " [ 1 10  8 10  5]\n",
            " [10  8 10  5  3]\n",
            " [ 8 10  5  3  5]\n",
            " [10  5  3  5  0]\n",
            " [ 5  3  5  0  5]\n",
            " [ 3  5  0  5  3]\n",
            " [ 5  0  5  3  0]\n",
            " [ 0  5  3  0 10]\n",
            " [ 5  3  0 10  8]\n",
            " [ 3  0 10  8 10]\n",
            " [ 0 10  8 10  8]\n",
            " [10  8 10  8  7]\n",
            " [ 8 10  8  7  8]\n",
            " [10  8  7  8 10]\n",
            " [ 8  7  8 10  1]\n",
            " [ 7  8 10  1  2]\n",
            " [ 8 10  1  2  5]\n",
            " [10  1  2  5  1]\n",
            " [ 1  2  5  1  4]\n",
            " [ 2  5  1  4  1]\n",
            " [ 5  1  4  1  5]\n",
            " [ 1  4  1  5  3]\n",
            " [ 4  1  5  3  5]\n",
            " [ 1  5  3  5  7]\n",
            " [ 5  3  5  7  5]\n",
            " [ 3  5  7  5  3]\n",
            " [ 5  7  5  3  5]\n",
            " [ 7  5  3  5  1]\n",
            " [ 5  3  5  1  3]]\n"
          ],
          "name": "stdout"
        }
      ]
    },
    {
      "cell_type": "markdown",
      "metadata": {
        "id": "Kgz6PirD32ew",
        "colab_type": "text"
      },
      "source": [
        "예측 과정\n",
        "1) 한 스텝 단위 예측 \n",
        "2) 곡 전체 예측입니다.\n",
        "\n",
        "1) 한 스텝 예측\n",
        "한 스텝 예측이란 실제 음표 4개를 입력하여 다음 음표 1개를 예측하는 것을 반복하는 것. \n",
        "\n",
        "2) 곡 전체 예측\n",
        "입력된 초기 4개 음표만을 입력으로 곡 전체를 예측. 만약 중간에 틀린 부분이 생긴다면, 이후 음정, 박자는 모두 이상하게 될 가능성 존재.\n",
        "\n",
        "-> 처음 윈도우사이즈(4개)만 사용해서 다음 5번째 음정을 예측, 그리고 슬라이딩 윈도우 사용해서 결국엔 예측값들만으로 다음 음정을 예측하는 방법.\n",
        "\n"
      ]
    },
    {
      "cell_type": "code",
      "metadata": {
        "id": "42EIZmVe1R_K",
        "colab_type": "code",
        "colab": {}
      },
      "source": [
        "# 1~4번째 음표를 데이터로 5번째 음표를 라벨값으로 학습. 끝까지 이렇게 반복.\n",
        "\n",
        "\n",
        "# 입력(X)과 출력(Y) 변수로 분리하기\n",
        "mlp_x_train = dataset[:,0:4]   #  학습필요.  행 : 전체, 로우 : 0,1,2,3 가져옴.\n",
        "mlp_y_train = dataset[:,4]     #  학습필요   행 : 전체, 로우 : 4번째 만 가져옴.\n"
      ],
      "execution_count": 4,
      "outputs": []
    },
    {
      "cell_type": "code",
      "metadata": {
        "id": "R5ZSPIJoCs4H",
        "colab_type": "code",
        "colab": {
          "base_uri": "https://localhost:8080/",
          "height": 1000
        },
        "outputId": "c325b908-1c68-429d-852b-f43f48e3d504"
      },
      "source": [
        "print(mlp_x_train)"
      ],
      "execution_count": 5,
      "outputs": [
        {
          "output_type": "stream",
          "text": [
            "[[ 9  7  8  9]\n",
            " [ 7  8  9  7]\n",
            " [ 8  9  7  8]\n",
            " [ 9  7  8 10]\n",
            " [ 7  8 10  3]\n",
            " [ 8 10  3  1]\n",
            " [10  3  1  3]\n",
            " [ 3  1  3  5]\n",
            " [ 1  3  5  7]\n",
            " [ 3  5  7  7]\n",
            " [ 5  7  7  8]\n",
            " [ 7  7  8  6]\n",
            " [ 7  8  6  5]\n",
            " [ 8  6  5  7]\n",
            " [ 6  5  7  6]\n",
            " [ 5  7  6  7]\n",
            " [ 7  6  7  8]\n",
            " [ 6  7  8 10]\n",
            " [ 7  8 10  1]\n",
            " [ 8 10  1 10]\n",
            " [10  1 10  8]\n",
            " [ 1 10  8 10]\n",
            " [10  8 10  5]\n",
            " [ 8 10  5  3]\n",
            " [10  5  3  5]\n",
            " [ 5  3  5  0]\n",
            " [ 3  5  0  5]\n",
            " [ 5  0  5  3]\n",
            " [ 0  5  3  0]\n",
            " [ 5  3  0 10]\n",
            " [ 3  0 10  8]\n",
            " [ 0 10  8 10]\n",
            " [10  8 10  8]\n",
            " [ 8 10  8  7]\n",
            " [10  8  7  8]\n",
            " [ 8  7  8 10]\n",
            " [ 7  8 10  1]\n",
            " [ 8 10  1  3]\n",
            " [10  1  3  5]\n",
            " [ 1  3  5  1]\n",
            " [ 3  5  1  4]\n",
            " [ 5  1  4  3]\n",
            " [ 1  4  3  5]\n",
            " [ 4  3  5  3]\n",
            " [ 3  5  3  5]\n",
            " [ 5  3  5  3]\n",
            " [ 3  5  3  1]\n",
            " [ 5  3  1  3]\n",
            " [ 3  1  3  5]\n",
            " [ 1  3  5  7]\n",
            " [ 3  5  7  7]\n",
            " [ 5  7  7  8]\n",
            " [ 7  7  8 10]\n",
            " [ 7  8 10  9]\n",
            " [ 8 10  9  7]\n",
            " [10  9  7  8]\n",
            " [ 9  7  8  9]\n",
            " [ 7  8  9  7]\n",
            " [ 8  9  7  8]\n",
            " [ 9  7  8 10]\n",
            " [ 7  8 10  3]\n",
            " [ 8 10  3  1]\n",
            " [10  3  1  3]\n",
            " [ 3  1  3  5]\n",
            " [ 1  3  5  7]\n",
            " [ 3  5  7  6]\n",
            " [ 5  7  6  8]\n",
            " [ 7  6  8  7]\n",
            " [ 6  8  7  4]\n",
            " [ 8  7  4  7]\n",
            " [ 7  4  7  7]\n",
            " [ 4  7  7  7]\n",
            " [ 7  7  7  8]\n",
            " [ 7  7  8 10]\n",
            " [ 7  8 10  1]\n",
            " [ 8 10  1 10]\n",
            " [10  1 10  8]\n",
            " [ 1 10  8 10]\n",
            " [10  8 10  5]\n",
            " [ 8 10  5  3]\n",
            " [10  5  3  5]\n",
            " [ 5  3  5  0]\n",
            " [ 3  5  0  5]\n",
            " [ 5  0  5  3]\n",
            " [ 0  5  3  0]\n",
            " [ 5  3  0 10]\n",
            " [ 3  0 10  8]\n",
            " [ 0 10  8 10]\n",
            " [10  8 10  8]\n",
            " [ 8 10  8  7]\n",
            " [10  8  7  8]\n",
            " [ 8  7  8 10]\n",
            " [ 7  8 10  1]\n",
            " [ 8 10  1  2]\n",
            " [10  1  2  5]\n",
            " [ 1  2  5  1]\n",
            " [ 2  5  1  4]\n",
            " [ 5  1  4  1]\n",
            " [ 1  4  1  5]\n",
            " [ 4  1  5  3]\n",
            " [ 1  5  3  5]\n",
            " [ 5  3  5  7]\n",
            " [ 3  5  7  5]\n",
            " [ 5  7  5  3]\n",
            " [ 7  5  3  5]\n",
            " [ 5  3  5  1]]\n"
          ],
          "name": "stdout"
        }
      ]
    },
    {
      "cell_type": "code",
      "metadata": {
        "id": "i37bIJscCmOa",
        "colab_type": "code",
        "colab": {
          "base_uri": "https://localhost:8080/",
          "height": 35
        },
        "outputId": "7603f3dc-c85a-4c09-87ec-cfedb3733700"
      },
      "source": [
        "\n",
        "max_idx_value = 10   # 총 11개 데이터에서 나눠줘야 하기 때문에 0~10. 최대값인 10으로 나눠졌다.\n",
        "# # 1. 데이터 준비하기. 나온 것들 하나씩 Unique 하게 나열.\n",
        "# 코드 사전 정의\n",
        "# 코드를 숫자로  여기에서 정의된 것들이 0~ 10까지 있다.\n",
        "\n",
        "\n",
        "# 입력값 정규화 시키기\n",
        "mlp_x_train = mlp_x_train / float(max_idx_value)   # 10.0\n",
        "\n",
        "# y값에 대한 라벨값에 대한 one-hot 인코딩 수행 이유 : 구분되야 하는 값이 3개가 넘어가므로 원핫인코딩 해줌. 2개를 안쓰므로 12개로 해줌.\n",
        "mlp_y_train = np_utils.to_categorical(mlp_y_train)\n",
        "\n",
        "one_hot_vec_size = mlp_y_train.shape[1]  # 이 부분은 12라고 정수로 써줘도 무관.\n",
        "\n",
        "print(\"one hot encoding vector size is \", one_hot_vec_size)"
      ],
      "execution_count": 6,
      "outputs": [
        {
          "output_type": "stream",
          "text": [
            "one hot encoding vector size is  11\n"
          ],
          "name": "stdout"
        }
      ]
    },
    {
      "cell_type": "code",
      "metadata": {
        "id": "sHsMErIpd8iY",
        "colab_type": "code",
        "colab": {
          "base_uri": "https://localhost:8080/",
          "height": 35
        },
        "outputId": "6df31d77-c34e-48f6-92b0-28a19a7c6f4f"
      },
      "source": [
        "print(float(max_idx_value))"
      ],
      "execution_count": 7,
      "outputs": [
        {
          "output_type": "stream",
          "text": [
            "10.0\n"
          ],
          "name": "stdout"
        }
      ]
    },
    {
      "cell_type": "code",
      "metadata": {
        "id": "OJsxaWu87JvG",
        "colab_type": "code",
        "colab": {
          "base_uri": "https://localhost:8080/",
          "height": 1000
        },
        "outputId": "3ecb92e9-137f-40fd-85fd-9e01a7c154cf"
      },
      "source": [
        "print(mlp_x_train)"
      ],
      "execution_count": 8,
      "outputs": [
        {
          "output_type": "stream",
          "text": [
            "[[0.9 0.7 0.8 0.9]\n",
            " [0.7 0.8 0.9 0.7]\n",
            " [0.8 0.9 0.7 0.8]\n",
            " [0.9 0.7 0.8 1. ]\n",
            " [0.7 0.8 1.  0.3]\n",
            " [0.8 1.  0.3 0.1]\n",
            " [1.  0.3 0.1 0.3]\n",
            " [0.3 0.1 0.3 0.5]\n",
            " [0.1 0.3 0.5 0.7]\n",
            " [0.3 0.5 0.7 0.7]\n",
            " [0.5 0.7 0.7 0.8]\n",
            " [0.7 0.7 0.8 0.6]\n",
            " [0.7 0.8 0.6 0.5]\n",
            " [0.8 0.6 0.5 0.7]\n",
            " [0.6 0.5 0.7 0.6]\n",
            " [0.5 0.7 0.6 0.7]\n",
            " [0.7 0.6 0.7 0.8]\n",
            " [0.6 0.7 0.8 1. ]\n",
            " [0.7 0.8 1.  0.1]\n",
            " [0.8 1.  0.1 1. ]\n",
            " [1.  0.1 1.  0.8]\n",
            " [0.1 1.  0.8 1. ]\n",
            " [1.  0.8 1.  0.5]\n",
            " [0.8 1.  0.5 0.3]\n",
            " [1.  0.5 0.3 0.5]\n",
            " [0.5 0.3 0.5 0. ]\n",
            " [0.3 0.5 0.  0.5]\n",
            " [0.5 0.  0.5 0.3]\n",
            " [0.  0.5 0.3 0. ]\n",
            " [0.5 0.3 0.  1. ]\n",
            " [0.3 0.  1.  0.8]\n",
            " [0.  1.  0.8 1. ]\n",
            " [1.  0.8 1.  0.8]\n",
            " [0.8 1.  0.8 0.7]\n",
            " [1.  0.8 0.7 0.8]\n",
            " [0.8 0.7 0.8 1. ]\n",
            " [0.7 0.8 1.  0.1]\n",
            " [0.8 1.  0.1 0.3]\n",
            " [1.  0.1 0.3 0.5]\n",
            " [0.1 0.3 0.5 0.1]\n",
            " [0.3 0.5 0.1 0.4]\n",
            " [0.5 0.1 0.4 0.3]\n",
            " [0.1 0.4 0.3 0.5]\n",
            " [0.4 0.3 0.5 0.3]\n",
            " [0.3 0.5 0.3 0.5]\n",
            " [0.5 0.3 0.5 0.3]\n",
            " [0.3 0.5 0.3 0.1]\n",
            " [0.5 0.3 0.1 0.3]\n",
            " [0.3 0.1 0.3 0.5]\n",
            " [0.1 0.3 0.5 0.7]\n",
            " [0.3 0.5 0.7 0.7]\n",
            " [0.5 0.7 0.7 0.8]\n",
            " [0.7 0.7 0.8 1. ]\n",
            " [0.7 0.8 1.  0.9]\n",
            " [0.8 1.  0.9 0.7]\n",
            " [1.  0.9 0.7 0.8]\n",
            " [0.9 0.7 0.8 0.9]\n",
            " [0.7 0.8 0.9 0.7]\n",
            " [0.8 0.9 0.7 0.8]\n",
            " [0.9 0.7 0.8 1. ]\n",
            " [0.7 0.8 1.  0.3]\n",
            " [0.8 1.  0.3 0.1]\n",
            " [1.  0.3 0.1 0.3]\n",
            " [0.3 0.1 0.3 0.5]\n",
            " [0.1 0.3 0.5 0.7]\n",
            " [0.3 0.5 0.7 0.6]\n",
            " [0.5 0.7 0.6 0.8]\n",
            " [0.7 0.6 0.8 0.7]\n",
            " [0.6 0.8 0.7 0.4]\n",
            " [0.8 0.7 0.4 0.7]\n",
            " [0.7 0.4 0.7 0.7]\n",
            " [0.4 0.7 0.7 0.7]\n",
            " [0.7 0.7 0.7 0.8]\n",
            " [0.7 0.7 0.8 1. ]\n",
            " [0.7 0.8 1.  0.1]\n",
            " [0.8 1.  0.1 1. ]\n",
            " [1.  0.1 1.  0.8]\n",
            " [0.1 1.  0.8 1. ]\n",
            " [1.  0.8 1.  0.5]\n",
            " [0.8 1.  0.5 0.3]\n",
            " [1.  0.5 0.3 0.5]\n",
            " [0.5 0.3 0.5 0. ]\n",
            " [0.3 0.5 0.  0.5]\n",
            " [0.5 0.  0.5 0.3]\n",
            " [0.  0.5 0.3 0. ]\n",
            " [0.5 0.3 0.  1. ]\n",
            " [0.3 0.  1.  0.8]\n",
            " [0.  1.  0.8 1. ]\n",
            " [1.  0.8 1.  0.8]\n",
            " [0.8 1.  0.8 0.7]\n",
            " [1.  0.8 0.7 0.8]\n",
            " [0.8 0.7 0.8 1. ]\n",
            " [0.7 0.8 1.  0.1]\n",
            " [0.8 1.  0.1 0.2]\n",
            " [1.  0.1 0.2 0.5]\n",
            " [0.1 0.2 0.5 0.1]\n",
            " [0.2 0.5 0.1 0.4]\n",
            " [0.5 0.1 0.4 0.1]\n",
            " [0.1 0.4 0.1 0.5]\n",
            " [0.4 0.1 0.5 0.3]\n",
            " [0.1 0.5 0.3 0.5]\n",
            " [0.5 0.3 0.5 0.7]\n",
            " [0.3 0.5 0.7 0.5]\n",
            " [0.5 0.7 0.5 0.3]\n",
            " [0.7 0.5 0.3 0.5]\n",
            " [0.5 0.3 0.5 0.1]]\n"
          ],
          "name": "stdout"
        }
      ]
    },
    {
      "cell_type": "markdown",
      "metadata": {
        "id": "iu_c0tc26Qu4",
        "colab_type": "text"
      },
      "source": [
        "# 다층 퍼셉트론 모델\n",
        "\n",
        "#입력 속성이 4개(윈도우사이즈) 이고 출력이 11개(one_hot_vec_size=11)"
      ]
    },
    {
      "cell_type": "code",
      "metadata": {
        "id": "WpBgGswR19db",
        "colab_type": "code",
        "colab": {}
      },
      "source": [
        "# 3. 모델 구성하기\n",
        "model = Sequential()\n",
        "model.add(Dense(256, input_dim=4, activation='relu'))  # 인풋, 윈도우 사이즈만큼 4개로)\n",
        "dropout = 0.3\n",
        "model.add(Dense(128, activation='relu'))\n",
        "dropout = 0.3\n",
        "model.add(Dense(one_hot_vec_size, activation='softmax'))"
      ],
      "execution_count": 9,
      "outputs": []
    },
    {
      "cell_type": "code",
      "metadata": {
        "id": "GFHyEx8g1_DU",
        "colab_type": "code",
        "colab": {}
      },
      "source": [
        "# 4. 모델 학습과정 설정하기\n",
        "model.compile(loss='categorical_crossentropy', optimizer='adam', metrics=['accuracy'])\n",
        "\n",
        "#history = LossHistory() # 손실 이력 객체 생성  #위에 # 손실 이력 클래스 정의 사용.\n",
        "#history.init()"
      ],
      "execution_count": 10,
      "outputs": []
    },
    {
      "cell_type": "code",
      "metadata": {
        "id": "Yi_JS2mCOpRV",
        "colab_type": "code",
        "colab": {
          "base_uri": "https://localhost:8080/",
          "height": 269
        },
        "outputId": "695312b3-8cb1-479c-cc50-c1fda8e2bdc6"
      },
      "source": [
        "model.summary()"
      ],
      "execution_count": 11,
      "outputs": [
        {
          "output_type": "stream",
          "text": [
            "Model: \"sequential_1\"\n",
            "_________________________________________________________________\n",
            "Layer (type)                 Output Shape              Param #   \n",
            "=================================================================\n",
            "dense_1 (Dense)              (None, 256)               1280      \n",
            "_________________________________________________________________\n",
            "dense_2 (Dense)              (None, 128)               32896     \n",
            "_________________________________________________________________\n",
            "dense_3 (Dense)              (None, 11)                1419      \n",
            "=================================================================\n",
            "Total params: 35,595\n",
            "Trainable params: 35,595\n",
            "Non-trainable params: 0\n",
            "_________________________________________________________________\n"
          ],
          "name": "stdout"
        }
      ]
    },
    {
      "cell_type": "code",
      "metadata": {
        "id": "-kQG8NAm1rMg",
        "colab_type": "code",
        "colab": {
          "base_uri": "https://localhost:8080/",
          "height": 1000
        },
        "outputId": "f144290c-4394-4545-9e8d-d80491afcd53"
      },
      "source": [
        "model.weights\n",
        "\n",
        "#shape(4,256) -> 한개에서 768개.  X -> 히든레이어로\n",
        "#Shape (256, ) -> 바이어스\n",
        "#shape(256, 128) -> 레이어에서 레이어로\n",
        "#Shape (128, ) -> 바이어스\n",
        "#shape (128, 11) -> 히든레이어에서 y로(출력 레이어)\n",
        "#shape(11, ) -> 히든에서 y로 넘어올 때 보이는 바이어스"
      ],
      "execution_count": 12,
      "outputs": [
        {
          "output_type": "execute_result",
          "data": {
            "text/plain": [
              "[<tf.Variable 'dense_1/kernel:0' shape=(4, 256) dtype=float32, numpy=\n",
              " array([[-0.10385889,  0.10828912,  0.1336573 , ...,  0.09360293,\n",
              "          0.14877066, -0.12067041],\n",
              "        [-0.06138494,  0.05613537, -0.03769834, ..., -0.1036143 ,\n",
              "         -0.05425702,  0.0361007 ],\n",
              "        [ 0.08481349, -0.05134659,  0.01865812, ..., -0.06340154,\n",
              "         -0.07774098,  0.00072932],\n",
              "        [-0.1293998 , -0.10858741,  0.00364669, ..., -0.12063919,\n",
              "         -0.00864758,  0.12385812]], dtype=float32)>,\n",
              " <tf.Variable 'dense_1/bias:0' shape=(256,) dtype=float32, numpy=\n",
              " array([0., 0., 0., 0., 0., 0., 0., 0., 0., 0., 0., 0., 0., 0., 0., 0., 0.,\n",
              "        0., 0., 0., 0., 0., 0., 0., 0., 0., 0., 0., 0., 0., 0., 0., 0., 0.,\n",
              "        0., 0., 0., 0., 0., 0., 0., 0., 0., 0., 0., 0., 0., 0., 0., 0., 0.,\n",
              "        0., 0., 0., 0., 0., 0., 0., 0., 0., 0., 0., 0., 0., 0., 0., 0., 0.,\n",
              "        0., 0., 0., 0., 0., 0., 0., 0., 0., 0., 0., 0., 0., 0., 0., 0., 0.,\n",
              "        0., 0., 0., 0., 0., 0., 0., 0., 0., 0., 0., 0., 0., 0., 0., 0., 0.,\n",
              "        0., 0., 0., 0., 0., 0., 0., 0., 0., 0., 0., 0., 0., 0., 0., 0., 0.,\n",
              "        0., 0., 0., 0., 0., 0., 0., 0., 0., 0., 0., 0., 0., 0., 0., 0., 0.,\n",
              "        0., 0., 0., 0., 0., 0., 0., 0., 0., 0., 0., 0., 0., 0., 0., 0., 0.,\n",
              "        0., 0., 0., 0., 0., 0., 0., 0., 0., 0., 0., 0., 0., 0., 0., 0., 0.,\n",
              "        0., 0., 0., 0., 0., 0., 0., 0., 0., 0., 0., 0., 0., 0., 0., 0., 0.,\n",
              "        0., 0., 0., 0., 0., 0., 0., 0., 0., 0., 0., 0., 0., 0., 0., 0., 0.,\n",
              "        0., 0., 0., 0., 0., 0., 0., 0., 0., 0., 0., 0., 0., 0., 0., 0., 0.,\n",
              "        0., 0., 0., 0., 0., 0., 0., 0., 0., 0., 0., 0., 0., 0., 0., 0., 0.,\n",
              "        0., 0., 0., 0., 0., 0., 0., 0., 0., 0., 0., 0., 0., 0., 0., 0., 0.,\n",
              "        0.], dtype=float32)>,\n",
              " <tf.Variable 'dense_2/kernel:0' shape=(256, 128) dtype=float32, numpy=\n",
              " array([[ 0.05804309, -0.09619018, -0.112113  , ...,  0.05588716,\n",
              "          0.07831225, -0.07842514],\n",
              "        [ 0.0448069 , -0.12287518, -0.06791204, ..., -0.0432356 ,\n",
              "          0.05701688,  0.10884038],\n",
              "        [ 0.03751147, -0.05637705, -0.08118987, ...,  0.12484956,\n",
              "         -0.05124736, -0.12382472],\n",
              "        ...,\n",
              "        [-0.02415663,  0.0411092 , -0.04363078, ..., -0.09048864,\n",
              "          0.122518  ,  0.0778566 ],\n",
              "        [ 0.02297577,  0.01798368, -0.06151253, ..., -0.06096026,\n",
              "         -0.09636694, -0.07226062],\n",
              "        [-0.02724445,  0.0805499 , -0.06046563, ..., -0.1041891 ,\n",
              "         -0.04024667, -0.00981703]], dtype=float32)>,\n",
              " <tf.Variable 'dense_2/bias:0' shape=(128,) dtype=float32, numpy=\n",
              " array([0., 0., 0., 0., 0., 0., 0., 0., 0., 0., 0., 0., 0., 0., 0., 0., 0.,\n",
              "        0., 0., 0., 0., 0., 0., 0., 0., 0., 0., 0., 0., 0., 0., 0., 0., 0.,\n",
              "        0., 0., 0., 0., 0., 0., 0., 0., 0., 0., 0., 0., 0., 0., 0., 0., 0.,\n",
              "        0., 0., 0., 0., 0., 0., 0., 0., 0., 0., 0., 0., 0., 0., 0., 0., 0.,\n",
              "        0., 0., 0., 0., 0., 0., 0., 0., 0., 0., 0., 0., 0., 0., 0., 0., 0.,\n",
              "        0., 0., 0., 0., 0., 0., 0., 0., 0., 0., 0., 0., 0., 0., 0., 0., 0.,\n",
              "        0., 0., 0., 0., 0., 0., 0., 0., 0., 0., 0., 0., 0., 0., 0., 0., 0.,\n",
              "        0., 0., 0., 0., 0., 0., 0., 0., 0.], dtype=float32)>,\n",
              " <tf.Variable 'dense_3/kernel:0' shape=(128, 11) dtype=float32, numpy=\n",
              " array([[-1.6774081e-01, -1.8174498e-01, -3.9733112e-02, ...,\n",
              "         -7.1915418e-02,  1.4202119e-01, -1.4658113e-01],\n",
              "        [ 1.0619159e-01, -2.0147306e-01, -1.0435148e-01, ...,\n",
              "          1.4276822e-01, -1.4192306e-01, -4.2526960e-02],\n",
              "        [-1.3653013e-01, -4.7346964e-02, -7.3144957e-02, ...,\n",
              "         -2.3779571e-03,  5.0412849e-02, -1.2795162e-01],\n",
              "        ...,\n",
              "        [-2.6552260e-02, -1.6296677e-01,  6.7024514e-02, ...,\n",
              "         -1.5463674e-01,  1.5692325e-01,  7.1804956e-02],\n",
              "        [-4.2097732e-02, -5.0976872e-05,  1.5531002e-01, ...,\n",
              "          1.6416328e-01, -1.6880982e-01, -8.1775561e-02],\n",
              "        [-1.3904619e-01, -9.6863545e-02, -1.1691924e-01, ...,\n",
              "          1.1595754e-01,  5.9890851e-02, -2.3200706e-02]], dtype=float32)>,\n",
              " <tf.Variable 'dense_3/bias:0' shape=(11,) dtype=float32, numpy=array([0., 0., 0., 0., 0., 0., 0., 0., 0., 0., 0.], dtype=float32)>]"
            ]
          },
          "metadata": {
            "tags": []
          },
          "execution_count": 12
        }
      ]
    },
    {
      "cell_type": "code",
      "metadata": {
        "id": "JEHVeVGf1rYm",
        "colab_type": "code",
        "colab": {
          "base_uri": "https://localhost:8080/",
          "height": 755
        },
        "outputId": "67e98901-1636-4696-e0a7-b674bd7c43ec"
      },
      "source": [
        "# 5. 모델 학습시키기\n",
        "history = model.fit(mlp_x_train, mlp_y_train, epochs=20, batch_size=4, verbose=1, validation_split=0.2)"
      ],
      "execution_count": 13,
      "outputs": [
        {
          "output_type": "stream",
          "text": [
            "Train on 84 samples, validate on 22 samples\n",
            "Epoch 1/20\n",
            "84/84 [==============================] - 0s 2ms/step - loss: 2.3563 - accuracy: 0.1548 - val_loss: 2.2565 - val_accuracy: 0.1818\n",
            "Epoch 2/20\n",
            "84/84 [==============================] - 0s 434us/step - loss: 2.1971 - accuracy: 0.2857 - val_loss: 2.1665 - val_accuracy: 0.2727\n",
            "Epoch 3/20\n",
            "84/84 [==============================] - 0s 447us/step - loss: 2.1130 - accuracy: 0.2619 - val_loss: 2.1318 - val_accuracy: 0.2727\n",
            "Epoch 4/20\n",
            "84/84 [==============================] - 0s 412us/step - loss: 2.0584 - accuracy: 0.3214 - val_loss: 2.1016 - val_accuracy: 0.2727\n",
            "Epoch 5/20\n",
            "84/84 [==============================] - 0s 479us/step - loss: 2.0185 - accuracy: 0.2619 - val_loss: 2.0987 - val_accuracy: 0.2727\n",
            "Epoch 6/20\n",
            "84/84 [==============================] - 0s 414us/step - loss: 1.9960 - accuracy: 0.2619 - val_loss: 2.1222 - val_accuracy: 0.2273\n",
            "Epoch 7/20\n",
            "84/84 [==============================] - 0s 424us/step - loss: 1.9434 - accuracy: 0.3214 - val_loss: 2.0686 - val_accuracy: 0.3636\n",
            "Epoch 8/20\n",
            "84/84 [==============================] - 0s 425us/step - loss: 1.9218 - accuracy: 0.2857 - val_loss: 2.0701 - val_accuracy: 0.3182\n",
            "Epoch 9/20\n",
            "84/84 [==============================] - 0s 419us/step - loss: 1.8848 - accuracy: 0.3452 - val_loss: 2.0585 - val_accuracy: 0.3182\n",
            "Epoch 10/20\n",
            "84/84 [==============================] - 0s 417us/step - loss: 1.8486 - accuracy: 0.3690 - val_loss: 2.0647 - val_accuracy: 0.3182\n",
            "Epoch 11/20\n",
            "84/84 [==============================] - 0s 414us/step - loss: 1.8085 - accuracy: 0.3810 - val_loss: 2.0488 - val_accuracy: 0.3182\n",
            "Epoch 12/20\n",
            "84/84 [==============================] - 0s 404us/step - loss: 1.7978 - accuracy: 0.3690 - val_loss: 2.0424 - val_accuracy: 0.2727\n",
            "Epoch 13/20\n",
            "84/84 [==============================] - 0s 414us/step - loss: 1.7725 - accuracy: 0.3810 - val_loss: 2.0664 - val_accuracy: 0.3182\n",
            "Epoch 14/20\n",
            "84/84 [==============================] - 0s 535us/step - loss: 1.7630 - accuracy: 0.4048 - val_loss: 2.0306 - val_accuracy: 0.3182\n",
            "Epoch 15/20\n",
            "84/84 [==============================] - 0s 426us/step - loss: 1.7086 - accuracy: 0.3929 - val_loss: 2.0497 - val_accuracy: 0.2727\n",
            "Epoch 16/20\n",
            "84/84 [==============================] - 0s 482us/step - loss: 1.6923 - accuracy: 0.4048 - val_loss: 2.0655 - val_accuracy: 0.3182\n",
            "Epoch 17/20\n",
            "84/84 [==============================] - 0s 459us/step - loss: 1.6810 - accuracy: 0.4048 - val_loss: 2.0463 - val_accuracy: 0.3182\n",
            "Epoch 18/20\n",
            "84/84 [==============================] - 0s 409us/step - loss: 1.6299 - accuracy: 0.4762 - val_loss: 2.0441 - val_accuracy: 0.2727\n",
            "Epoch 19/20\n",
            "84/84 [==============================] - 0s 406us/step - loss: 1.6283 - accuracy: 0.4167 - val_loss: 2.0302 - val_accuracy: 0.3182\n",
            "Epoch 20/20\n",
            "84/84 [==============================] - 0s 453us/step - loss: 1.6178 - accuracy: 0.4286 - val_loss: 2.0553 - val_accuracy: 0.3182\n"
          ],
          "name": "stdout"
        }
      ]
    },
    {
      "cell_type": "code",
      "metadata": {
        "id": "a3NHuMcY2FSU",
        "colab_type": "code",
        "colab": {
          "base_uri": "https://localhost:8080/",
          "height": 53
        },
        "outputId": "e8d790f7-b0d8-4c20-fe89-ebd0b3b73072"
      },
      "source": [
        "# 6. 모델 평가하기\n",
        "scores = model.evaluate(mlp_x_train, mlp_y_train)\n",
        "print(\"%s: %.2f%%\" %(model.metrics_names[1], scores[1]*100))"
      ],
      "execution_count": 14,
      "outputs": [
        {
          "output_type": "stream",
          "text": [
            "106/106 [==============================] - 0s 60us/step\n",
            "accuracy: 43.40%\n"
          ],
          "name": "stdout"
        }
      ]
    },
    {
      "cell_type": "code",
      "metadata": {
        "id": "DgtYRMSF1_59",
        "colab_type": "code",
        "colab": {
          "base_uri": "https://localhost:8080/",
          "height": 281
        },
        "outputId": "9d131b3b-34f0-4997-9807-5fee8274c5a5"
      },
      "source": [
        "from matplotlib import pyplot as plt\n",
        "\n",
        "loss = history.history['loss']\n",
        "val_loss = history.history['val_loss']\n",
        "\n",
        "epochs = range(1, len(loss) + 1)\n",
        "\n",
        "plt.figure()\n",
        "\n",
        "plt.plot(epochs, loss, 'b', color='red',label='Training loss')\n",
        "plt.plot(epochs, val_loss, 'b', label='Validation loss')\n",
        "plt.title('Training and validation loss')\n",
        "plt.legend()\n",
        "\n",
        "plt.show()\n",
        "\n",
        "\n",
        "# loss 그래프를 살펴보면 Training loss는 점점 하락.\n",
        "# 하지만 Vaildation loss는 높으므로 좋은 모델이 아님, epochs 향상 필요.\n"
      ],
      "execution_count": 15,
      "outputs": [
        {
          "output_type": "display_data",
          "data": {
            "image/png": "[encoded data removed]",
            "text/plain": [
              "<Figure size 432x288 with 1 Axes>"
            ]
          },
          "metadata": {
            "tags": [],
            "needs_background": "light"
          }
        }
      ]
    },
    {
      "cell_type": "code",
      "metadata": {
        "id": "dIQ8D9je2HuG",
        "colab_type": "code",
        "colab": {}
      },
      "source": [
        "# 7. 모델 사용하기\n",
        "\n",
        "pred_count = 106 # 최대 예측 개수 정의"
      ],
      "execution_count": 16,
      "outputs": []
    },
    {
      "cell_type": "code",
      "metadata": {
        "id": "3Z79hjqB2JhE",
        "colab_type": "code",
        "colab": {
          "base_uri": "https://localhost:8080/",
          "height": 55
        },
        "outputId": "b4e14cdf-60ed-4b4d-eef7-7199909958d0"
      },
      "source": [
        "# 한 스텝 예측\n",
        "\n",
        "one_step_seq_out = ['g4','e8','f8','g4']\n",
        "pred_out = model.predict(mlp_x_train)\n",
        "\n",
        "for i in range(pred_count):\n",
        "    idx = np.argmax(pred_out[i]) # 인덱스의 최대값을 뽑아옴. \n",
        "    one_step_seq_out.append(idx2code[idx]) # seq_out는 최종 악보이므로 인덱스 값을 코드로 변환하여 저장\n",
        "    \n",
        "print(\"one step prediction : \", one_step_seq_out)\n"
      ],
      "execution_count": 17,
      "outputs": [
        {
          "output_type": "stream",
          "text": [
            "one step prediction :  ['g4', 'e8', 'f8', 'g4', 'e8', 'e8', 'e8', 'e8', 'g8', 'c8', 'c8', 'e8', 'e8', 'e8', 'f8', 'e8', 'b8', 'e8', 'e8', 'f8', 'e8', 'e8', 'g8', 'f8', 'g8', 'f8', 'g8', 'c8', 'c8', 'c8', 'b8', 'a4', 'b8', 'f8', 'g8', 'f8', 'e8', 'f8', 'e8', 'e8', 'g8', 'c8', 'a4', 'g8', 'b8', 'a4', 'f8', 'c8', 'f8', 'c8', 'c8', 'c8', 'e8', 'e8', 'e8', 'f8', 'e8', 'e8', 'f8', 'e8', 'e8', 'e8', 'e8', 'e8', 'g8', 'c8', 'c8', 'e8', 'e8', 'e8', 'f8', 'e8', 'b8', 'e8', 'e8', 'f8', 'e8', 'e8', 'g8', 'f8', 'g8', 'f8', 'g8', 'c8', 'c8', 'c8', 'b8', 'a4', 'b8', 'f8', 'g8', 'f8', 'e8', 'f8', 'e8', 'e8', 'g8', 'c8', 'a4', 'g8', 'b8', 'c8', 'f8', 'g8', 'f8', 'e8', 'e8', 'b8', 'c8', 'c8']\n"
          ],
          "name": "stdout"
        }
      ]
    },
    {
      "cell_type": "code",
      "metadata": {
        "id": "AccU8sc6iDqE",
        "colab_type": "code",
        "colab": {
          "base_uri": "https://localhost:8080/",
          "height": 35
        },
        "outputId": "cb0b0282-26da-4f6e-c2ce-4dd63680f9d9"
      },
      "source": [
        "print(idx)"
      ],
      "execution_count": 18,
      "outputs": [
        {
          "output_type": "stream",
          "text": [
            "5\n"
          ],
          "name": "stdout"
        }
      ]
    },
    {
      "cell_type": "code",
      "metadata": {
        "id": "L2AcK75rhtdW",
        "colab_type": "code",
        "colab": {
          "base_uri": "https://localhost:8080/",
          "height": 53
        },
        "outputId": "bc7379d3-0ba2-4c75-cae1-c25a6f4eacbe"
      },
      "source": [
        "print(pred_out[i])"
      ],
      "execution_count": 19,
      "outputs": [
        {
          "output_type": "stream",
          "text": [
            "[0.11963883 0.09281344 0.00182104 0.14738292 0.02792251 0.38800636\n",
            " 0.00790973 0.04883266 0.01092283 0.01147489 0.14327478]\n"
          ],
          "name": "stdout"
        }
      ]
    },
    {
      "cell_type": "code",
      "metadata": {
        "id": "hiGnNUUnLwIl",
        "colab_type": "code",
        "colab": {
          "base_uri": "https://localhost:8080/",
          "height": 55
        },
        "outputId": "55ec7b36-5545-4839-de43-3b95cebf1ae0"
      },
      "source": [
        "# 곡 전체 예측\n",
        "\n",
        "seq_in = ['g4','e8','f8','g4']\n",
        "full_seq_out = seq_in\n",
        "seq_in = [code2idx[it] / float(max_idx_value) for it in seq_in] # 코드를 인덱스값으로 변환\n",
        "\n",
        "for i in range(pred_count):\n",
        "    sample_in = np.array(seq_in)  # [0.9 0.7 0.8 0.9]\n",
        "    sample_in = np.reshape(sample_in, (1, 4)) # [[0.9 0.7 0.8 0.9]], batch_size, feature\n",
        "    pred_out = model.predict(sample_in) # [[0.9 0.7 0.8 0.9]] 이것만 갖고 예측하도록 만든 곳......\n",
        "    idx = np.argmax(pred_out)  # 10\n",
        "    full_seq_out.append(idx2code[idx]) \n",
        "    seq_in.append(idx / float(max_idx_value))  # 10/10.0\n",
        "    seq_in.pop(0)\n",
        "   \n",
        "print(\"full song prediction : \", full_seq_out)"
      ],
      "execution_count": 20,
      "outputs": [
        {
          "output_type": "stream",
          "text": [
            "full song prediction :  ['g4', 'e8', 'f8', 'g4', 'e8', 'e8', 'e8', 'e8', 'e8', 'e8', 'e8', 'e8', 'e8', 'e8', 'e8', 'e8', 'e8', 'e8', 'e8', 'e8', 'e8', 'e8', 'e8', 'e8', 'e8', 'e8', 'e8', 'e8', 'e8', 'e8', 'e8', 'e8', 'e8', 'e8', 'e8', 'e8', 'e8', 'e8', 'e8', 'e8', 'e8', 'e8', 'e8', 'e8', 'e8', 'e8', 'e8', 'e8', 'e8', 'e8', 'e8', 'e8', 'e8', 'e8', 'e8', 'e8', 'e8', 'e8', 'e8', 'e8', 'e8', 'e8', 'e8', 'e8', 'e8', 'e8', 'e8', 'e8', 'e8', 'e8', 'e8', 'e8', 'e8', 'e8', 'e8', 'e8', 'e8', 'e8', 'e8', 'e8', 'e8', 'e8', 'e8', 'e8', 'e8', 'e8', 'e8', 'e8', 'e8', 'e8', 'e8', 'e8', 'e8', 'e8', 'e8', 'e8', 'e8', 'e8', 'e8', 'e8', 'e8', 'e8', 'e8', 'e8', 'e8', 'e8', 'e8', 'e8', 'e8', 'e8']\n"
          ],
          "name": "stdout"
        }
      ]
    },
    {
      "cell_type": "code",
      "metadata": {
        "id": "BK4ZmHw-f-7a",
        "colab_type": "code",
        "colab": {
          "base_uri": "https://localhost:8080/",
          "height": 55
        },
        "outputId": "b85b9ebe-9c14-4f75-c00d-091810f4da60"
      },
      "source": [
        "print(full_seq_out)"
      ],
      "execution_count": 21,
      "outputs": [
        {
          "output_type": "stream",
          "text": [
            "['g4', 'e8', 'f8', 'g4', 'e8', 'e8', 'e8', 'e8', 'e8', 'e8', 'e8', 'e8', 'e8', 'e8', 'e8', 'e8', 'e8', 'e8', 'e8', 'e8', 'e8', 'e8', 'e8', 'e8', 'e8', 'e8', 'e8', 'e8', 'e8', 'e8', 'e8', 'e8', 'e8', 'e8', 'e8', 'e8', 'e8', 'e8', 'e8', 'e8', 'e8', 'e8', 'e8', 'e8', 'e8', 'e8', 'e8', 'e8', 'e8', 'e8', 'e8', 'e8', 'e8', 'e8', 'e8', 'e8', 'e8', 'e8', 'e8', 'e8', 'e8', 'e8', 'e8', 'e8', 'e8', 'e8', 'e8', 'e8', 'e8', 'e8', 'e8', 'e8', 'e8', 'e8', 'e8', 'e8', 'e8', 'e8', 'e8', 'e8', 'e8', 'e8', 'e8', 'e8', 'e8', 'e8', 'e8', 'e8', 'e8', 'e8', 'e8', 'e8', 'e8', 'e8', 'e8', 'e8', 'e8', 'e8', 'e8', 'e8', 'e8', 'e8', 'e8', 'e8', 'e8', 'e8', 'e8', 'e8', 'e8', 'e8']\n"
          ],
          "name": "stdout"
        }
      ]
    },
    {
      "cell_type": "code",
      "metadata": {
        "id": "pdlz3Iii2LPM",
        "colab_type": "code",
        "colab": {
          "base_uri": "https://localhost:8080/",
          "height": 35
        },
        "outputId": "8e763c50-c808-4734-efae-16d6742e60cc"
      },
      "source": [
        "print(idx)"
      ],
      "execution_count": 22,
      "outputs": [
        {
          "output_type": "stream",
          "text": [
            "7\n"
          ],
          "name": "stdout"
        }
      ]
    },
    {
      "cell_type": "markdown",
      "metadata": {
        "id": "BMyabJ4RnIu1",
        "colab_type": "text"
      },
      "source": [
        "**Vanilla RNN**"
      ]
    },
    {
      "cell_type": "code",
      "metadata": {
        "id": "RrrUrYFBnM4F",
        "colab_type": "code",
        "colab": {}
      },
      "source": [
        "from keras.layers import SimpleRNN, Activation, LSTM, Flatten, GRU"
      ],
      "execution_count": 23,
      "outputs": []
    },
    {
      "cell_type": "code",
      "metadata": {
        "id": "xBTyakPcterg",
        "colab_type": "code",
        "colab": {
          "base_uri": "https://localhost:8080/",
          "height": 35
        },
        "outputId": "fc0ec0da-dc36-4e42-df62-bb8d6a897857"
      },
      "source": [
        "srnn_x_train = dataset[:,0:4]   #  학습필요.  행 : 전체, 로우 : 0,1,2,3 가져옴.\n",
        "srnn_y_train = dataset[:,4] \n",
        "\n",
        "\n",
        "\n",
        "# 입력값 정규화 시키기\n",
        "srnn_x_train = srnn_x_train / float(max_idx_value)   # 10.0\n",
        "\n",
        "\n",
        "\n",
        "# 입력을 (샘플 수, 타입스텝, 특성 수)로 형태 변환\n",
        "srnn_x_train = np.reshape(srnn_x_train, (106, 4, 1)) # 정말 중요 !!!!\n",
        "# 정말 중요 !!!!\n",
        "\n",
        "# y값에 대한 라벨값에 대한 one-hot 인코딩 수행 이유 : 구분되야 하는 값이 3개가 넘어가므로 원핫인코딩 해줌. 2개를 안쓰므로 12개로 해줌.\n",
        "srnn_y_train = np_utils.to_categorical(srnn_y_train)\n",
        "\n",
        "one_hot_vec_size = srnn_y_train.shape[1]  # 이 부분은 12라고 정수로 써줘도 무관.\n",
        "\n",
        "print(\"one hot encoding vector size is \", one_hot_vec_size)"
      ],
      "execution_count": 24,
      "outputs": [
        {
          "output_type": "stream",
          "text": [
            "one hot encoding vector size is  11\n"
          ],
          "name": "stdout"
        }
      ]
    },
    {
      "cell_type": "code",
      "metadata": {
        "id": "d5sXikRlnXYB",
        "colab_type": "code",
        "colab": {}
      },
      "source": [
        "model = Sequential()\n",
        "model.add(SimpleRNN(256, input_shape = (4, 1)))\n",
        "Dropout = 0.3\n",
        "#model.add(SimpleRNN(128))\n",
        "model.add(Dense(128, activation='relu'))\n",
        "Dropout = 0.3\n",
        "#model.add(Flatten())\n",
        "#model.add(Flatten())\n",
        "model.add(Dense(one_hot_vec_size, activation='softmax'))"
      ],
      "execution_count": 25,
      "outputs": []
    },
    {
      "cell_type": "code",
      "metadata": {
        "id": "ozeaXU_vn1oK",
        "colab_type": "code",
        "colab": {}
      },
      "source": [
        "model.compile(loss='categorical_crossentropy', optimizer='adam', metrics=['accuracy'])"
      ],
      "execution_count": 26,
      "outputs": []
    },
    {
      "cell_type": "code",
      "metadata": {
        "id": "l7tMZG2vn3Ud",
        "colab_type": "code",
        "colab": {
          "base_uri": "https://localhost:8080/",
          "height": 269
        },
        "outputId": "a7aaa9c1-50c4-469c-a249-8d1359ebaf6c"
      },
      "source": [
        "model.summary()"
      ],
      "execution_count": 27,
      "outputs": [
        {
          "output_type": "stream",
          "text": [
            "Model: \"sequential_2\"\n",
            "_________________________________________________________________\n",
            "Layer (type)                 Output Shape              Param #   \n",
            "=================================================================\n",
            "simple_rnn_1 (SimpleRNN)     (None, 256)               66048     \n",
            "_________________________________________________________________\n",
            "dense_4 (Dense)              (None, 128)               32896     \n",
            "_________________________________________________________________\n",
            "dense_5 (Dense)              (None, 11)                1419      \n",
            "=================================================================\n",
            "Total params: 100,363\n",
            "Trainable params: 100,363\n",
            "Non-trainable params: 0\n",
            "_________________________________________________________________\n"
          ],
          "name": "stdout"
        }
      ]
    },
    {
      "cell_type": "code",
      "metadata": {
        "id": "pSfW1xhV2SVL",
        "colab_type": "code",
        "colab": {
          "base_uri": "https://localhost:8080/",
          "height": 1000
        },
        "outputId": "77607671-7555-4eb2-e83c-2a401ba5957b"
      },
      "source": [
        "model.weights\n",
        "\n",
        "#shape(1,256) -> 한개에서 768개.  X -> 히든레이어로\n",
        "#shape(256, 256) -> 레이어에서 레이어로\n",
        "#Shape (256, ) -> 바이어스\n",
        "#shape(256, 128) -> 레이어에서 레이어로\n",
        "#Shape (128, ) -> 바이어스\n",
        "#shape (128, 11) -> 히든레이어에서 y로(출력 레이어)\n",
        "#shape(11, ) -> 히든에서 y로 넘어올 때 보이는 바이어스"
      ],
      "execution_count": 28,
      "outputs": [
        {
          "output_type": "execute_result",
          "data": {
            "text/plain": [
              "[<tf.Variable 'simple_rnn_1/kernel:0' shape=(1, 256) dtype=float32, numpy=\n",
              " array([[ 0.06210589,  0.00125262, -0.12381008,  0.03672817,  0.0069042 ,\n",
              "         -0.01996759, -0.02706859, -0.10772955, -0.09948017, -0.11549333,\n",
              "         -0.01600592,  0.01279753,  0.09837188,  0.11697493, -0.00057343,\n",
              "         -0.11472009, -0.02909149, -0.03065481,  0.13671212,  0.14357458,\n",
              "         -0.00746346,  0.07902469,  0.03318854, -0.07542232,  0.00610994,\n",
              "         -0.07006796, -0.0470762 ,  0.11211435, -0.00040993,  0.00651182,\n",
              "         -0.00994895,  0.0264958 ,  0.08332762,  0.01025364,  0.04929732,\n",
              "         -0.13862355,  0.07254668,  0.12253888,  0.14343245, -0.04089402,\n",
              "          0.08652581,  0.01854178, -0.06649029, -0.05897418,  0.11849611,\n",
              "         -0.06403693,  0.08671823,  0.11704554,  0.03896317,  0.13329928,\n",
              "         -0.02817643, -0.131205  ,  0.14830323,  0.10093777,  0.15016712,\n",
              "          0.05305648, -0.0509743 , -0.11242145,  0.09321919,  0.04121985,\n",
              "          0.01912925, -0.07333653,  0.04430439, -0.09867537,  0.12860681,\n",
              "          0.08345352, -0.04159882,  0.03249222, -0.09926265, -0.05935235,\n",
              "          0.02407742, -0.13101244, -0.12718396, -0.02917903, -0.0151459 ,\n",
              "         -0.08710092, -0.13791043,  0.10882269,  0.09186964,  0.12615313,\n",
              "         -0.01913162, -0.03163476,  0.12024696,  0.0351188 ,  0.02244674,\n",
              "         -0.03764123, -0.02983038, -0.04429822, -0.1389096 , -0.09662219,\n",
              "         -0.05951355, -0.05218725,  0.11704196, -0.12178104, -0.01296058,\n",
              "         -0.01754096, -0.06711202,  0.00018211, -0.05429151, -0.12949426,\n",
              "          0.1291462 ,  0.12267964, -0.14175802,  0.06679672,  0.05962689,\n",
              "          0.08272167, -0.13497007,  0.14718287,  0.06255801,  0.05911542,\n",
              "         -0.05678355, -0.04033845,  0.10317795, -0.12178636, -0.02849118,\n",
              "          0.09665158,  0.07463497,  0.10013293,  0.09983422,  0.12249874,\n",
              "          0.02244543,  0.09996916,  0.09578949, -0.1048554 , -0.07405856,\n",
              "          0.11076619,  0.02113897,  0.01715115,  0.02084094,  0.08637588,\n",
              "         -0.07017626, -0.02101147,  0.14710815,  0.0601978 , -0.04274113,\n",
              "         -0.06380644, -0.04229262,  0.13193892,  0.03258373,  0.03530139,\n",
              "         -0.10699357, -0.01551682, -0.04834503, -0.00474945,  0.13261946,\n",
              "          0.0425141 ,  0.07580449,  0.09494495,  0.05227114, -0.12339219,\n",
              "         -0.13761935,  0.1504936 , -0.03982793,  0.00652909, -0.00566943,\n",
              "          0.14688496, -0.11029343,  0.09358837, -0.11550099,  0.11274435,\n",
              "          0.08488901, -0.10096931,  0.12948065,  0.0531822 ,  0.11747675,\n",
              "          0.08099736, -0.1503051 ,  0.1082129 , -0.06682748,  0.0192358 ,\n",
              "          0.14678763, -0.1130454 , -0.04282754, -0.04307282, -0.1512008 ,\n",
              "         -0.14376625,  0.04457818, -0.12926228, -0.06605496, -0.06094802,\n",
              "         -0.10879011, -0.07563757, -0.03500168,  0.07967661, -0.10360843,\n",
              "         -0.13346271, -0.13510104,  0.02808157,  0.07204388, -0.01561145,\n",
              "         -0.10824149,  0.14786674, -0.09930655,  0.09104627,  0.10758047,\n",
              "         -0.10820808,  0.01035623,  0.01438034,  0.02599618,  0.06174368,\n",
              "         -0.0315031 , -0.08454658, -0.08789843,  0.09111618,  0.07365134,\n",
              "          0.0170131 ,  0.11672319,  0.01361205, -0.01354502, -0.02029034,\n",
              "         -0.00535844,  0.11186589,  0.00498115,  0.05892195,  0.1129076 ,\n",
              "         -0.08045671, -0.0586363 ,  0.1523592 , -0.05350813,  0.0744364 ,\n",
              "          0.12637974,  0.10574605,  0.09513628, -0.15107886, -0.09476186,\n",
              "          0.03083554,  0.13387607, -0.05393126,  0.13853969,  0.03534183,\n",
              "          0.04477595, -0.02153014,  0.09257856,  0.03679283,  0.12885611,\n",
              "         -0.06401223,  0.10115208, -0.14266151,  0.05440524,  0.00678195,\n",
              "         -0.09055258, -0.10927043, -0.11861622,  0.11753304, -0.10812367,\n",
              "          0.0458661 ,  0.05254775,  0.05531058, -0.13589767,  0.07017447,\n",
              "          0.06438705, -0.09336349,  0.07315601, -0.04859832, -0.03683881,\n",
              "          0.0631891 ]], dtype=float32)>,\n",
              " <tf.Variable 'simple_rnn_1/recurrent_kernel:0' shape=(256, 256) dtype=float32, numpy=\n",
              " array([[-0.01767028, -0.02020499,  0.04398125, ...,  0.03450212,\n",
              "         -0.07696857,  0.11784062],\n",
              "        [ 0.03180362, -0.06090524,  0.04249664, ..., -0.10607839,\n",
              "         -0.06038615, -0.00716349],\n",
              "        [ 0.09898089,  0.02926582,  0.0957093 , ...,  0.01480164,\n",
              "         -0.01105598,  0.01555033],\n",
              "        ...,\n",
              "        [ 0.046848  , -0.02715925, -0.04257813, ..., -0.07462113,\n",
              "         -0.11121521, -0.02172797],\n",
              "        [-0.03161575,  0.04439019,  0.03077414, ..., -0.1299444 ,\n",
              "          0.06782437, -0.04837541],\n",
              "        [ 0.02202601,  0.03187679,  0.03606492, ...,  0.00467331,\n",
              "         -0.01194874, -0.05025697]], dtype=float32)>,\n",
              " <tf.Variable 'simple_rnn_1/bias:0' shape=(256,) dtype=float32, numpy=\n",
              " array([0., 0., 0., 0., 0., 0., 0., 0., 0., 0., 0., 0., 0., 0., 0., 0., 0.,\n",
              "        0., 0., 0., 0., 0., 0., 0., 0., 0., 0., 0., 0., 0., 0., 0., 0., 0.,\n",
              "        0., 0., 0., 0., 0., 0., 0., 0., 0., 0., 0., 0., 0., 0., 0., 0., 0.,\n",
              "        0., 0., 0., 0., 0., 0., 0., 0., 0., 0., 0., 0., 0., 0., 0., 0., 0.,\n",
              "        0., 0., 0., 0., 0., 0., 0., 0., 0., 0., 0., 0., 0., 0., 0., 0., 0.,\n",
              "        0., 0., 0., 0., 0., 0., 0., 0., 0., 0., 0., 0., 0., 0., 0., 0., 0.,\n",
              "        0., 0., 0., 0., 0., 0., 0., 0., 0., 0., 0., 0., 0., 0., 0., 0., 0.,\n",
              "        0., 0., 0., 0., 0., 0., 0., 0., 0., 0., 0., 0., 0., 0., 0., 0., 0.,\n",
              "        0., 0., 0., 0., 0., 0., 0., 0., 0., 0., 0., 0., 0., 0., 0., 0., 0.,\n",
              "        0., 0., 0., 0., 0., 0., 0., 0., 0., 0., 0., 0., 0., 0., 0., 0., 0.,\n",
              "        0., 0., 0., 0., 0., 0., 0., 0., 0., 0., 0., 0., 0., 0., 0., 0., 0.,\n",
              "        0., 0., 0., 0., 0., 0., 0., 0., 0., 0., 0., 0., 0., 0., 0., 0., 0.,\n",
              "        0., 0., 0., 0., 0., 0., 0., 0., 0., 0., 0., 0., 0., 0., 0., 0., 0.,\n",
              "        0., 0., 0., 0., 0., 0., 0., 0., 0., 0., 0., 0., 0., 0., 0., 0., 0.,\n",
              "        0., 0., 0., 0., 0., 0., 0., 0., 0., 0., 0., 0., 0., 0., 0., 0., 0.,\n",
              "        0.], dtype=float32)>,\n",
              " <tf.Variable 'dense_4/kernel:0' shape=(256, 128) dtype=float32, numpy=\n",
              " array([[ 0.06242117,  0.10337573, -0.07047287, ..., -0.07579494,\n",
              "          0.04658559,  0.09920359],\n",
              "        [-0.02371708,  0.08605033,  0.11940289, ...,  0.06997907,\n",
              "          0.10364413, -0.04234791],\n",
              "        [ 0.04220662,  0.00887164, -0.00036284, ...,  0.04365745,\n",
              "          0.01511362, -0.01091832],\n",
              "        ...,\n",
              "        [ 0.0487923 , -0.11308953,  0.11478403, ..., -0.04514569,\n",
              "         -0.07524404, -0.11099482],\n",
              "        [ 0.10715556,  0.03709313,  0.03382865, ...,  0.09560686,\n",
              "          0.01780686,  0.00967348],\n",
              "        [ 0.07189736,  0.00307178, -0.09032914, ..., -0.1080485 ,\n",
              "          0.05428934,  0.08124259]], dtype=float32)>,\n",
              " <tf.Variable 'dense_4/bias:0' shape=(128,) dtype=float32, numpy=\n",
              " array([0., 0., 0., 0., 0., 0., 0., 0., 0., 0., 0., 0., 0., 0., 0., 0., 0.,\n",
              "        0., 0., 0., 0., 0., 0., 0., 0., 0., 0., 0., 0., 0., 0., 0., 0., 0.,\n",
              "        0., 0., 0., 0., 0., 0., 0., 0., 0., 0., 0., 0., 0., 0., 0., 0., 0.,\n",
              "        0., 0., 0., 0., 0., 0., 0., 0., 0., 0., 0., 0., 0., 0., 0., 0., 0.,\n",
              "        0., 0., 0., 0., 0., 0., 0., 0., 0., 0., 0., 0., 0., 0., 0., 0., 0.,\n",
              "        0., 0., 0., 0., 0., 0., 0., 0., 0., 0., 0., 0., 0., 0., 0., 0., 0.,\n",
              "        0., 0., 0., 0., 0., 0., 0., 0., 0., 0., 0., 0., 0., 0., 0., 0., 0.,\n",
              "        0., 0., 0., 0., 0., 0., 0., 0., 0.], dtype=float32)>,\n",
              " <tf.Variable 'dense_5/kernel:0' shape=(128, 11) dtype=float32, numpy=\n",
              " array([[ 0.17948164, -0.17336105,  0.10413007, ..., -0.06333672,\n",
              "         -0.02796321,  0.1180851 ],\n",
              "        [ 0.20595281,  0.15762664, -0.08946536, ..., -0.17155354,\n",
              "         -0.11727653,  0.1342556 ],\n",
              "        [ 0.08528753,  0.07855959,  0.12826969, ...,  0.1632557 ,\n",
              "         -0.11377212,  0.16359557],\n",
              "        ...,\n",
              "        [-0.08091509,  0.09743972, -0.09387399, ..., -0.16031855,\n",
              "         -0.20626973, -0.15540864],\n",
              "        [-0.11198996, -0.01745029, -0.10321967, ..., -0.16405147,\n",
              "          0.07967784, -0.15719926],\n",
              "        [ 0.13238348,  0.11642276, -0.07879621, ..., -0.20077422,\n",
              "          0.10225733,  0.09487547]], dtype=float32)>,\n",
              " <tf.Variable 'dense_5/bias:0' shape=(11,) dtype=float32, numpy=array([0., 0., 0., 0., 0., 0., 0., 0., 0., 0., 0.], dtype=float32)>]"
            ]
          },
          "metadata": {
            "tags": []
          },
          "execution_count": 28
        }
      ]
    },
    {
      "cell_type": "code",
      "metadata": {
        "id": "s3Om2AH92Sd2",
        "colab_type": "code",
        "colab": {
          "base_uri": "https://localhost:8080/",
          "height": 755
        },
        "outputId": "0b14d135-4592-48f1-80eb-a84eaa626c60"
      },
      "source": [
        "history = model.fit(srnn_x_train, srnn_y_train, epochs=20, batch_size=10, verbose=1, validation_split=0.2)"
      ],
      "execution_count": 29,
      "outputs": [
        {
          "output_type": "stream",
          "text": [
            "Train on 84 samples, validate on 22 samples\n",
            "Epoch 1/20\n",
            "84/84 [==============================] - 0s 3ms/step - loss: 2.3378 - accuracy: 0.1190 - val_loss: 2.1557 - val_accuracy: 0.3636\n",
            "Epoch 2/20\n",
            "84/84 [==============================] - 0s 570us/step - loss: 2.1600 - accuracy: 0.2262 - val_loss: 2.1180 - val_accuracy: 0.2273\n",
            "Epoch 3/20\n",
            "84/84 [==============================] - 0s 537us/step - loss: 2.0767 - accuracy: 0.2262 - val_loss: 2.1556 - val_accuracy: 0.1364\n",
            "Epoch 4/20\n",
            "84/84 [==============================] - 0s 532us/step - loss: 2.0498 - accuracy: 0.1905 - val_loss: 2.1276 - val_accuracy: 0.0909\n",
            "Epoch 5/20\n",
            "84/84 [==============================] - 0s 545us/step - loss: 1.9958 - accuracy: 0.2262 - val_loss: 2.1513 - val_accuracy: 0.2273\n",
            "Epoch 6/20\n",
            "84/84 [==============================] - 0s 519us/step - loss: 1.9514 - accuracy: 0.3333 - val_loss: 2.1110 - val_accuracy: 0.1364\n",
            "Epoch 7/20\n",
            "84/84 [==============================] - 0s 511us/step - loss: 1.9270 - accuracy: 0.2738 - val_loss: 2.1375 - val_accuracy: 0.2727\n",
            "Epoch 8/20\n",
            "84/84 [==============================] - 0s 514us/step - loss: 1.9813 - accuracy: 0.1667 - val_loss: 2.1839 - val_accuracy: 0.1364\n",
            "Epoch 9/20\n",
            "84/84 [==============================] - 0s 509us/step - loss: 1.9245 - accuracy: 0.2857 - val_loss: 2.1598 - val_accuracy: 0.2273\n",
            "Epoch 10/20\n",
            "84/84 [==============================] - 0s 498us/step - loss: 1.9079 - accuracy: 0.3214 - val_loss: 2.1705 - val_accuracy: 0.1364\n",
            "Epoch 11/20\n",
            "84/84 [==============================] - 0s 595us/step - loss: 1.8218 - accuracy: 0.3452 - val_loss: 2.1294 - val_accuracy: 0.1364\n",
            "Epoch 12/20\n",
            "84/84 [==============================] - 0s 501us/step - loss: 1.8019 - accuracy: 0.3929 - val_loss: 2.1252 - val_accuracy: 0.2273\n",
            "Epoch 13/20\n",
            "84/84 [==============================] - 0s 497us/step - loss: 1.7928 - accuracy: 0.4167 - val_loss: 2.1671 - val_accuracy: 0.1364\n",
            "Epoch 14/20\n",
            "84/84 [==============================] - 0s 505us/step - loss: 1.7656 - accuracy: 0.3452 - val_loss: 2.1366 - val_accuracy: 0.1818\n",
            "Epoch 15/20\n",
            "84/84 [==============================] - 0s 592us/step - loss: 1.7358 - accuracy: 0.4762 - val_loss: 2.1512 - val_accuracy: 0.2273\n",
            "Epoch 16/20\n",
            "84/84 [==============================] - 0s 539us/step - loss: 1.7345 - accuracy: 0.3214 - val_loss: 2.1370 - val_accuracy: 0.2273\n",
            "Epoch 17/20\n",
            "84/84 [==============================] - 0s 506us/step - loss: 1.7154 - accuracy: 0.3929 - val_loss: 2.2171 - val_accuracy: 0.2727\n",
            "Epoch 18/20\n",
            "84/84 [==============================] - 0s 493us/step - loss: 1.7051 - accuracy: 0.3452 - val_loss: 2.1277 - val_accuracy: 0.1818\n",
            "Epoch 19/20\n",
            "84/84 [==============================] - 0s 488us/step - loss: 1.6834 - accuracy: 0.3690 - val_loss: 2.1409 - val_accuracy: 0.2727\n",
            "Epoch 20/20\n",
            "84/84 [==============================] - 0s 509us/step - loss: 1.6125 - accuracy: 0.4286 - val_loss: 2.1978 - val_accuracy: 0.2273\n"
          ],
          "name": "stdout"
        }
      ]
    },
    {
      "cell_type": "code",
      "metadata": {
        "id": "Gz3YEJIbzbAr",
        "colab_type": "code",
        "colab": {
          "base_uri": "https://localhost:8080/",
          "height": 53
        },
        "outputId": "16d10513-247d-4fe4-bbb8-b74adc6412a7"
      },
      "source": [
        "scores = model.evaluate(srnn_x_train, srnn_y_train)\n",
        "print(\"%s: %.2f%%\" %(model.metrics_names[1], scores[1]*100))"
      ],
      "execution_count": 30,
      "outputs": [
        {
          "output_type": "stream",
          "text": [
            "106/106 [==============================] - 0s 79us/step\n",
            "accuracy: 35.85%\n"
          ],
          "name": "stdout"
        }
      ]
    },
    {
      "cell_type": "code",
      "metadata": {
        "id": "mid52Dpx2iQB",
        "colab_type": "code",
        "colab": {
          "base_uri": "https://localhost:8080/",
          "height": 281
        },
        "outputId": "de2c1891-6257-4143-8d1c-e34e7332f3bd"
      },
      "source": [
        "loss = history.history['loss']\n",
        "val_loss = history.history['val_loss']\n",
        "\n",
        "epochs = range(1, len(loss) + 1)\n",
        "\n",
        "plt.figure()\n",
        "\n",
        "plt.plot(epochs, loss, 'b', color='red',label='Training loss')\n",
        "plt.plot(epochs, val_loss, 'b', label='Validation loss')\n",
        "plt.title('Training and validation loss')\n",
        "plt.legend()\n",
        "\n",
        "plt.show()\n",
        "\n",
        "\n",
        "# loss 그래프를 살펴보면 Training loss는 점점 하락.\n",
        "# 하지만 Vaildation loss는 높아지는 것을 봤을 때 과적합인것을 의심 가능. 그러므로  epochs 증가 학습 더 필요."
      ],
      "execution_count": 31,
      "outputs": [
        {
          "output_type": "display_data",
          "data": {
            "image/png": "[encoded data removed]",
            "text/plain": [
              "<Figure size 432x288 with 1 Axes>"
            ]
          },
          "metadata": {
            "tags": [],
            "needs_background": "light"
          }
        }
      ]
    },
    {
      "cell_type": "code",
      "metadata": {
        "id": "l4sf2kofn7pf",
        "colab_type": "code",
        "colab": {}
      },
      "source": [
        "pred_count = 106 # 최대 예측 개수 정의"
      ],
      "execution_count": 32,
      "outputs": []
    },
    {
      "cell_type": "code",
      "metadata": {
        "id": "tZ3Duf0UuQuA",
        "colab_type": "code",
        "colab": {
          "base_uri": "https://localhost:8080/",
          "height": 55
        },
        "outputId": "20e2d295-ff3d-48c9-a338-65f70e31a0ce"
      },
      "source": [
        "# 한 스텝 예측\n",
        "\n",
        "one_step_seq_out = ['g4','e8','f8','g4']\n",
        "pred_out = model.predict(srnn_x_train)\n",
        "\n",
        "for i in range(pred_count):\n",
        "    idx = np.argmax(pred_out[i]) # 인덱스의 최대값을 뽑아옴. \n",
        "    one_step_seq_out.append(idx2code[idx]) # seq_out는 최종 악보이므로 인덱스 값을 코드로 변환하여 저장\n",
        "    \n",
        "print(\"one step prediction : \", one_step_seq_out)\n"
      ],
      "execution_count": 33,
      "outputs": [
        {
          "output_type": "stream",
          "text": [
            "one step prediction :  ['g4', 'e8', 'f8', 'g4', 'g8', 'g8', 'g8', 'g8', 'g8', 'c8', 'c8', 'e8', 'e8', 'e8', 'f8', 'g8', 'g8', 'e8', 'e8', 'f8', 'g8', 'e8', 'g8', 'f8', 'g8', 'c8', 'g8', 'f8', 'g8', 'g8', 'b8', 'g8', 'g8', 'e8', 'g8', 'c8', 'g8', 'g8', 'g8', 'g8', 'g8', 'c8', 'g8', 'b8', 'b8', 'g8', 'b8', 'e8', 'b8', 'e8', 'b8', 'c8', 'e8', 'e8', 'e8', 'f8', 'g8', 'g8', 'g8', 'g8', 'g8', 'g8', 'g8', 'g8', 'g8', 'c8', 'c8', 'e8', 'e8', 'e8', 'f8', 'g8', 'f8', 'e8', 'g8', 'f8', 'e8', 'g8', 'g8', 'f8', 'g8', 'c8', 'g8', 'f8', 'g8', 'g8', 'b8', 'g8', 'g8', 'e8', 'g8', 'c8', 'g8', 'g8', 'g8', 'g8', 'g8', 'c8', 'g8', 'e8', 'b8', 'g8', 'b8', 'g8', 'f8', 'e8', 'e8', 'f8', 'e8', 'e8']\n"
          ],
          "name": "stdout"
        }
      ]
    },
    {
      "cell_type": "code",
      "metadata": {
        "id": "xjoFv5ruvOgy",
        "colab_type": "code",
        "colab": {
          "base_uri": "https://localhost:8080/",
          "height": 55
        },
        "outputId": "85bf365a-1153-44dd-b242-cc16f0be576b"
      },
      "source": [
        "# 곡 전체 예측\n",
        "\n",
        "seq_in = ['g4','e8','f8','g4']\n",
        "full_seq_out = seq_in\n",
        "seq_in = [code2idx[it] / float(max_idx_value) for it in seq_in] # 코드를 인덱스값으로 변환\n",
        "\n",
        "for i in range(pred_count):\n",
        "    sample_in = np.array(seq_in)  # [0.9 0.7 0.8 0.9]\n",
        "    sample_in = np.reshape(sample_in, (1, 4, 1)) # [[0.9 0.7 0.8 0.9]], batch_size, feature, attribute\n",
        "    pred_out = model.predict(sample_in) # [[0.9 0.7 0.8 0.9]] 이것만 갖고 예측하도록 만든 곳......\n",
        "    idx = np.argmax(pred_out)  # 10\n",
        "    full_seq_out.append(idx2code[idx]) \n",
        "    seq_in.append(idx / float(max_idx_value))  # 10/10.0\n",
        "    seq_in.pop(0)\n",
        "   \n",
        "print(\"full song prediction : \", full_seq_out)"
      ],
      "execution_count": 34,
      "outputs": [
        {
          "output_type": "stream",
          "text": [
            "full song prediction :  ['g4', 'e8', 'f8', 'g4', 'g8', 'g8', 'g8', 'g8', 'g8', 'g8', 'g8', 'g8', 'g8', 'g8', 'g8', 'g8', 'g8', 'g8', 'g8', 'g8', 'g8', 'g8', 'g8', 'g8', 'g8', 'g8', 'g8', 'g8', 'g8', 'g8', 'g8', 'g8', 'g8', 'g8', 'g8', 'g8', 'g8', 'g8', 'g8', 'g8', 'g8', 'g8', 'g8', 'g8', 'g8', 'g8', 'g8', 'g8', 'g8', 'g8', 'g8', 'g8', 'g8', 'g8', 'g8', 'g8', 'g8', 'g8', 'g8', 'g8', 'g8', 'g8', 'g8', 'g8', 'g8', 'g8', 'g8', 'g8', 'g8', 'g8', 'g8', 'g8', 'g8', 'g8', 'g8', 'g8', 'g8', 'g8', 'g8', 'g8', 'g8', 'g8', 'g8', 'g8', 'g8', 'g8', 'g8', 'g8', 'g8', 'g8', 'g8', 'g8', 'g8', 'g8', 'g8', 'g8', 'g8', 'g8', 'g8', 'g8', 'g8', 'g8', 'g8', 'g8', 'g8', 'g8', 'g8', 'g8', 'g8', 'g8']\n"
          ],
          "name": "stdout"
        }
      ]
    },
    {
      "cell_type": "code",
      "metadata": {
        "id": "Zx2DbqWDvZrv",
        "colab_type": "code",
        "colab": {}
      },
      "source": [
        ""
      ],
      "execution_count": 34,
      "outputs": []
    },
    {
      "cell_type": "markdown",
      "metadata": {
        "id": "JMYx0CBMvi7g",
        "colab_type": "text"
      },
      "source": [
        "Stateful LSTM \n",
        "# 상태유지 모드에서는 현재 샘플의 학습 상태가 다음 샘플의 초기 상태로 전달된다."
      ]
    },
    {
      "cell_type": "code",
      "metadata": {
        "id": "H585YrfHvlkF",
        "colab_type": "code",
        "colab": {
          "base_uri": "https://localhost:8080/",
          "height": 35
        },
        "outputId": "2d5a5b32-efed-4606-80e4-347aa5191886"
      },
      "source": [
        "slstm_x_train = dataset[:,0:4]   #  학습필요.  행 : 전체, 로우 : 0,1,2,3 가져옴.\n",
        "slstm_y_train = dataset[:,4] \n",
        "\n",
        "\n",
        "# 입력값 정규화 시키기\n",
        "slstm_x_train = slstm_x_train / float(max_idx_value)   # 10.0\n",
        "\n",
        "\n",
        "\n",
        "# 입력을 (샘플 수, 타입스텝, 특성 수)로 형태 변환\n",
        "slstm_x_train = np.reshape(slstm_x_train, (106, 4, 1)) # 정말 중요 !!!!\n",
        "# 정말 중요 !!!!\n",
        "\n",
        "# y값에 대한 라벨값에 대한 one-hot 인코딩 수행 이유 : 구분되야 하는 값이 3개가 넘어가므로 원핫인코딩 해줌. 2개를 안쓰므로 12개로 해줌.\n",
        "slstm_y_train = np_utils.to_categorical(slstm_y_train)\n",
        "\n",
        "one_hot_vec_size = slstm_y_train.shape[1]  # 이 부분은 12라고 정수로 써줘도 무관.\n",
        "\n",
        "print(\"one hot encoding vector size is \", one_hot_vec_size)"
      ],
      "execution_count": 35,
      "outputs": [
        {
          "output_type": "stream",
          "text": [
            "one hot encoding vector size is  11\n"
          ],
          "name": "stdout"
        }
      ]
    },
    {
      "cell_type": "code",
      "metadata": {
        "id": "DKsIXFNfv1LI",
        "colab_type": "code",
        "colab": {}
      },
      "source": [
        "model = Sequential()\n",
        "model.add(LSTM(256, batch_input_shape = (1, 4, 1), stateful=True, return_sequences=True))   # 상태유지 LSTM 모델을 생성하기 위해서는 LSTM 레이어 생성 시, stateful=True로 설정\n",
        " # 상태유지 모드에서는 입력형태를 batch_input_shape = (배치사이즈, 타임스텝, 속성)으로 설정\n",
        "dropout=0.3\n",
        "model.add(LSTM(128, return_sequences=False))\n",
        "dropout=0.3\n",
        "model.add(Dense(one_hot_vec_size, activation='softmax'))"
      ],
      "execution_count": 36,
      "outputs": []
    },
    {
      "cell_type": "code",
      "metadata": {
        "id": "bOSN-p8DwB3J",
        "colab_type": "code",
        "colab": {}
      },
      "source": [
        "model.compile(loss='categorical_crossentropy', optimizer='adam', metrics=['accuracy'])"
      ],
      "execution_count": 37,
      "outputs": []
    },
    {
      "cell_type": "code",
      "metadata": {
        "id": "3MQUwEej2tHF",
        "colab_type": "code",
        "colab": {
          "base_uri": "https://localhost:8080/",
          "height": 1000
        },
        "outputId": "abb40a4e-d849-4c43-e914-d5c9814fee59"
      },
      "source": [
        "model.weights\n",
        "\n",
        "#shape(1,1024) -> 한개에서 768개.  X -> 히든레이어로\n",
        "#shape(256, 1024) -> 레이어에서 레이어로\n",
        "#Shape (1024, ) -> 바이어스\n",
        "#shape(256, 512) -> 레이어에서 레이어로\n",
        "#shape(128, 512) -> 레이어에서 레이어로 (순환레이어)\n",
        "#Shape (512, ) -> 바이어스\n",
        "#shape (128, 11) -> 히든레이어에서 y로(출력 레이어)\n",
        "#shape(11, ) -> 히든에서 y로 넘어올 때 보이는 바이어스"
      ],
      "execution_count": 38,
      "outputs": [
        {
          "output_type": "execute_result",
          "data": {
            "text/plain": [
              "[<tf.Variable 'lstm_1/kernel:0' shape=(1, 1024) dtype=float32, numpy=\n",
              " array([[-0.00072067,  0.06937678, -0.06063251, ...,  0.04058098,\n",
              "         -0.06868935, -0.00119077]], dtype=float32)>,\n",
              " <tf.Variable 'lstm_1/recurrent_kernel:0' shape=(256, 1024) dtype=float32, numpy=\n",
              " array([[-0.03766399, -0.01335462, -0.01576716, ...,  0.02129538,\n",
              "          0.01635417,  0.01658975],\n",
              "        [-0.0277096 ,  0.016492  ,  0.01976645, ..., -0.00834349,\n",
              "          0.00172124,  0.01442848],\n",
              "        [-0.02932655,  0.06143856,  0.01811641, ...,  0.00196634,\n",
              "         -0.01864892, -0.01700939],\n",
              "        ...,\n",
              "        [ 0.0476618 , -0.06519192, -0.03247499, ...,  0.01786317,\n",
              "          0.0235286 , -0.02106552],\n",
              "        [-0.04049762, -0.0169132 ,  0.04229394, ...,  0.00625562,\n",
              "          0.02278994, -0.02076214],\n",
              "        [ 0.02384838,  0.01727076,  0.02250842, ...,  0.03847176,\n",
              "          0.03300765,  0.05417418]], dtype=float32)>,\n",
              " <tf.Variable 'lstm_1/bias:0' shape=(1024,) dtype=float32, numpy=array([0., 0., 0., ..., 0., 0., 0.], dtype=float32)>,\n",
              " <tf.Variable 'lstm_2/kernel:0' shape=(256, 512) dtype=float32, numpy=\n",
              " array([[-0.02963035, -0.08122686,  0.03441484, ...,  0.02010678,\n",
              "         -0.06090148,  0.03689068],\n",
              "        [ 0.00908338, -0.04071253, -0.03959694, ...,  0.07351605,\n",
              "         -0.03587946, -0.03889806],\n",
              "        [ 0.01664872, -0.07474636, -0.06189658, ..., -0.04527397,\n",
              "          0.00502148,  0.0074302 ],\n",
              "        ...,\n",
              "        [-0.08479419, -0.06965198,  0.04033156, ..., -0.06218605,\n",
              "          0.08766779, -0.04999929],\n",
              "        [-0.08360481, -0.06612105, -0.06868221, ..., -0.01549581,\n",
              "          0.06046694, -0.0619597 ],\n",
              "        [-0.0830828 ,  0.05945597,  0.01653918, ..., -0.0294492 ,\n",
              "          0.0781923 , -0.07970264]], dtype=float32)>,\n",
              " <tf.Variable 'lstm_2/recurrent_kernel:0' shape=(128, 512) dtype=float32, numpy=\n",
              " array([[-1.4771668e-03,  3.3596911e-02, -4.3633547e-02, ...,\n",
              "          4.7106817e-02,  9.1876544e-02,  2.5157545e-02],\n",
              "        [ 3.6362346e-02,  1.2177715e-04,  2.1299968e-02, ...,\n",
              "         -7.1230233e-02,  5.2008359e-03,  1.3908243e-02],\n",
              "        [ 7.4533019e-03, -5.6301970e-02, -4.2187460e-04, ...,\n",
              "         -1.4246485e-02,  4.4157807e-02, -3.2947073e-03],\n",
              "        ...,\n",
              "        [-3.6535878e-02, -2.0330237e-02,  7.3697411e-02, ...,\n",
              "         -1.5348545e-02, -5.5600651e-02, -8.3856463e-02],\n",
              "        [-6.3589183e-03,  2.0517133e-02,  2.9743142e-02, ...,\n",
              "          1.3889714e-01, -3.2056952e-03,  6.5063916e-02],\n",
              "        [-1.2949235e-02, -1.5258158e-03,  7.5947963e-02, ...,\n",
              "         -1.6347529e-02, -4.6982054e-02,  8.1946645e-03]], dtype=float32)>,\n",
              " <tf.Variable 'lstm_2/bias:0' shape=(512,) dtype=float32, numpy=\n",
              " array([0., 0., 0., 0., 0., 0., 0., 0., 0., 0., 0., 0., 0., 0., 0., 0., 0.,\n",
              "        0., 0., 0., 0., 0., 0., 0., 0., 0., 0., 0., 0., 0., 0., 0., 0., 0.,\n",
              "        0., 0., 0., 0., 0., 0., 0., 0., 0., 0., 0., 0., 0., 0., 0., 0., 0.,\n",
              "        0., 0., 0., 0., 0., 0., 0., 0., 0., 0., 0., 0., 0., 0., 0., 0., 0.,\n",
              "        0., 0., 0., 0., 0., 0., 0., 0., 0., 0., 0., 0., 0., 0., 0., 0., 0.,\n",
              "        0., 0., 0., 0., 0., 0., 0., 0., 0., 0., 0., 0., 0., 0., 0., 0., 0.,\n",
              "        0., 0., 0., 0., 0., 0., 0., 0., 0., 0., 0., 0., 0., 0., 0., 0., 0.,\n",
              "        0., 0., 0., 0., 0., 0., 0., 0., 0., 1., 1., 1., 1., 1., 1., 1., 1.,\n",
              "        1., 1., 1., 1., 1., 1., 1., 1., 1., 1., 1., 1., 1., 1., 1., 1., 1.,\n",
              "        1., 1., 1., 1., 1., 1., 1., 1., 1., 1., 1., 1., 1., 1., 1., 1., 1.,\n",
              "        1., 1., 1., 1., 1., 1., 1., 1., 1., 1., 1., 1., 1., 1., 1., 1., 1.,\n",
              "        1., 1., 1., 1., 1., 1., 1., 1., 1., 1., 1., 1., 1., 1., 1., 1., 1.,\n",
              "        1., 1., 1., 1., 1., 1., 1., 1., 1., 1., 1., 1., 1., 1., 1., 1., 1.,\n",
              "        1., 1., 1., 1., 1., 1., 1., 1., 1., 1., 1., 1., 1., 1., 1., 1., 1.,\n",
              "        1., 1., 1., 1., 1., 1., 1., 1., 1., 1., 1., 1., 1., 1., 1., 1., 1.,\n",
              "        1., 0., 0., 0., 0., 0., 0., 0., 0., 0., 0., 0., 0., 0., 0., 0., 0.,\n",
              "        0., 0., 0., 0., 0., 0., 0., 0., 0., 0., 0., 0., 0., 0., 0., 0., 0.,\n",
              "        0., 0., 0., 0., 0., 0., 0., 0., 0., 0., 0., 0., 0., 0., 0., 0., 0.,\n",
              "        0., 0., 0., 0., 0., 0., 0., 0., 0., 0., 0., 0., 0., 0., 0., 0., 0.,\n",
              "        0., 0., 0., 0., 0., 0., 0., 0., 0., 0., 0., 0., 0., 0., 0., 0., 0.,\n",
              "        0., 0., 0., 0., 0., 0., 0., 0., 0., 0., 0., 0., 0., 0., 0., 0., 0.,\n",
              "        0., 0., 0., 0., 0., 0., 0., 0., 0., 0., 0., 0., 0., 0., 0., 0., 0.,\n",
              "        0., 0., 0., 0., 0., 0., 0., 0., 0., 0., 0., 0., 0., 0., 0., 0., 0.,\n",
              "        0., 0., 0., 0., 0., 0., 0., 0., 0., 0., 0., 0., 0., 0., 0., 0., 0.,\n",
              "        0., 0., 0., 0., 0., 0., 0., 0., 0., 0., 0., 0., 0., 0., 0., 0., 0.,\n",
              "        0., 0., 0., 0., 0., 0., 0., 0., 0., 0., 0., 0., 0., 0., 0., 0., 0.,\n",
              "        0., 0., 0., 0., 0., 0., 0., 0., 0., 0., 0., 0., 0., 0., 0., 0., 0.,\n",
              "        0., 0., 0., 0., 0., 0., 0., 0., 0., 0., 0., 0., 0., 0., 0., 0., 0.,\n",
              "        0., 0., 0., 0., 0., 0., 0., 0., 0., 0., 0., 0., 0., 0., 0., 0., 0.,\n",
              "        0., 0., 0., 0., 0., 0., 0., 0., 0., 0., 0., 0., 0., 0., 0., 0., 0.,\n",
              "        0., 0.], dtype=float32)>,\n",
              " <tf.Variable 'dense_6/kernel:0' shape=(128, 11) dtype=float32, numpy=\n",
              " array([[-0.15495327, -0.14886487, -0.03679328, ...,  0.16773681,\n",
              "          0.1158769 , -0.12527151],\n",
              "        [ 0.14860214,  0.10736002, -0.09361304, ..., -0.04248366,\n",
              "          0.01991993, -0.1881594 ],\n",
              "        [ 0.06237714, -0.16291644,  0.20523466, ...,  0.13494174,\n",
              "          0.17802264,  0.2002189 ],\n",
              "        ...,\n",
              "        [-0.04019472,  0.13976805,  0.16506846, ..., -0.10959645,\n",
              "         -0.16839774, -0.02826065],\n",
              "        [-0.19934966,  0.06760179, -0.2047715 , ..., -0.16834687,\n",
              "          0.02889267, -0.00754629],\n",
              "        [-0.04470767,  0.08143972,  0.15851189, ...,  0.08137254,\n",
              "          0.03930622, -0.2022393 ]], dtype=float32)>,\n",
              " <tf.Variable 'dense_6/bias:0' shape=(11,) dtype=float32, numpy=array([0., 0., 0., 0., 0., 0., 0., 0., 0., 0., 0.], dtype=float32)>]"
            ]
          },
          "metadata": {
            "tags": []
          },
          "execution_count": 38
        }
      ]
    },
    {
      "cell_type": "code",
      "metadata": {
        "id": "3ycMzrq--JQA",
        "colab_type": "code",
        "colab": {
          "base_uri": "https://localhost:8080/",
          "height": 161
        },
        "outputId": "85deaf5f-a12b-4783-f65e-54dbe1c65421"
      },
      "source": [
        "#  현재 샘플과 다음 샘플 간의 순차적인 관계가 없을 경우에는 상태가 유지되지 않고 초기화가 되어야 함. 예를들어......\n",
        " # 1) 마지막 샘플 학습이 마치고, 새로운 에포크 수행 시에는 새로운 샘플 학습을 해야하므로 상태 초기화 필요 (현재 모델에 해당)\n",
        " # 2) 한 에포크 안에 여러 시퀀스 데이터 세트가 있을 경우, 새로운 시퀀스 데이터 세트를 학습 전에 상태 초기화 필요\n",
        " \n",
        "num_epochs = 2\n",
        "\n",
        "for epoch_idx in range(num_epochs):\n",
        "    print ('epochs : ' + str(epoch_idx) )\n",
        "    #model.fit(slstm_x_train, slstm_y_train, epochs=1, batch_size=1, verbose=2, shuffle=False)\n",
        "    history = model.fit(slstm_x_train, slstm_y_train, epochs=1, batch_size=1, verbose=1, shuffle=False, validation_split=0.2)\n",
        "    model.reset_states()"
      ],
      "execution_count": 39,
      "outputs": [
        {
          "output_type": "stream",
          "text": [
            "epochs : 0\n",
            "Train on 84 samples, validate on 22 samples\n",
            "Epoch 1/1\n",
            "84/84 [==============================] - 1s 17ms/step - loss: 2.3335 - accuracy: 0.0833 - val_loss: 2.2355 - val_accuracy: 0.0909\n",
            "epochs : 1\n",
            "Train on 84 samples, validate on 22 samples\n",
            "Epoch 1/1\n",
            "84/84 [==============================] - 1s 11ms/step - loss: 2.1793 - accuracy: 0.1190 - val_loss: 2.2383 - val_accuracy: 0.0909\n"
          ],
          "name": "stdout"
        }
      ]
    },
    {
      "cell_type": "code",
      "metadata": {
        "id": "YLs7BawB3Mf3",
        "colab_type": "code",
        "colab": {
          "base_uri": "https://localhost:8080/",
          "height": 281
        },
        "outputId": "72549fad-f108-44c0-a77b-65d7ee66931e"
      },
      "source": [
        "\n",
        "loss = history.history['loss']\n",
        "val_loss = history.history['val_loss']\n",
        "epochs = range(1, len(loss) + 1)\n",
        "\n",
        "plt.figure()\n",
        "\n",
        "plt.plot(epochs, loss, 'b', color='red',label='Training loss')\n",
        "plt.plot(epochs, val_loss, 'b', label='Validation loss')\n",
        "plt.title('Training and validation loss')\n",
        "plt.legend()\n",
        "\n",
        "plt.show()\n"
      ],
      "execution_count": 40,
      "outputs": [
        {
          "output_type": "display_data",
          "data": {
            "image/png": "[encoded data removed]",
            "text/plain": [
              "<Figure size 432x288 with 1 Axes>"
            ]
          },
          "metadata": {
            "tags": [],
            "needs_background": "light"
          }
        }
      ]
    },
    {
      "cell_type": "code",
      "metadata": {
        "id": "aA7vMoU1wx5b",
        "colab_type": "code",
        "colab": {
          "base_uri": "https://localhost:8080/",
          "height": 53
        },
        "outputId": "eb6b403b-6085-4890-850a-3d09063ab8bf"
      },
      "source": [
        "scores = model.evaluate(slstm_x_train, slstm_y_train, batch_size=1)\n",
        "print(\"%s: %.2f%%\" %(model.metrics_names[1], scores[1]*100))\n",
        "model.reset_states()"
      ],
      "execution_count": 41,
      "outputs": [
        {
          "output_type": "stream",
          "text": [
            "106/106 [==============================] - 0s 1ms/step\n",
            "accuracy: 16.04%\n"
          ],
          "name": "stdout"
        }
      ]
    },
    {
      "cell_type": "code",
      "metadata": {
        "id": "14InSoIBxOTj",
        "colab_type": "code",
        "colab": {}
      },
      "source": [
        "pred_count = 106 # 최대 예측 개수 정의"
      ],
      "execution_count": 42,
      "outputs": []
    },
    {
      "cell_type": "code",
      "metadata": {
        "id": "8c1o84bzxFG2",
        "colab_type": "code",
        "colab": {
          "base_uri": "https://localhost:8080/",
          "height": 55
        },
        "outputId": "2c883fd1-893a-4a88-b7fb-6da589d814d8"
      },
      "source": [
        "one_step_seq_out = ['g4','e8','f8','g4']\n",
        "pred_out = model.predict(slstm_x_train, batch_size=1)\n",
        "\n",
        "for i in range(pred_count):\n",
        "    idx = np.argmax(pred_out[i]) # 인덱스의 최대값을 뽑아옴. \n",
        "    one_step_seq_out.append(idx2code[idx]) # seq_out는 최종 악보이므로 인덱스 값을 코드로 변환하여 저장\n",
        "\n",
        "model.reset_states()\n",
        "\n",
        "print(\"one step prediction : \", one_step_seq_out)\n",
        "\n"
      ],
      "execution_count": 43,
      "outputs": [
        {
          "output_type": "stream",
          "text": [
            "one step prediction :  ['g4', 'e8', 'f8', 'g4', 'e8', 'e8', 'e8', 'e8', 'e8', 'e8', 'e8', 'e8', 'e8', 'e8', 'e8', 'e8', 'e8', 'e8', 'e8', 'e8', 'e8', 'e8', 'e8', 'e8', 'e8', 'e8', 'e8', 'e8', 'e8', 'e8', 'e8', 'e8', 'e8', 'e8', 'e8', 'e8', 'e8', 'e8', 'e8', 'e8', 'e8', 'e8', 'e8', 'e8', 'e8', 'e8', 'e8', 'e8', 'e8', 'e8', 'e8', 'e8', 'e8', 'e8', 'e8', 'e8', 'e8', 'e8', 'e8', 'e8', 'e8', 'e8', 'e8', 'e8', 'e8', 'e8', 'e8', 'e8', 'e8', 'e8', 'e8', 'e8', 'e8', 'e8', 'e8', 'e8', 'e8', 'e8', 'e8', 'e8', 'e8', 'e8', 'e8', 'e8', 'e8', 'e8', 'e8', 'e8', 'e8', 'e8', 'e8', 'e8', 'e8', 'e8', 'e8', 'e8', 'e8', 'e8', 'e8', 'e8', 'e8', 'e8', 'e8', 'e8', 'e8', 'e8', 'e8', 'e8', 'e8', 'e8']\n"
          ],
          "name": "stdout"
        }
      ]
    },
    {
      "cell_type": "code",
      "metadata": {
        "id": "nJZXN24lxQie",
        "colab_type": "code",
        "colab": {
          "base_uri": "https://localhost:8080/",
          "height": 55
        },
        "outputId": "00aa6ddb-0e20-4a72-d615-78758db5714f"
      },
      "source": [
        "# 곡 전체 예측\n",
        "\n",
        "seq_in = ['g4','e8','f8','g4']\n",
        "full_seq_out = seq_in\n",
        "seq_in = [code2idx[it] / float(max_idx_value) for it in seq_in] # 코드를 인덱스값으로 변환\n",
        "\n",
        "for i in range(pred_count):\n",
        "    sample_in = np.array(seq_in)  # [0.9 0.7 0.8 0.9]\n",
        "    sample_in = np.reshape(sample_in, (1, 4, 1)) # [[0.9 0.7 0.8 0.9]], batch_size, feature, attribute\n",
        "    pred_out = model.predict(sample_in) # [[0.9 0.7 0.8 0.9]] 이것만 갖고 예측하도록 만든 곳......\n",
        "    idx = np.argmax(pred_out)  # 10\n",
        "    full_seq_out.append(idx2code[idx]) \n",
        "    seq_in.append(idx / float(max_idx_value))  # 10/10.0\n",
        "    seq_in.pop(0)\n",
        "   \n",
        "\n",
        "model.reset_states()\n",
        "\n",
        "print(\"full song prediction : \", full_seq_out)\n"
      ],
      "execution_count": 44,
      "outputs": [
        {
          "output_type": "stream",
          "text": [
            "full song prediction :  ['g4', 'e8', 'f8', 'g4', 'e8', 'e8', 'e8', 'e8', 'e8', 'e8', 'e8', 'e8', 'e8', 'e8', 'e8', 'e8', 'e8', 'e8', 'e8', 'e8', 'e8', 'e8', 'e8', 'e8', 'e8', 'e8', 'e8', 'e8', 'e8', 'e8', 'e8', 'e8', 'e8', 'e8', 'e8', 'e8', 'e8', 'e8', 'e8', 'e8', 'e8', 'e8', 'e8', 'e8', 'e8', 'e8', 'e8', 'e8', 'e8', 'e8', 'e8', 'e8', 'e8', 'e8', 'e8', 'e8', 'e8', 'e8', 'e8', 'e8', 'e8', 'e8', 'e8', 'e8', 'e8', 'e8', 'e8', 'e8', 'e8', 'e8', 'e8', 'e8', 'e8', 'e8', 'e8', 'e8', 'e8', 'e8', 'e8', 'e8', 'e8', 'e8', 'e8', 'e8', 'e8', 'e8', 'e8', 'e8', 'e8', 'e8', 'e8', 'e8', 'e8', 'e8', 'e8', 'e8', 'e8', 'e8', 'e8', 'e8', 'e8', 'e8', 'e8', 'e8', 'e8', 'e8', 'e8', 'e8', 'e8', 'e8']\n"
          ],
          "name": "stdout"
        }
      ]
    },
    {
      "cell_type": "markdown",
      "metadata": {
        "id": "KsCLoS0wyMF3",
        "colab_type": "text"
      },
      "source": [
        "# GRU 구현\n",
        "\n",
        "GRU 이해\n",
        "https://it-ist.tistory.com/27"
      ]
    },
    {
      "cell_type": "code",
      "metadata": {
        "id": "jNg0jeXnyNgV",
        "colab_type": "code",
        "colab": {
          "base_uri": "https://localhost:8080/",
          "height": 35
        },
        "outputId": "2d28d02e-72ce-4d9c-9366-d4979224161a"
      },
      "source": [
        "gru_x_train = dataset[:,0:4]   #  학습필요.  행 : 전체, 로우 : 0,1,2,3 가져옴.\n",
        "gru_y_train = dataset[:,4] \n",
        "\n",
        "\n",
        "# 입력값 정규화 시키기\n",
        "gru_x_train = gru_x_train / float(max_idx_value)   # 10.0\n",
        "\n",
        "\n",
        "\n",
        "# 입력을 (샘플 수, 타입스텝, 특성 수)로 형태 변환\n",
        "gru_x_train = np.reshape(gru_x_train, (106, 4, 1)) # 정말 중요 !!!!\n",
        "# 정말 중요 !!!!\n",
        "\n",
        "# y값에 대한 라벨값에 대한 one-hot 인코딩 수행 이유 : 구분되야 하는 값이 3개가 넘어가므로 원핫인코딩 해줌. 2개를 안쓰므로 12개로 해줌.\n",
        "gru_y_train = np_utils.to_categorical(gru_y_train)\n",
        "\n",
        "one_hot_vec_size = gru_y_train.shape[1]  # 이 부분은 12라고 정수로 써줘도 무관.\n",
        "\n",
        "print(\"one hot encoding vector size is \", one_hot_vec_size)"
      ],
      "execution_count": 45,
      "outputs": [
        {
          "output_type": "stream",
          "text": [
            "one hot encoding vector size is  11\n"
          ],
          "name": "stdout"
        }
      ]
    },
    {
      "cell_type": "code",
      "metadata": {
        "id": "1BQrgqhQyZG5",
        "colab_type": "code",
        "colab": {}
      },
      "source": [
        "model = Sequential()\n",
        "model.add(GRU(256,input_shape = (4, 1))) #GRU를 호출\n",
        "Dropout = 0.3\n",
        "model.add(Dense(128, activation='relu'))\n",
        "Dropout = 0.3\n",
        "model.add(Dense(one_hot_vec_size, activation='softmax'))"
      ],
      "execution_count": 46,
      "outputs": []
    },
    {
      "cell_type": "code",
      "metadata": {
        "id": "KTgpbD9uyziF",
        "colab_type": "code",
        "colab": {}
      },
      "source": [
        "model.compile(loss='categorical_crossentropy', optimizer='adam', metrics=['accuracy'])"
      ],
      "execution_count": 47,
      "outputs": []
    },
    {
      "cell_type": "code",
      "metadata": {
        "id": "r8YmQ9ocy8bt",
        "colab_type": "code",
        "colab": {
          "base_uri": "https://localhost:8080/",
          "height": 269
        },
        "outputId": "10d2f82b-9fe2-4186-af13-c5b554d384c7"
      },
      "source": [
        "model.summary()"
      ],
      "execution_count": 48,
      "outputs": [
        {
          "output_type": "stream",
          "text": [
            "Model: \"sequential_4\"\n",
            "_________________________________________________________________\n",
            "Layer (type)                 Output Shape              Param #   \n",
            "=================================================================\n",
            "gru_1 (GRU)                  (None, 256)               198144    \n",
            "_________________________________________________________________\n",
            "dense_7 (Dense)              (None, 128)               32896     \n",
            "_________________________________________________________________\n",
            "dense_8 (Dense)              (None, 11)                1419      \n",
            "=================================================================\n",
            "Total params: 232,459\n",
            "Trainable params: 232,459\n",
            "Non-trainable params: 0\n",
            "_________________________________________________________________\n"
          ],
          "name": "stdout"
        }
      ]
    },
    {
      "cell_type": "code",
      "metadata": {
        "id": "HWQa0ccYzmNA",
        "colab_type": "code",
        "colab": {
          "base_uri": "https://localhost:8080/",
          "height": 1000
        },
        "outputId": "cecfa49e-434a-41a5-acd1-55f2ef64daf4"
      },
      "source": [
        "model.weights\n",
        "\n",
        "#shape(1,768) -> 한개에서 768개.  X -> 히든레이어로\n",
        "#shape(256, 768) -> 레이어에서 레이어로\n",
        "#Shape (768, ) -> 바이어스\n",
        "#shape(256, 128) -> 레이어에서 레이어로\n",
        "#Shape (128, ) -> 바이어스\n",
        "#shape (128, 11) -> 히든레이어에서 y로(출력 레이어)\n",
        "#shape(11, ) -> 히든에서 y로 넘어올 때 보이는 바이어스"
      ],
      "execution_count": 49,
      "outputs": [
        {
          "output_type": "execute_result",
          "data": {
            "text/plain": [
              "[<tf.Variable 'gru_1/kernel:0' shape=(1, 768) dtype=float32, numpy=\n",
              " array([[ 0.04921014,  0.07220829,  0.06886447, -0.05190243,  0.06971536,\n",
              "         -0.01800396,  0.03188157,  0.08645747, -0.06336058,  0.07779887,\n",
              "         -0.08086405,  0.05243935, -0.07364402, -0.01243888,  0.0159766 ,\n",
              "          0.01309318,  0.02931271,  0.02859196,  0.05644164, -0.02093201,\n",
              "         -0.0715626 , -0.07492268,  0.02453733, -0.01932675, -0.08196156,\n",
              "          0.03755195, -0.03037125, -0.0362368 , -0.02586801,  0.06136083,\n",
              "         -0.05181141,  0.07805369, -0.08147365,  0.07141925, -0.01210925,\n",
              "          0.08480457, -0.03757534,  0.06876255,  0.05324978, -0.02472213,\n",
              "         -0.02049317, -0.05413815, -0.0017724 , -0.04239201,  0.0086778 ,\n",
              "         -0.02512827,  0.02317209, -0.05649667, -0.02691038,  0.04285672,\n",
              "         -0.04826418,  0.08333457,  0.078462  , -0.05748953, -0.021795  ,\n",
              "         -0.06646264, -0.05035709, -0.05375015, -0.06555675, -0.00274084,\n",
              "          0.01198409,  0.06662489,  0.01776031, -0.02372472,  0.06357927,\n",
              "          0.02163347,  0.07255622,  0.03074902, -0.08357918, -0.06859847,\n",
              "         -0.00130345, -0.00657728,  0.01024848, -0.06499345, -0.03179428,\n",
              "          0.05580848,  0.06638729, -0.01898481,  0.07608127,  0.05099542,\n",
              "         -0.05651025, -0.02439657, -0.05568545, -0.00674499,  0.08673746,\n",
              "         -0.04660667, -0.01635131,  0.04413291, -0.00364371,  0.07434847,\n",
              "         -0.08053657,  0.00700798, -0.03703124, -0.07593351, -0.04701496,\n",
              "         -0.0584467 ,  0.03782443,  0.08756968,  0.04113986,  0.05992744,\n",
              "         -0.03595768,  0.07881206, -0.00495076,  0.05095468,  0.07480683,\n",
              "          0.06809076, -0.06465735, -0.06108706, -0.05062221,  0.07760324,\n",
              "          0.07105892, -0.01202493,  0.04138613, -0.00313194, -0.02212014,\n",
              "         -0.06843168,  0.01018109, -0.07082914, -0.01398279,  0.08071364,\n",
              "         -0.00381575, -0.00435418,  0.0464894 ,  0.04678995, -0.06534909,\n",
              "          0.03140684,  0.07433895, -0.02902219,  0.06993312, -0.07827939,\n",
              "          0.02761476,  0.0368866 ,  0.08231058, -0.03780388,  0.02505329,\n",
              "          0.06649785, -0.05143866,  0.07977801,  0.03773042,  0.06826817,\n",
              "          0.0207077 ,  0.03715714,  0.02529813,  0.00802148,  0.0353913 ,\n",
              "          0.06747483,  0.06802564, -0.00740904,  0.00637545,  0.02069064,\n",
              "          0.08418225,  0.06708177,  0.08588096, -0.04850388,  0.07700986,\n",
              "          0.04588937,  0.08462513,  0.06441361, -0.05434161, -0.08329061,\n",
              "          0.08321164, -0.04013982,  0.05334642, -0.04514774, -0.02862083,\n",
              "          0.04225072,  0.05995428, -0.0318714 ,  0.08315156,  0.01780441,\n",
              "          0.02805622,  0.06189961,  0.05531   , -0.02535754, -0.04734262,\n",
              "          0.00054001, -0.00625427,  0.01590581, -0.0883289 , -0.05718233,\n",
              "          0.01407882,  0.05340382,  0.03257557,  0.05022686,  0.02014951,\n",
              "         -0.00808182, -0.03229202,  0.00962181,  0.07677709,  0.00678363,\n",
              "          0.08123828, -0.04859696, -0.00317806, -0.01931416,  0.01734377,\n",
              "          0.04281794,  0.02634141, -0.01329757,  0.06576971, -0.01979554,\n",
              "         -0.04503132, -0.03084194,  0.04410275,  0.07255959,  0.0048705 ,\n",
              "         -0.01070015, -0.06569046, -0.00619943,  0.04863919, -0.04751984,\n",
              "         -0.01312077, -0.00319872,  0.00932942, -0.04137967,  0.06975982,\n",
              "          0.05952934, -0.06906882,  0.08195811,  0.01503449, -0.03201275,\n",
              "         -0.05780046, -0.0038148 ,  0.00013885, -0.04239515,  0.05202544,\n",
              "         -0.02760809,  0.01429354, -0.0074575 , -0.0329711 ,  0.06936366,\n",
              "          0.06065536,  0.01134948,  0.01149426, -0.05510511, -0.0810746 ,\n",
              "          0.06788958, -0.04476567,  0.06044989,  0.02031968, -0.0167266 ,\n",
              "          0.00443046, -0.04826841, -0.06749892, -0.01253182,  0.05402128,\n",
              "          0.00028538,  0.02577659, -0.07304001,  0.00941951,  0.04444946,\n",
              "         -0.07002658, -0.08309695,  0.03810088, -0.04795068, -0.07439911,\n",
              "         -0.04970668,  0.04680649,  0.02673988, -0.06872464, -0.00532716,\n",
              "          0.05782592,  0.00011562,  0.04025758,  0.06553975, -0.06534944,\n",
              "          0.06057823, -0.07677928, -0.01920061,  0.05648042, -0.02719275,\n",
              "         -0.02242957,  0.06455471,  0.04828847, -0.04782095, -0.01612309,\n",
              "         -0.06372295, -0.05240209,  0.027801  , -0.02063265, -0.00584386,\n",
              "         -0.07432697, -0.07660188, -0.03574257,  0.03972263,  0.01820526,\n",
              "          0.00758243,  0.06294181,  0.06424867, -0.05279829, -0.00457038,\n",
              "         -0.03977833,  0.01925966, -0.06739383, -0.03851776,  0.05851591,\n",
              "         -0.00453325,  0.02643967,  0.00380199, -0.02393734,  0.07292003,\n",
              "          0.08407102,  0.01335563,  0.0466729 , -0.07448736, -0.05635648,\n",
              "         -0.04349885,  0.07671472, -0.0743487 , -0.03512729,  0.08632012,\n",
              "          0.05356803, -0.06057316,  0.03555849,  0.00192905, -0.06335352,\n",
              "         -0.01725033,  0.04053325, -0.05296854,  0.05681964, -0.08401934,\n",
              "          0.08202177, -0.07775302, -0.07871318,  0.05946999,  0.04681767,\n",
              "          0.06017736, -0.05985161,  0.0326422 , -0.00407491, -0.02908317,\n",
              "         -0.03339254,  0.07718908, -0.04354592,  0.00601312,  0.06706742,\n",
              "          0.01141879, -0.01527552, -0.06055418, -0.07623357,  0.03989523,\n",
              "         -0.02059519, -0.02756218, -0.08495142, -0.06383674, -0.04527565,\n",
              "         -0.04615153, -0.07454864,  0.07578702,  0.07772063,  0.01977364,\n",
              "          0.00441102, -0.01109409, -0.07182293, -0.00670316,  0.07376935,\n",
              "          0.04871867,  0.07485858, -0.03181155,  0.01530614, -0.07584172,\n",
              "         -0.05049345, -0.06641401,  0.00797535,  0.03006513,  0.08690801,\n",
              "         -0.05024027,  0.0330869 ,  0.05042876,  0.04269642, -0.00356928,\n",
              "          0.05180965,  0.01300318, -0.02694433, -0.03833861,  0.0561899 ,\n",
              "         -0.06371264, -0.03939298,  0.04276998,  0.07349613, -0.03494738,\n",
              "          0.03857226, -0.07182831, -0.06598432,  0.06192674,  0.01481848,\n",
              "         -0.06493799,  0.08746926, -0.02832919,  0.05385762,  0.05791768,\n",
              "          0.00585458, -0.05420986, -0.06395729, -0.07085446,  0.0253245 ,\n",
              "         -0.08646802,  0.03808237, -0.08543742, -0.06573639, -0.04756746,\n",
              "          0.03063854, -0.00467756,  0.03261776,  0.00476228,  0.03470463,\n",
              "         -0.08676685,  0.03982014, -0.05534334,  0.02877006,  0.07778341,\n",
              "          0.00763223,  0.04185314, -0.01281027, -0.08745143, -0.00479932,\n",
              "         -0.04307618, -0.06957029,  0.04893177,  0.03961087,  0.02955053,\n",
              "         -0.04505889,  0.06958445,  0.06020605,  0.06957366, -0.06907111,\n",
              "         -0.02297327,  0.05811127, -0.08715122,  0.05549596, -0.00392446,\n",
              "         -0.05840557,  0.06829048,  0.00921582, -0.06811439, -0.00525686,\n",
              "          0.04760591, -0.05638596, -0.08101816,  0.05467869, -0.03570111,\n",
              "         -0.03952812, -0.07564343, -0.04258155, -0.04098411,  0.02268523,\n",
              "          0.06489191,  0.04522332,  0.04159499,  0.05883703, -0.0679592 ,\n",
              "         -0.06814078,  0.01444547, -0.08391859,  0.02802531, -0.06822761,\n",
              "         -0.00544853, -0.0108375 ,  0.02592628,  0.05109527,  0.0481657 ,\n",
              "         -0.04014007, -0.04469495, -0.06159045,  0.0850151 ,  0.03590351,\n",
              "         -0.03850049, -0.00144946,  0.05089433, -0.0187868 , -0.00835431,\n",
              "         -0.04618165, -0.02929308,  0.02773698,  0.05458493, -0.01804651,\n",
              "          0.00873317, -0.05254867,  0.07925475,  0.0438237 , -0.03661335,\n",
              "         -0.02251817, -0.03254544,  0.08322661,  0.03754146, -0.05964416,\n",
              "         -0.0059575 ,  0.08285912, -0.0829063 , -0.04307079,  0.04826928,\n",
              "         -0.07567211, -0.06194926, -0.03587329, -0.03849047, -0.02060005,\n",
              "          0.06998672, -0.02570033, -0.01016574,  0.02126212, -0.00857124,\n",
              "         -0.06467243, -0.02527684,  0.05617353,  0.02333347, -0.02899949,\n",
              "         -0.07193917, -0.03088062, -0.0683749 , -0.00926945,  0.07574644,\n",
              "         -0.00010405,  0.0126499 , -0.07055654, -0.05963082, -0.07148142,\n",
              "          0.06528778,  0.01037598, -0.04063134, -0.05896816,  0.07497732,\n",
              "         -0.02305587, -0.0121356 ,  0.0851643 , -0.01492365,  0.06758108,\n",
              "          0.00086505, -0.04037582, -0.04342893, -0.08816309,  0.0808659 ,\n",
              "          0.00355343,  0.04761068, -0.06786671, -0.07798018,  0.07918046,\n",
              "          0.04853942, -0.05185395,  0.01014347,  0.01540445,  0.07371876,\n",
              "          0.00516264,  0.00171357, -0.00048698,  0.039972  ,  0.04335169,\n",
              "         -0.03195043,  0.01675101, -0.02032256, -0.05522547,  0.07893638,\n",
              "          0.06393861,  0.00336153,  0.01280002,  0.07873664, -0.06525356,\n",
              "         -0.03016198, -0.06538293,  0.00333562,  0.07008392, -0.06331918,\n",
              "          0.03115054, -0.05108894,  0.01201659, -0.03169418,  0.01224909,\n",
              "          0.0760593 , -0.05013447, -0.02498146,  0.04137865, -0.05009054,\n",
              "          0.03008747,  0.07642675, -0.04641014,  0.03577621, -0.00896409,\n",
              "         -0.00110111,  0.08674582, -0.01485097,  0.02020951,  0.08441552,\n",
              "         -0.06617235, -0.00620331,  0.07625804, -0.01184091,  0.01455662,\n",
              "          0.01410194,  0.04028825,  0.0653399 , -0.0042134 , -0.05994495,\n",
              "         -0.02686203,  0.02240432,  0.04596273, -0.02192957,  0.04368068,\n",
              "         -0.0378465 , -0.03682218, -0.07990394, -0.00222317, -0.03885592,\n",
              "         -0.00517528, -0.07690249, -0.05367391, -0.042418  , -0.05370116,\n",
              "         -0.06565571, -0.07203883, -0.05000737,  0.01913256, -0.06508868,\n",
              "         -0.04589529,  0.08505989, -0.06421202, -0.02267514,  0.08543979,\n",
              "          0.00824313, -0.02714631,  0.06648549, -0.05207874,  0.0319458 ,\n",
              "         -0.08806024, -0.04020843,  0.03901512,  0.08765825, -0.01971918,\n",
              "         -0.04754002, -0.08058286,  0.06228489, -0.0572468 ,  0.02353095,\n",
              "         -0.01640166,  0.08121874, -0.01541556, -0.02712769, -0.06431543,\n",
              "          0.08489222, -0.01473814, -0.07863954, -0.08197702, -0.07607937,\n",
              "          0.04491436,  0.00175474,  0.03733138, -0.07250303,  0.05370974,\n",
              "         -0.05684315,  0.00445385,  0.0186412 , -0.05851683,  0.05502003,\n",
              "          0.06951355, -0.00428431, -0.0692706 ,  0.05828959, -0.01446792,\n",
              "         -0.02006656,  0.06133295, -0.08132583,  0.05552114, -0.05937206,\n",
              "         -0.01749066,  0.04653551,  0.05601437,  0.07194703,  0.05715024,\n",
              "         -0.05098046, -0.00334186,  0.03874635,  0.04461428, -0.04255145,\n",
              "         -0.05435073,  0.0418062 , -0.08167708,  0.0406831 ,  0.0617611 ,\n",
              "          0.06226438,  0.05196419,  0.07335085, -0.00158936,  0.02028148,\n",
              "         -0.06580258, -0.05782177, -0.01013893, -0.01579893,  0.0707612 ,\n",
              "          0.03239734, -0.02282688, -0.05233123, -0.03948627,  0.02238224,\n",
              "         -0.03897358,  0.02018824,  0.03228164,  0.04220503,  0.02828851,\n",
              "         -0.02096992, -0.00683244, -0.03443049, -0.02384564,  0.0195175 ,\n",
              "         -0.08557368,  0.08535493,  0.06265663, -0.06125189, -0.07665314,\n",
              "          0.01366603, -0.01629266,  0.05237996, -0.08741819, -0.01351792,\n",
              "         -0.01685121,  0.05505075,  0.01130827, -0.00974441,  0.08341383,\n",
              "          0.014857  , -0.02094505, -0.05131535,  0.02452482, -0.0727656 ,\n",
              "         -0.06277889,  0.07365461,  0.05409767, -0.06291945,  0.06236693,\n",
              "         -0.03494645,  0.03749295,  0.05784669,  0.02026398,  0.03227837,\n",
              "         -0.02096278,  0.04265191,  0.05891045,  0.01213065,  0.06910496,\n",
              "         -0.03178594, -0.07661607,  0.01869753,  0.00423759, -0.06197748,\n",
              "         -0.04715399, -0.02519067, -0.04144327, -0.06009157, -0.02763982,\n",
              "          0.05414159,  0.08187001,  0.06716744, -0.04456571, -0.06579094,\n",
              "         -0.02989347,  0.01992279, -0.07653007,  0.01043957, -0.03683772,\n",
              "         -0.02593325, -0.00154783,  0.04482577,  0.07127661, -0.03522827,\n",
              "          0.0063797 , -0.00237653,  0.05872063, -0.03741111,  0.01744679,\n",
              "          0.08776098, -0.01667424, -0.00535961]], dtype=float32)>,\n",
              " <tf.Variable 'gru_1/recurrent_kernel:0' shape=(256, 768) dtype=float32, numpy=\n",
              " array([[ 0.06991972, -0.03397088,  0.03386964, ..., -0.02469888,\n",
              "         -0.01050543, -0.0054177 ],\n",
              "        [-0.00892148,  0.03367973, -0.02464885, ...,  0.0165314 ,\n",
              "         -0.00776899, -0.0103619 ],\n",
              "        [-0.02400255, -0.01269734,  0.07387166, ...,  0.01799576,\n",
              "          0.05279814, -0.00206613],\n",
              "        ...,\n",
              "        [ 0.03852737, -0.00519712, -0.05346568, ..., -0.0460299 ,\n",
              "         -0.01976767,  0.00563833],\n",
              "        [ 0.01455927,  0.02766004, -0.00516034, ..., -0.03650172,\n",
              "          0.03188919, -0.03452572],\n",
              "        [-0.03706405,  0.07915234, -0.0297339 , ...,  0.00853777,\n",
              "          0.0654306 ,  0.03057472]], dtype=float32)>,\n",
              " <tf.Variable 'gru_1/bias:0' shape=(768,) dtype=float32, numpy=\n",
              " array([0., 0., 0., 0., 0., 0., 0., 0., 0., 0., 0., 0., 0., 0., 0., 0., 0.,\n",
              "        0., 0., 0., 0., 0., 0., 0., 0., 0., 0., 0., 0., 0., 0., 0., 0., 0.,\n",
              "        0., 0., 0., 0., 0., 0., 0., 0., 0., 0., 0., 0., 0., 0., 0., 0., 0.,\n",
              "        0., 0., 0., 0., 0., 0., 0., 0., 0., 0., 0., 0., 0., 0., 0., 0., 0.,\n",
              "        0., 0., 0., 0., 0., 0., 0., 0., 0., 0., 0., 0., 0., 0., 0., 0., 0.,\n",
              "        0., 0., 0., 0., 0., 0., 0., 0., 0., 0., 0., 0., 0., 0., 0., 0., 0.,\n",
              "        0., 0., 0., 0., 0., 0., 0., 0., 0., 0., 0., 0., 0., 0., 0., 0., 0.,\n",
              "        0., 0., 0., 0., 0., 0., 0., 0., 0., 0., 0., 0., 0., 0., 0., 0., 0.,\n",
              "        0., 0., 0., 0., 0., 0., 0., 0., 0., 0., 0., 0., 0., 0., 0., 0., 0.,\n",
              "        0., 0., 0., 0., 0., 0., 0., 0., 0., 0., 0., 0., 0., 0., 0., 0., 0.,\n",
              "        0., 0., 0., 0., 0., 0., 0., 0., 0., 0., 0., 0., 0., 0., 0., 0., 0.,\n",
              "        0., 0., 0., 0., 0., 0., 0., 0., 0., 0., 0., 0., 0., 0., 0., 0., 0.,\n",
              "        0., 0., 0., 0., 0., 0., 0., 0., 0., 0., 0., 0., 0., 0., 0., 0., 0.,\n",
              "        0., 0., 0., 0., 0., 0., 0., 0., 0., 0., 0., 0., 0., 0., 0., 0., 0.,\n",
              "        0., 0., 0., 0., 0., 0., 0., 0., 0., 0., 0., 0., 0., 0., 0., 0., 0.,\n",
              "        0., 0., 0., 0., 0., 0., 0., 0., 0., 0., 0., 0., 0., 0., 0., 0., 0.,\n",
              "        0., 0., 0., 0., 0., 0., 0., 0., 0., 0., 0., 0., 0., 0., 0., 0., 0.,\n",
              "        0., 0., 0., 0., 0., 0., 0., 0., 0., 0., 0., 0., 0., 0., 0., 0., 0.,\n",
              "        0., 0., 0., 0., 0., 0., 0., 0., 0., 0., 0., 0., 0., 0., 0., 0., 0.,\n",
              "        0., 0., 0., 0., 0., 0., 0., 0., 0., 0., 0., 0., 0., 0., 0., 0., 0.,\n",
              "        0., 0., 0., 0., 0., 0., 0., 0., 0., 0., 0., 0., 0., 0., 0., 0., 0.,\n",
              "        0., 0., 0., 0., 0., 0., 0., 0., 0., 0., 0., 0., 0., 0., 0., 0., 0.,\n",
              "        0., 0., 0., 0., 0., 0., 0., 0., 0., 0., 0., 0., 0., 0., 0., 0., 0.,\n",
              "        0., 0., 0., 0., 0., 0., 0., 0., 0., 0., 0., 0., 0., 0., 0., 0., 0.,\n",
              "        0., 0., 0., 0., 0., 0., 0., 0., 0., 0., 0., 0., 0., 0., 0., 0., 0.,\n",
              "        0., 0., 0., 0., 0., 0., 0., 0., 0., 0., 0., 0., 0., 0., 0., 0., 0.,\n",
              "        0., 0., 0., 0., 0., 0., 0., 0., 0., 0., 0., 0., 0., 0., 0., 0., 0.,\n",
              "        0., 0., 0., 0., 0., 0., 0., 0., 0., 0., 0., 0., 0., 0., 0., 0., 0.,\n",
              "        0., 0., 0., 0., 0., 0., 0., 0., 0., 0., 0., 0., 0., 0., 0., 0., 0.,\n",
              "        0., 0., 0., 0., 0., 0., 0., 0., 0., 0., 0., 0., 0., 0., 0., 0., 0.,\n",
              "        0., 0., 0., 0., 0., 0., 0., 0., 0., 0., 0., 0., 0., 0., 0., 0., 0.,\n",
              "        0., 0., 0., 0., 0., 0., 0., 0., 0., 0., 0., 0., 0., 0., 0., 0., 0.,\n",
              "        0., 0., 0., 0., 0., 0., 0., 0., 0., 0., 0., 0., 0., 0., 0., 0., 0.,\n",
              "        0., 0., 0., 0., 0., 0., 0., 0., 0., 0., 0., 0., 0., 0., 0., 0., 0.,\n",
              "        0., 0., 0., 0., 0., 0., 0., 0., 0., 0., 0., 0., 0., 0., 0., 0., 0.,\n",
              "        0., 0., 0., 0., 0., 0., 0., 0., 0., 0., 0., 0., 0., 0., 0., 0., 0.,\n",
              "        0., 0., 0., 0., 0., 0., 0., 0., 0., 0., 0., 0., 0., 0., 0., 0., 0.,\n",
              "        0., 0., 0., 0., 0., 0., 0., 0., 0., 0., 0., 0., 0., 0., 0., 0., 0.,\n",
              "        0., 0., 0., 0., 0., 0., 0., 0., 0., 0., 0., 0., 0., 0., 0., 0., 0.,\n",
              "        0., 0., 0., 0., 0., 0., 0., 0., 0., 0., 0., 0., 0., 0., 0., 0., 0.,\n",
              "        0., 0., 0., 0., 0., 0., 0., 0., 0., 0., 0., 0., 0., 0., 0., 0., 0.,\n",
              "        0., 0., 0., 0., 0., 0., 0., 0., 0., 0., 0., 0., 0., 0., 0., 0., 0.,\n",
              "        0., 0., 0., 0., 0., 0., 0., 0., 0., 0., 0., 0., 0., 0., 0., 0., 0.,\n",
              "        0., 0., 0., 0., 0., 0., 0., 0., 0., 0., 0., 0., 0., 0., 0., 0., 0.,\n",
              "        0., 0., 0., 0., 0., 0., 0., 0., 0., 0., 0., 0., 0., 0., 0., 0., 0.,\n",
              "        0., 0., 0.], dtype=float32)>,\n",
              " <tf.Variable 'dense_7/kernel:0' shape=(256, 128) dtype=float32, numpy=\n",
              " array([[ 0.06125277, -0.10016635,  0.0627754 , ..., -0.05805916,\n",
              "          0.09220889,  0.0203822 ],\n",
              "        [-0.03259471,  0.11064062, -0.00781935, ..., -0.05914357,\n",
              "          0.03506657, -0.11737701],\n",
              "        [ 0.10967949,  0.02049941, -0.10221213, ..., -0.09792066,\n",
              "          0.06985378,  0.05810389],\n",
              "        ...,\n",
              "        [ 0.01180094, -0.01886371, -0.07480505, ...,  0.06071103,\n",
              "         -0.07087964, -0.10527819],\n",
              "        [ 0.06990692,  0.08021626, -0.03917879, ...,  0.03359976,\n",
              "          0.07039097,  0.0621604 ],\n",
              "        [ 0.026539  , -0.09450263, -0.03970584, ...,  0.09320194,\n",
              "         -0.00645187,  0.07280949]], dtype=float32)>,\n",
              " <tf.Variable 'dense_7/bias:0' shape=(128,) dtype=float32, numpy=\n",
              " array([0., 0., 0., 0., 0., 0., 0., 0., 0., 0., 0., 0., 0., 0., 0., 0., 0.,\n",
              "        0., 0., 0., 0., 0., 0., 0., 0., 0., 0., 0., 0., 0., 0., 0., 0., 0.,\n",
              "        0., 0., 0., 0., 0., 0., 0., 0., 0., 0., 0., 0., 0., 0., 0., 0., 0.,\n",
              "        0., 0., 0., 0., 0., 0., 0., 0., 0., 0., 0., 0., 0., 0., 0., 0., 0.,\n",
              "        0., 0., 0., 0., 0., 0., 0., 0., 0., 0., 0., 0., 0., 0., 0., 0., 0.,\n",
              "        0., 0., 0., 0., 0., 0., 0., 0., 0., 0., 0., 0., 0., 0., 0., 0., 0.,\n",
              "        0., 0., 0., 0., 0., 0., 0., 0., 0., 0., 0., 0., 0., 0., 0., 0., 0.,\n",
              "        0., 0., 0., 0., 0., 0., 0., 0., 0.], dtype=float32)>,\n",
              " <tf.Variable 'dense_8/kernel:0' shape=(128, 11) dtype=float32, numpy=\n",
              " array([[ 0.03951675,  0.03064278, -0.15516195, ...,  0.0060129 ,\n",
              "         -0.04926291,  0.02097863],\n",
              "        [-0.15011558, -0.11409825,  0.1398008 , ...,  0.08616818,\n",
              "          0.06615989,  0.04870529],\n",
              "        [ 0.20116271, -0.07153746,  0.00594023, ..., -0.07104956,\n",
              "          0.05189706,  0.11015768],\n",
              "        ...,\n",
              "        [-0.18524157,  0.01323251, -0.09962371, ...,  0.08110134,\n",
              "         -0.14866501,  0.20206924],\n",
              "        [-0.18793565, -0.09253323, -0.11896358, ...,  0.04170637,\n",
              "         -0.01279874, -0.11493538],\n",
              "        [ 0.00916821, -0.15030573, -0.17753017, ..., -0.00260323,\n",
              "          0.05450957,  0.01093341]], dtype=float32)>,\n",
              " <tf.Variable 'dense_8/bias:0' shape=(11,) dtype=float32, numpy=array([0., 0., 0., 0., 0., 0., 0., 0., 0., 0., 0.], dtype=float32)>]"
            ]
          },
          "metadata": {
            "tags": []
          },
          "execution_count": 49
        }
      ]
    },
    {
      "cell_type": "code",
      "metadata": {
        "id": "2rML15_Ay8qn",
        "colab_type": "code",
        "colab": {
          "base_uri": "https://localhost:8080/",
          "height": 755
        },
        "outputId": "809a5852-ef0f-477a-8f25-e0a0f909fda0"
      },
      "source": [
        "history = model.fit(gru_x_train, gru_y_train, epochs=20, batch_size=10, verbose=1, validation_split=0.2)"
      ],
      "execution_count": 50,
      "outputs": [
        {
          "output_type": "stream",
          "text": [
            "Train on 84 samples, validate on 22 samples\n",
            "Epoch 1/20\n",
            "84/84 [==============================] - 1s 7ms/step - loss: 2.3727 - accuracy: 0.0952 - val_loss: 2.3286 - val_accuracy: 0.2727\n",
            "Epoch 2/20\n",
            "84/84 [==============================] - 0s 2ms/step - loss: 2.2930 - accuracy: 0.2143 - val_loss: 2.2292 - val_accuracy: 0.2273\n",
            "Epoch 3/20\n",
            "84/84 [==============================] - 0s 2ms/step - loss: 2.1828 - accuracy: 0.1310 - val_loss: 2.1776 - val_accuracy: 0.1818\n",
            "Epoch 4/20\n",
            "84/84 [==============================] - 0s 2ms/step - loss: 2.1424 - accuracy: 0.1429 - val_loss: 2.2007 - val_accuracy: 0.1364\n",
            "Epoch 5/20\n",
            "84/84 [==============================] - 0s 2ms/step - loss: 2.1272 - accuracy: 0.1786 - val_loss: 2.1839 - val_accuracy: 0.2273\n",
            "Epoch 6/20\n",
            "84/84 [==============================] - 0s 2ms/step - loss: 2.1321 - accuracy: 0.2024 - val_loss: 2.2145 - val_accuracy: 0.0909\n",
            "Epoch 7/20\n",
            "84/84 [==============================] - 0s 2ms/step - loss: 2.1224 - accuracy: 0.1786 - val_loss: 2.1805 - val_accuracy: 0.0909\n",
            "Epoch 8/20\n",
            "84/84 [==============================] - 0s 2ms/step - loss: 2.1194 - accuracy: 0.1786 - val_loss: 2.1882 - val_accuracy: 0.0909\n",
            "Epoch 9/20\n",
            "84/84 [==============================] - 0s 2ms/step - loss: 2.1127 - accuracy: 0.1786 - val_loss: 2.1961 - val_accuracy: 0.0909\n",
            "Epoch 10/20\n",
            "84/84 [==============================] - 0s 2ms/step - loss: 2.1088 - accuracy: 0.1786 - val_loss: 2.2107 - val_accuracy: 0.0909\n",
            "Epoch 11/20\n",
            "84/84 [==============================] - 0s 2ms/step - loss: 2.1033 - accuracy: 0.1786 - val_loss: 2.2234 - val_accuracy: 0.0909\n",
            "Epoch 12/20\n",
            "84/84 [==============================] - 0s 2ms/step - loss: 2.0951 - accuracy: 0.2143 - val_loss: 2.2070 - val_accuracy: 0.1818\n",
            "Epoch 13/20\n",
            "84/84 [==============================] - 0s 2ms/step - loss: 2.1015 - accuracy: 0.2024 - val_loss: 2.2069 - val_accuracy: 0.2727\n",
            "Epoch 14/20\n",
            "84/84 [==============================] - 0s 2ms/step - loss: 2.0878 - accuracy: 0.2381 - val_loss: 2.2162 - val_accuracy: 0.2727\n",
            "Epoch 15/20\n",
            "84/84 [==============================] - 0s 2ms/step - loss: 2.0784 - accuracy: 0.2143 - val_loss: 2.2271 - val_accuracy: 0.1818\n",
            "Epoch 16/20\n",
            "84/84 [==============================] - 0s 2ms/step - loss: 2.0729 - accuracy: 0.2738 - val_loss: 2.2237 - val_accuracy: 0.1364\n",
            "Epoch 17/20\n",
            "84/84 [==============================] - 0s 2ms/step - loss: 2.0695 - accuracy: 0.2024 - val_loss: 2.2205 - val_accuracy: 0.2727\n",
            "Epoch 18/20\n",
            "84/84 [==============================] - 0s 2ms/step - loss: 2.0563 - accuracy: 0.2381 - val_loss: 2.1917 - val_accuracy: 0.3182\n",
            "Epoch 19/20\n",
            "84/84 [==============================] - 0s 2ms/step - loss: 2.0417 - accuracy: 0.3095 - val_loss: 2.1930 - val_accuracy: 0.2273\n",
            "Epoch 20/20\n",
            "84/84 [==============================] - 0s 2ms/step - loss: 2.0542 - accuracy: 0.2381 - val_loss: 2.1956 - val_accuracy: 0.2727\n"
          ],
          "name": "stdout"
        }
      ]
    },
    {
      "cell_type": "code",
      "metadata": {
        "id": "9pEAjO3czQ3s",
        "colab_type": "code",
        "colab": {
          "base_uri": "https://localhost:8080/",
          "height": 53
        },
        "outputId": "077d42c0-12c0-493a-8e89-d98dc0da80a3"
      },
      "source": [
        "scores = model.evaluate(gru_x_train, gru_y_train)\n",
        "print(\"%s: %.2f%%\" %(model.metrics_names[1], scores[1]*100))\n",
        "model.reset_states()"
      ],
      "execution_count": 51,
      "outputs": [
        {
          "output_type": "stream",
          "text": [
            "106/106 [==============================] - 0s 175us/step\n",
            "accuracy: 28.30%\n"
          ],
          "name": "stdout"
        }
      ]
    },
    {
      "cell_type": "code",
      "metadata": {
        "id": "lG3dzRWq06bi",
        "colab_type": "code",
        "colab": {
          "base_uri": "https://localhost:8080/",
          "height": 281
        },
        "outputId": "9ece4160-e919-4b2b-9342-e9799e4e5002"
      },
      "source": [
        "loss = history.history['loss']\n",
        "val_loss = history.history['val_loss']\n",
        "\n",
        "epochs = range(1, len(loss) + 1)\n",
        "\n",
        "plt.figure()\n",
        "\n",
        "plt.plot(epochs, loss, 'b', color='red',label='Training loss')\n",
        "plt.plot(epochs, val_loss, 'b', label='Validation loss')\n",
        "plt.title('Training and validation loss')\n",
        "plt.legend()\n",
        "\n",
        "plt.show()\n",
        "\n",
        "\n",
        "# loss 그래프를 살펴보면 Training loss는 점점 하락.\n",
        "# 하지만 Vaildation loss는 높아지는 것을 봤을 때 과적합인것을 의심 가능."
      ],
      "execution_count": 52,
      "outputs": [
        {
          "output_type": "display_data",
          "data": {
            "image/png": "[encoded data removed]",
            "text/plain": [
              "<Figure size 432x288 with 1 Axes>"
            ]
          },
          "metadata": {
            "tags": [],
            "needs_background": "light"
          }
        }
      ]
    },
    {
      "cell_type": "code",
      "metadata": {
        "id": "ccjOoyhozBrk",
        "colab_type": "code",
        "colab": {}
      },
      "source": [
        "pred_count = 106 # 최대 예측 개수 정의"
      ],
      "execution_count": 53,
      "outputs": []
    },
    {
      "cell_type": "code",
      "metadata": {
        "id": "M-x4uDGCzF81",
        "colab_type": "code",
        "colab": {
          "base_uri": "https://localhost:8080/",
          "height": 55
        },
        "outputId": "772167fe-f724-49c6-d3e6-ce61b7b277ef"
      },
      "source": [
        "# 한 스텝 예측\n",
        "\n",
        "one_step_seq_out = ['g4','e8','f8','g4']\n",
        "pred_out = model.predict(gru_x_train)\n",
        "\n",
        "for i in range(pred_count):\n",
        "    idx = np.argmax(pred_out[i]) # 인덱스의 최대값을 뽑아옴. \n",
        "    one_step_seq_out.append(idx2code[idx]) # seq_out는 최종 악보이므로 인덱스 값을 코드로 변환하여 저장\n",
        "    \n",
        "print(\"one step prediction : \", one_step_seq_out)\n"
      ],
      "execution_count": 54,
      "outputs": [
        {
          "output_type": "stream",
          "text": [
            "one step prediction :  ['g4', 'e8', 'f8', 'g4', 'f8', 'f8', 'f8', 'f8', 'f8', 'c8', 'c8', 'e8', 'e8', 'e8', 'f8', 'f8', 'e8', 'e8', 'e8', 'e8', 'f8', 'f8', 'f8', 'e8', 'f8', 'f8', 'f8', 'e8', 'c8', 'c8', 'c8', 'c8', 'c8', 'e8', 'e8', 'f8', 'f8', 'f8', 'f8', 'f8', 'f8', 'c8', 'c8', 'c8', 'c8', 'c8', 'e8', 'e8', 'e8', 'e8', 'c8', 'c8', 'e8', 'e8', 'e8', 'f8', 'f8', 'f8', 'f8', 'f8', 'f8', 'f8', 'f8', 'f8', 'f8', 'c8', 'c8', 'e8', 'e8', 'e8', 'e8', 'f8', 'e8', 'e8', 'e8', 'f8', 'f8', 'f8', 'f8', 'e8', 'f8', 'f8', 'f8', 'e8', 'c8', 'c8', 'c8', 'c8', 'c8', 'e8', 'e8', 'f8', 'f8', 'f8', 'f8', 'f8', 'f8', 'c8', 'c8', 'c8', 'c8', 'c8', 'e8', 'c8', 'e8', 'e8', 'e8', 'e8', 'e8', 'c8']\n"
          ],
          "name": "stdout"
        }
      ]
    },
    {
      "cell_type": "code",
      "metadata": {
        "id": "1htLIqU_zIK-",
        "colab_type": "code",
        "colab": {
          "base_uri": "https://localhost:8080/",
          "height": 55
        },
        "outputId": "564a7942-33fb-4f56-8ab6-5b5e6c3bc887"
      },
      "source": [
        "# 곡 전체 예측\n",
        "\n",
        "seq_in = ['g4','e8','f8','g4']\n",
        "full_seq_out = seq_in\n",
        "seq_in = [code2idx[it] / float(max_idx_value) for it in seq_in] # 코드를 인덱스값으로 변환\n",
        "\n",
        "for i in range(pred_count):\n",
        "    sample_in = np.array(seq_in)  # [0.9 0.7 0.8 0.9]\n",
        "    sample_in = np.reshape(sample_in, (1, 4, 1)) # [[0.9 0.7 0.8 0.9]], batch_size, feature, attribute\n",
        "    pred_out = model.predict(sample_in) # [[0.9 0.7 0.8 0.9]] 이것만 갖고 예측하도록 만든 곳......\n",
        "    idx = np.argmax(pred_out)  # 10\n",
        "    full_seq_out.append(idx2code[idx]) \n",
        "    seq_in.append(idx / float(max_idx_value))  # 10/10.0\n",
        "    seq_in.pop(0)\n",
        "   \n",
        "print(\"full song prediction : \", full_seq_out)"
      ],
      "execution_count": 55,
      "outputs": [
        {
          "output_type": "stream",
          "text": [
            "full song prediction :  ['g4', 'e8', 'f8', 'g4', 'f8', 'f8', 'f8', 'f8', 'f8', 'f8', 'f8', 'f8', 'f8', 'f8', 'f8', 'f8', 'f8', 'f8', 'f8', 'f8', 'f8', 'f8', 'f8', 'f8', 'f8', 'f8', 'f8', 'f8', 'f8', 'f8', 'f8', 'f8', 'f8', 'f8', 'f8', 'f8', 'f8', 'f8', 'f8', 'f8', 'f8', 'f8', 'f8', 'f8', 'f8', 'f8', 'f8', 'f8', 'f8', 'f8', 'f8', 'f8', 'f8', 'f8', 'f8', 'f8', 'f8', 'f8', 'f8', 'f8', 'f8', 'f8', 'f8', 'f8', 'f8', 'f8', 'f8', 'f8', 'f8', 'f8', 'f8', 'f8', 'f8', 'f8', 'f8', 'f8', 'f8', 'f8', 'f8', 'f8', 'f8', 'f8', 'f8', 'f8', 'f8', 'f8', 'f8', 'f8', 'f8', 'f8', 'f8', 'f8', 'f8', 'f8', 'f8', 'f8', 'f8', 'f8', 'f8', 'f8', 'f8', 'f8', 'f8', 'f8', 'f8', 'f8', 'f8', 'f8', 'f8', 'f8']\n"
          ],
          "name": "stdout"
        }
      ]
    },
    {
      "cell_type": "code",
      "metadata": {
        "id": "CwsX9-Or1YZ9",
        "colab_type": "code",
        "colab": {}
      },
      "source": [
        ""
      ],
      "execution_count": 55,
      "outputs": []
    }
  ]
}